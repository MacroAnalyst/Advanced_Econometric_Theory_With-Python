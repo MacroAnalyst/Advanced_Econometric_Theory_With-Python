{
 "cells": [
  {
   "cell_type": "code",
   "execution_count": 36,
   "id": "8b336d96-b179-4978-ad97-aad1cee6eac3",
   "metadata": {},
   "outputs": [
    {
     "ename": "ModuleNotFoundError",
     "evalue": "No module named 'arvis'",
     "output_type": "error",
     "traceback": [
      "\u001b[1;31m---------------------------------------------------------------------------\u001b[0m",
      "\u001b[1;31mModuleNotFoundError\u001b[0m                       Traceback (most recent call last)",
      "Input \u001b[1;32mIn [36]\u001b[0m, in \u001b[0;36m<cell line: 10>\u001b[1;34m()\u001b[0m\n\u001b[0;32m      8\u001b[0m \u001b[38;5;28;01mimport\u001b[39;00m \u001b[38;5;21;01mstatsmodels\u001b[39;00m\u001b[38;5;21;01m.\u001b[39;00m\u001b[38;5;21;01mapi\u001b[39;00m \u001b[38;5;28;01mas\u001b[39;00m \u001b[38;5;21;01msm\u001b[39;00m\n\u001b[0;32m      9\u001b[0m \u001b[38;5;28;01mimport\u001b[39;00m \u001b[38;5;21;01mpymc3\u001b[39;00m \u001b[38;5;28;01mas\u001b[39;00m \u001b[38;5;21;01mpm\u001b[39;00m\n\u001b[1;32m---> 10\u001b[0m \u001b[38;5;28;01mimport\u001b[39;00m \u001b[38;5;21;01marvis\u001b[39;00m \u001b[38;5;28;01mas\u001b[39;00m \u001b[38;5;21;01maz\u001b[39;00m\n",
      "\u001b[1;31mModuleNotFoundError\u001b[0m: No module named 'arvis'"
     ]
    }
   ],
   "source": [
    "import numpy as np\n",
    "import scipy as sp\n",
    "import scipy.stats\n",
    "import matplotlib.pyplot as plt\n",
    "import scipy.special\n",
    "#plt.style.use('fivethirtyeight')\n",
    "import pandas as pd\n",
    "import statsmodels.api as sm\n",
    "import pymc3 as pm\n",
    "import arvis as az"
   ]
  },
  {
   "cell_type": "markdown",
   "id": "d844190b-3d5b-41b1-8f1f-430edb3a5f88",
   "metadata": {
    "tags": []
   },
   "source": [
    "# <font face=\"gotham\" color=\"orange\"> Generalized linear models </font>"
   ]
  },
  {
   "cell_type": "markdown",
   "id": "22630629-eff9-4518-9951-9a3142aef855",
   "metadata": {},
   "source": [
    "The **generalized linear model** (GLM) is simply an umbrella term for all linear models which are not simple/multiple linear regression models, in econometrics we have seen logit, probit, tobit and etc., they are all generalized linear models.\n",
    "\n",
    "As a reminder, the linear regression model's predicted values take the form\n",
    "$$\n",
    "\\hat{Y}=X\\beta\n",
    "$$\n",
    "To formulate a generalized linear model, we impose an arbitrary function onto the linear combination, i.e.\n",
    "$$\n",
    "\\tilde{Y} = f(X\\beta)\n",
    "$$\n",
    "where $f$ is called the **inverse link function**."
   ]
  },
  {
   "cell_type": "markdown",
   "id": "0b0f1b75-c672-4499-822a-73014d634973",
   "metadata": {},
   "source": [
    "## <font face=\"gotham\" color=\"orange\"> Logistic Model with a Single Variable</font>"
   ]
  },
  {
   "cell_type": "markdown",
   "id": "36b8a6d0-1454-4fda-a71c-d3eb4ae91e37",
   "metadata": {},
   "source": [
    "The most famous type of GLM is **logistic regression** which is also called _logit regression_ in the context of econometrics. Here we provide a brief refresh of logit regression.\n",
    "\n",
    "A simple logit model hypothesizes a sigmoid shape function \n",
    "$$\n",
    "P_i = \\frac{1}{1+e^{-(\\beta_1+\\beta_2X_i)}}\n",
    "$$\n",
    "where the inverse link function is $\\frac{1}{1+e^{-z}}$, and $z$ represents the predicted value of a linear model."
   ]
  },
  {
   "cell_type": "code",
   "execution_count": 8,
   "id": "850faec3-a87a-412a-83c7-0573f830a15a",
   "metadata": {},
   "outputs": [
    {
     "data": {
      "image/png": "[encoded data removed]",
      "text/plain": [
       "<Figure size 576x360 with 1 Axes>"
      ]
     },
     "metadata": {
      "needs_background": "light"
     },
     "output_type": "display_data"
    }
   ],
   "source": [
    "z = np.linspace(-8, 8)\n",
    "fig, ax = plt.subplots(figsize = (8, 5))\n",
    "ax.plot(z, 1 / (1 + np.exp(-z)))\n",
    "ax.set_xlabel('z')\n",
    "ax.set_ylabel(r'$P = 1/(1+e^{-Z})$')\n",
    "ax.grid()\n",
    "plt.show()"
   ]
  },
  {
   "cell_type": "markdown",
   "id": "4f299756-04be-41ed-841c-c766549c8264",
   "metadata": {},
   "source": [
    "No matter what value we receive from $z$ (infinite domain), the final result will be transformed into a $[0, 1]$ range. The "
   ]
  },
  {
   "cell_type": "markdown",
   "id": "0bc9392a-1690-4f50-adf5-c301c90b1402",
   "metadata": {},
   "source": [
    "We usually denote $Z_i = \\beta_1+\\beta_2X_i$, ranges from $(-\\infty, +\\infty) $. This model solves the issues of probabilistic range and linear model. \n",
    "\n",
    "In order to estimate the logit model, we are seeking ways to linearize it. It might look confusing at first sight, here is the steps\n",
    "$$\n",
    "P_{i}=\\frac{1}{1+e^{-Z_{i}}}=\\frac{e^{Z_i}}{e^{Z_i}}\\frac{1}{1+\\frac{1}{e^{Z_i}}}=\\frac{e^{Z_i}}{1+e^{Z_i}}\n",
    "$$"
   ]
  },
  {
   "cell_type": "markdown",
   "id": "edaf88fd-f65f-4e7f-b7f6-4d0eb7772b7b",
   "metadata": {},
   "source": [
    "And $1-P_i$\n",
    "$$\n",
    "1-P_{i}=\\frac{1}{1+e^{Z_{i}}}\n",
    "$$"
   ]
  },
  {
   "cell_type": "markdown",
   "id": "945b4e3a-86cf-4fde-8724-0a40adb0d238",
   "metadata": {},
   "source": [
    "Combine them, we have the odds ratios\n",
    "$$\n",
    "\\frac{P_{i}}{1-P_{i}}=\\frac{1+e^{Z_{i}}}{1+e^{-Z_{i}}}=e^{Z_{i}}\n",
    "$$"
   ]
  },
  {
   "cell_type": "markdown",
   "id": "9813b328-5ee6-4310-b69c-aec133cc1c48",
   "metadata": {},
   "source": [
    "Here's the interesting part, take natural log, we get a linearized model and we commonly call the log odds ratios the **logit**.\n",
    "$$\n",
    "\\underbrace{\\ln{\\bigg(\\frac{P_{i}}{1-P_{i}}\\bigg)}}_{\\text{logit}}= Z_i =\\beta_1+\\beta_2X_i\n",
    "$$"
   ]
  },
  {
   "cell_type": "markdown",
   "id": "0a079095-8e4c-42e5-9793-0f29716bd0ea",
   "metadata": {},
   "source": [
    "To estimate the model, some technical procedures have to be carried out. Logit wouldn't have any meaningful interpretation, if we simply plug in the data $Y_i$. Because we don't observe $P_i$, the results are nonsensical.\n",
    "$$\n",
    "\\ln \\left(\\frac{1}{0}\\right) \\quad \\text{if a family own a house}\\\\\n",
    "\\ln \\left(\\frac{0}{1}\\right) \\quad \\text{if a family does not own a house}\n",
    "$$"
   ]
  },
  {
   "cell_type": "markdown",
   "id": "f919ae45-a0b4-4aee-a805-3609c44933cf",
   "metadata": {},
   "source": [
    "One way to circumvent this technical issue, the data can be grouped to compute\n",
    "$$\n",
    "\\hat{P}_{i}=\\frac{n_{i}}{N_{i}}\n",
    "$$\n",
    "where $N_i$ is number of families in a certain income level, e.g. $[20000, 29999]$, and $n_i$ is the number of family owning a house in the that level."
   ]
  },
  {
   "cell_type": "markdown",
   "id": "fd2c1e16-05de-4441-b1bd-f9f8a0bf3d33",
   "metadata": {},
   "source": [
    "However, this is not a preferred method, since we have nonlinear tools here. Recall that owning a house is following a Bernoulli distribution whose probability mass function is\n",
    "$$\n",
    "f_i(Y_i)= P_i^{Y_i}(1-P_i)^{1-Y_i}\n",
    "$$\n",
    "The joint distribution is the product of Bernoulli PMF due to their independence\n",
    "$$\n",
    "f\\left(Y_{1}, Y_{2}, \\ldots, Y_{n}\\right)=\\prod_{i=1}^{n} f_{i}\\left(Y_{i}\\right)=\\prod_{i=1}^{n} P_{i}^{Y_{i}}\\left(1-P_{i}\\right)^{1-Y_{i}}\n",
    "$$"
   ]
  },
  {
   "cell_type": "markdown",
   "id": "0a54810d-170b-4a52-a167-ab7f36c0880d",
   "metadata": {},
   "source": [
    "In order to obtain log likelihood function, we take natural log\n",
    "$$\n",
    "\\begin{aligned}\n",
    "\\ln f\\left(Y_{1}, Y_{2}, \\ldots, Y_{n}\\right) &=\\sum_{i=1}^{n}\\left[Y_{i} \\ln P_{i}+\\left(1-Y_{i}\\right) \\ln \\left(1-P_{i}\\right)\\right] \\\\\n",
    "&=\\sum_{i=1}^{n}\\left[Y_{i} \\ln P_{i}-Y_{i} \\ln \\left(1-P_{i}\\right)+\\ln \\left(1-P_{i}\\right)\\right] \\\\\n",
    "&=\\sum_{i=1}^{n}\\left[Y_{i} \\ln \\left(\\frac{P_{i}}{1-P_{i}}\\right)\\right]+\\sum_{i=1}^{n} \\ln \\left(1-P_{i}\\right)\n",
    "\\end{aligned}\n",
    "$$\n",
    "Replace \n",
    "$$\n",
    "\\ln{\\bigg(\\frac{P_{i}}{1-P_{i}}\\bigg)}=\\beta_1+\\beta_2X_i\\\\\n",
    "1-P_{i}=\\frac{1}{1+e^{\\beta_1+\\beta_2X_i}}\n",
    "$$"
   ]
  },
  {
   "cell_type": "markdown",
   "id": "0bc20683-c09d-4bc0-a4c0-011cdaf86bd7",
   "metadata": {},
   "source": [
    "Finally we have log likelihood function of $\\beta$\n",
    "$$\n",
    "\\ln f\\left(Y_{1}, Y_{2}, \\ldots, Y_{n}\\right)=\\sum_{i=1}^{n} Y_{i}\\left(\\beta_{1}+\\beta_{2} X_{i}\\right)-\\sum_{i=1}^{n} \\ln \\left[1+e^{\\left(\\beta_{1}+\\beta_{2} X_{i}\\right)}\\right]\n",
    "$$\n",
    "Take partial derivative w.r.t to $\\beta_2$\n",
    "$$\n",
    "\\frac{\\partial LF}{\\partial \\beta_2} = n\\beta_2 -\\sum_{i=1}^n\\frac{e^{\\beta_1+\\beta_2X_i}X_i}{1+e^{\\beta_1+\\beta_2X_i}}=0\n",
    "$$\n",
    "And stop here, apparently there won't be analytical solutions, i.e. numerical solutions are necessary. And this is exactly what Python is doing for us below."
   ]
  },
  {
   "cell_type": "markdown",
   "id": "236bebec-4523-49a1-96d0-790582a98397",
   "metadata": {},
   "source": [
    "### <font face=\"gotham\" color=\"orange\"> Apartment Price Example</font>"
   ]
  },
  {
   "cell_type": "markdown",
   "id": "4e8bd7c9-002e-4ad7-8f69-b2caf214f113",
   "metadata": {},
   "source": [
    "Here we come back to the apartment owning example. The data is an excerpt of survey of citizens in Manchester, UK."
   ]
  },
  {
   "cell_type": "code",
   "execution_count": 3,
   "id": "e9603d2f-3642-4387-bcc9-003230fd1dad",
   "metadata": {},
   "outputs": [
    {
     "name": "stdout",
     "output_type": "stream",
     "text": [
      "Optimization terminated successfully.\n",
      "         Current function value: 0.257124\n",
      "         Iterations 8\n"
     ]
    }
   ],
   "source": [
    "df = pd.read_excel('Basic_Econometrics_practice_data.xlsx', sheet_name = 'HouseOwn_Quali_Resp'); df.head()\n",
    "\n",
    "Y = df[['Own_House']]\n",
    "X = df[['Annual_Family_Income']]\n",
    "X = sm.add_constant(X)\n",
    "\n",
    "log_reg = sm.Logit(Y, X).fit()"
   ]
  },
  {
   "cell_type": "markdown",
   "id": "4a0cede6-4022-4a54-9758-f18c255a0e53",
   "metadata": {},
   "source": [
    "Optimization of likelihood function is an iterative process and global optimization has been reached as the notice shows. \n",
    "\n",
    "Print the estimation results."
   ]
  },
  {
   "cell_type": "code",
   "execution_count": 4,
   "id": "9b570f8e-c175-4a87-8422-40009d4b518c",
   "metadata": {},
   "outputs": [
    {
     "name": "stdout",
     "output_type": "stream",
     "text": [
      "                           Logit Regression Results                           \n",
      "==============================================================================\n",
      "Dep. Variable:              Own_House   No. Observations:                   38\n",
      "Model:                          Logit   Df Residuals:                       36\n",
      "Method:                           MLE   Df Model:                            1\n",
      "Date:                Tue, 06 Sep 2022   Pseudo R-squ.:                  0.6261\n",
      "Time:                        14:04:45   Log-Likelihood:                -9.7707\n",
      "converged:                       True   LL-Null:                       -26.129\n",
      "Covariance Type:            nonrobust   LLR p-value:                 1.067e-08\n",
      "========================================================================================\n",
      "                           coef    std err          z      P>|z|      [0.025      0.975]\n",
      "----------------------------------------------------------------------------------------\n",
      "const                   -6.7617      2.189     -3.088      0.002     -11.053      -2.471\n",
      "Annual_Family_Income     0.1678      0.053      3.176      0.001       0.064       0.271\n",
      "========================================================================================\n"
     ]
    }
   ],
   "source": [
    "print(log_reg.summary())"
   ]
  },
  {
   "cell_type": "markdown",
   "id": "85c0e497-6cb6-44e0-afbd-4e6b2a212689",
   "metadata": {},
   "source": [
    "Here is the estimated model\n",
    "$$\n",
    "\\hat{P_i} = \\frac{1}{1+e^{6.7617-0.1678 X_i}}\n",
    "$$\n",
    "And the fitted curve"
   ]
  },
  {
   "cell_type": "code",
   "execution_count": 5,
   "id": "d01de24f-057b-4b25-ac2c-d0cb5a1731e9",
   "metadata": {},
   "outputs": [
    {
     "data": {
      "image/png": "[encoded data removed]",
      "text/plain": [
       "<Figure size 576x360 with 1 Axes>"
      ]
     },
     "metadata": {
      "needs_background": "light"
     },
     "output_type": "display_data"
    }
   ],
   "source": [
    "X = np.linspace(0, 100, 500)\n",
    "P_hat = 1/(1 + np.exp(-log_reg.params[0]-log_reg.params[1]*X))\n",
    "\n",
    "fig, ax = plt.subplots(figsize = (8, 5))\n",
    "ax.scatter(df['Annual_Family_Income'], df['Own_House'])\n",
    "ax.plot(X, P_hat, color = 'tomato', lw = 3)\n",
    "ax.set_xlabel('Income')\n",
    "ax.set_ylabel('Owning a flat = 1, Not Owning = 0')\n",
    "ax.grid()\n",
    "plt.show()"
   ]
  },
  {
   "cell_type": "markdown",
   "id": "45609362-ff0d-40ae-ac11-2071e6533616",
   "metadata": {},
   "source": [
    "To interpret estimated coefficients, we can calculate the marginal effect by taking derivative w.r.t certain $\\beta$, in this case $\\beta_2$.\n",
    "$$\n",
    "\\frac{dP_i}{d X_i} = \\frac{dP_i}{dZ_i}\\frac{dZ_i}{dX_i}=\\frac{e^{-Z_i}}{(1+e^{-Z_i})^2}\\beta_2\n",
    "$$\n",
    "Plot both accumulative and marginal effects"
   ]
  },
  {
   "cell_type": "code",
   "execution_count": 9,
   "id": "edd757bf-9790-4fab-8bc2-28d2108f6148",
   "metadata": {},
   "outputs": [
    {
     "data": {
      "image/png": "[encoded data removed]",
      "text/plain": [
       "<Figure size 576x360 with 2 Axes>"
      ]
     },
     "metadata": {
      "needs_background": "light"
     },
     "output_type": "display_data"
    }
   ],
   "source": [
    "beta1_hat, beta2_hat = log_reg.params[0], log_reg.params[1]\n",
    "X = np.linspace(0, 100, 500)\n",
    "\n",
    "Z = beta1_hat + beta2_hat*X\n",
    "dPdX = np.exp(-Z)/(1+np.exp(-Z))**2*beta2_hat\n",
    "\n",
    "fig, ax1 = plt.subplots(figsize = (8, 5))\n",
    "ax1.scatter(df['Annual_Family_Income'], df['Own_House'])\n",
    "ax1.plot(X, P_hat, color = 'tomato', lw = 3, label='Accumulative Effect')\n",
    "ax1.legend(loc ='center left')\n",
    "\n",
    "ax2 = ax1.twinx() \n",
    "ax2.plot(X, dPdX, lw = 3, color = 'Gold', label = 'Marginal Effect')\n",
    "ax2.legend(loc='center right')\n",
    "ax2.set_title('Accumulative and Marginal Effect of Family Income on Owning a House')\n",
    "ax2.grid()\n",
    "plt.show()"
   ]
  },
  {
   "cell_type": "markdown",
   "id": "56ea2185-2b23-4d67-aa5e-ae1d23fd0f28",
   "metadata": {},
   "source": [
    "As family income raises, the marginal probability will reach maximum around $40000$ pounds, to summarize the effect, we calculate the marginal effect at the mean value of the independent variables. "
   ]
  },
  {
   "cell_type": "code",
   "execution_count": 7,
   "id": "a76056a7-0eac-426f-a3c9-b1f19c8783ec",
   "metadata": {},
   "outputs": [
    {
     "data": {
      "text/plain": [
       "0.03297676614392625"
      ]
     },
     "execution_count": 7,
     "metadata": {},
     "output_type": "execute_result"
    }
   ],
   "source": [
    "X_mean = np.mean(df['Annual_Family_Income'])\n",
    "Z_mean_effect = beta1_hat + beta2_hat*X_mean\n",
    "dPdX = np.exp(-Z_mean_effect)/(1+np.exp(-Z_mean_effect))**2*beta2_hat; dPdX"
   ]
  },
  {
   "cell_type": "markdown",
   "id": "e192f7de-fd11-4d79-9ca4-247d34a88328",
   "metadata": {},
   "source": [
    "At the sample mean, $1000$ pounds increase in family income increases the probability of owning a house by $3.2 \\%$. "
   ]
  },
  {
   "cell_type": "code",
   "execution_count": 16,
   "id": "76c9ebf5-7e5b-433e-8a27-e990c39159f6",
   "metadata": {},
   "outputs": [
    {
     "name": "stderr",
     "output_type": "stream",
     "text": [
      "E:\\Anaconda\\lib\\site-packages\\theano\\tensor\\elemwise.py:826: RuntimeWarning: invalid value encountered in true_divide\n",
      "  variables = ufunc(*ufunc_args, **ufunc_kwargs)\n",
      "Auto-assigning NUTS sampler...\n",
      "Initializing NUTS using jitter+adapt_diag...\n",
      "E:\\Anaconda\\lib\\site-packages\\theano\\tensor\\elemwise.py:826: RuntimeWarning: divide by zero encountered in log\n",
      "  variables = ufunc(*ufunc_args, **ufunc_kwargs)\n",
      "E:\\Anaconda\\lib\\site-packages\\theano\\tensor\\elemwise.py:826: RuntimeWarning: invalid value encountered in multiply\n",
      "  variables = ufunc(*ufunc_args, **ufunc_kwargs)\n",
      "Multiprocess sampling (4 chains in 4 jobs)\n",
      "NUTS: [beta2, beta1]\n",
      "E:\\Anaconda\\lib\\site-packages\\theano\\scalar\\basic.py:1955: RuntimeWarning: invalid value encountered in true_divide\n",
      "  return x / y\n",
      "E:\\Anaconda\\lib\\site-packages\\theano\\tensor\\elemwise.py:826: RuntimeWarning: invalid value encountered in impl (vectorized)\n",
      "  variables = ufunc(*ufunc_args, **ufunc_kwargs)\n"
     ]
    },
    {
     "data": {
      "text/html": [
       "\n",
       "<style>\n",
       "    /* Turns off some styling */\n",
       "    progress {\n",
       "        /* gets rid of default border in Firefox and Opera. */\n",
       "        border: none;\n",
       "        /* Needs to be in here for Safari polyfill so background images work as expected. */\n",
       "        background-size: auto;\n",
       "    }\n",
       "    progress:not([value]), progress:not([value])::-webkit-progress-bar {\n",
       "        background: repeating-linear-gradient(45deg, #7e7e7e, #7e7e7e 10px, #5c5c5c 10px, #5c5c5c 20px);\n",
       "    }\n",
       "    .progress-bar-interrupted, .progress-bar-interrupted::-webkit-progress-bar {\n",
       "        background: #F44336;\n",
       "    }\n",
       "</style>\n"
      ],
      "text/plain": [
       "<IPython.core.display.HTML object>"
      ]
     },
     "metadata": {},
     "output_type": "display_data"
    },
    {
     "data": {
      "text/html": [
       "\n",
       "    <div>\n",
       "      <progress value='8000' class='' max='8000' style='width:300px; height:20px; vertical-align: middle;'></progress>\n",
       "      100.00% [8000/8000 01:46&lt;00:00 Sampling 4 chains, 0 divergences]\n",
       "    </div>\n",
       "    "
      ],
      "text/plain": [
       "<IPython.core.display.HTML object>"
      ]
     },
     "metadata": {},
     "output_type": "display_data"
    },
    {
     "name": "stderr",
     "output_type": "stream",
     "text": [
      "Sampling 4 chains for 1_000 tune and 1_000 draw iterations (4_000 + 4_000 draws total) took 121 seconds.\n",
      "The number of effective samples is smaller than 25% for some parameters.\n"
     ]
    }
   ],
   "source": [
    "with pm.Model() as model_0:\n",
    "    beta1 = pm.Normal('beta1', mu=0, sd=10)\n",
    "    beta2 = pm.Normal('beta2', mu=0, sd=10)\n",
    "    \n",
    "    mu = beta1 + beta2*df['Annual_Family_Income']   \n",
    "    theta = pm.Deterministic('theta', pm.math.sigmoid(mu))\n",
    "    bd = pm.Deterministic('bd', -beta1/beta2)\n",
    "    \n",
    "    yl = pm.Bernoulli('yl', p=theta, observed=df['Own_House'])\n",
    "\n",
    "    trace_0 = pm.sample(1000, return_inferencedata=True)"
   ]
  },
  {
   "cell_type": "code",
   "execution_count": null,
   "id": "b5da7c2a-75ac-4496-86c8-b33094579064",
   "metadata": {},
   "outputs": [],
   "source": []
  }
 ],
 "metadata": {
  "kernelspec": {
   "display_name": "Python 3 (ipykernel)",
   "language": "python",
   "name": "python3"
  },
  "language_info": {
   "codemirror_mode": {
    "name": "ipython",
    "version": 3
   },
   "file_extension": ".py",
   "mimetype": "text/x-python",
   "name": "python",
   "nbconvert_exporter": "python",
   "pygments_lexer": "ipython3",
   "version": "3.9.12"
  }
 },
 "nbformat": 4,
 "nbformat_minor": 5
}
