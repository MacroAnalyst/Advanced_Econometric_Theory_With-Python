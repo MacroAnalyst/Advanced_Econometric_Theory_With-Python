{
 "cells": [
  {
   "cell_type": "markdown",
   "id": "6ea94a16-ffbd-45ba-b489-67031443d11a",
   "metadata": {},
   "source": [
    "# <font face=\"gotham\" color=\"purple\"> Confidence Interval  </font>"
   ]
  },
  {
   "cell_type": "markdown",
   "id": "5dcabf3a-fa24-4e25-898d-5d394e061760",
   "metadata": {},
   "source": [
    "A **confidence interval** for some parameter $\\theta$ consists all values of $\\theta_0$ that can't be rejected by corresponding hypothesis. If the finite-sample distribution is known, we have an **exact confidence interval** $[\\theta_l, \\theta_u]$, of which $\\theta_l$ and $\\theta_u$ represents lower and upper limit. "
   ]
  },
  {
   "cell_type": "markdown",
   "id": "4549ec55-9763-4ffc-b08d-9b4440c928e0",
   "metadata": {},
   "source": [
    "For instance, we have a test statistic\n",
    "$$\n",
    "\\tau\\left(\\boldsymbol{y}, \\theta_{0}\\right) \\equiv\\frac{\\hat{\\theta}-\\theta_{0}}{s_{\\theta}}\n",
    "$$"
   ]
  },
  {
   "cell_type": "markdown",
   "id": "47b6ff5a-515c-48c0-9d10-1fd39ff9bd73",
   "metadata": {},
   "source": [
    "Here $\\boldsymbol{y}$ denotes the sample used to compute the particular realization of the statistic, $\\hat{\\theta}$ is the estimate of $\\theta$ and $s_\\theta$ is the corresponding standard error. The confidence interval can be found by solving the equation\n",
    "$$\n",
    "\\tau(\\boldsymbol{y}, \\theta)=c_{\\alpha}\n",
    "$$"
   ]
  },
  {
   "cell_type": "markdown",
   "id": "99d1e78a-048b-4422-bcce-5403caee9934",
   "metadata": {},
   "source": [
    "where $c_\\alpha$ is the critical value with significance level $\\alpha$. Solve\n",
    "$$\n",
    "\\frac{\\hat{\\theta}-\\theta}{s_{\\theta}}=c_{\\alpha}\n",
    "$$"
   ]
  },
  {
   "cell_type": "markdown",
   "id": "f17dd1a0-3910-42ec-b7d6-3a1e1037a671",
   "metadata": {},
   "source": [
    "Two solutions are \n",
    "$$\n",
    "\\theta_l=\\hat{\\theta}\n",
    "$$"
   ]
  },
  {
   "cell_type": "code",
   "execution_count": null,
   "id": "97e9203f-53a6-41fa-b14d-7fd65c4df0f3",
   "metadata": {},
   "outputs": [],
   "source": []
  }
 ],
 "metadata": {
  "kernelspec": {
   "display_name": "Python 3 (ipykernel)",
   "language": "python",
   "name": "python3"
  },
  "language_info": {
   "codemirror_mode": {
    "name": "ipython",
    "version": 3
   },
   "file_extension": ".py",
   "mimetype": "text/x-python",
   "name": "python",
   "nbconvert_exporter": "python",
   "pygments_lexer": "ipython3",
   "version": "3.8.12"
  }
 },
 "nbformat": 4,
 "nbformat_minor": 5
}
