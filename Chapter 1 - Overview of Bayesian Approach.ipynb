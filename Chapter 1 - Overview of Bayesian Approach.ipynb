{
 "cells": [
  {
   "cell_type": "markdown",
   "metadata": {
    "toc": true
   },
   "source": [
    "<h1>Table of Contents<span class=\"tocSkip\"></span></h1>\n",
    "<div class=\"toc\"><ul class=\"toc-item\"><li><span><a href=\"#-Bayesian-Theory\" data-toc-modified-id=\"-Bayesian-Theory-1\"><span class=\"toc-item-num\">1&nbsp;&nbsp;</span><font face=\"gotham\" color=\"orange\"> Bayesian Theory</font></a></span></li></ul></div>"
   ]
  },
  {
   "cell_type": "markdown",
   "metadata": {},
   "source": [
    "Bayesian is not the opposite of frequentist, but it holds a constrasting view comparing with frequentists.\n",
    "\n",
    "In the first chapter, we review Bayes' Theorem and give an overview of application in statistics and econometrics.\n",
    "\n",
    "If all you want know is what Bayesian methods are, this is the only chapter you need to read."
   ]
  },
  {
   "cell_type": "markdown",
   "metadata": {},
   "source": [
    "# <font face=\"gotham\" color=\"orange\"> Bayesian Theory </font>"
   ]
  },
  {
   "cell_type": "markdown",
   "metadata": {},
   "source": [
    "The bayesian theory is built upon the most famous **Bayes' Theorem**, which is derived from condition probability and joint probability.\n",
    "\n",
    "The **law of joint probability** says that\n",
    "$$\n",
    "P(x, y)=P(x \\mid y) P(y)\n",
    "$$\n",
    "or \n",
    "$$\n",
    "P(x, y)=P(y \\mid x) P(x)\n",
    "$$\n",
    "Combine them, we will obtain the formula of Bayes' Theorem.\n",
    "$$\n",
    "P(x \\mid y)=\\frac{P(y \\mid x) P(x)}{P(y)}\n",
    "$$"
   ]
  },
  {
   "cell_type": "markdown",
   "metadata": {},
   "source": [
    "To make it meaningful in the context of statistics/econometrics, replace the symbols will provide a refreshing view\n",
    "$$\n",
    "p(\\theta \\mid Y)=\\frac{p(Y \\mid \\theta) p(\\theta)}{p(Y)}\n",
    "$$\n",
    "where $Y$ is the data, $\\theta$ is the vector of parameters you would like to make inferrence. The formula summarizes what we know about $\\theta$ about having seen the sample of observations on $Y$.\n",
    "\n",
    "In Bayesian terms\n",
    "\\begin{align}\n",
    "\\text{prior:}&\\ P(\\theta)\\\\\n",
    "\\text{likelihood:}&\\ P(Y|\\theta)\\\\\n",
    "\\text{marginal likelihood:}&\\ P(Y)\\\\\n",
    "\\text{posterior:}&\\ P(\\theta|Y)\\\\\n",
    "\\end{align}"
   ]
  },
  {
   "cell_type": "markdown",
   "metadata": {},
   "source": [
    "To update prior beliefs into posterior beliefs conditional on observaed data, the process is called **Bayesian Inference**."
   ]
  },
  {
   "cell_type": "markdown",
   "metadata": {},
   "source": [
    "More often, we ignore $P(Y)$ due to its irrelevance to $\\theta$, the formula simplies into\n",
    "$$\n",
    "p(\\theta \\mid Y) \\propto p(Y \\mid \\theta) p(\\theta)\n",
    "$$"
   ]
  },
  {
   "cell_type": "markdown",
   "metadata": {},
   "source": [
    "# <font face=\"gotham\" color=\"orange\"> Bernoulli Example </font>"
   ]
  },
  {
   "cell_type": "markdown",
   "metadata": {},
   "source": [
    "An example will help clarify how we use the Bayes' Theorem for inference and prediction."
   ]
  },
  {
   "cell_type": "code",
   "execution_count": null,
   "metadata": {},
   "outputs": [],
   "source": []
  }
 ],
 "metadata": {
  "kernelspec": {
   "display_name": "Python 3 (ipykernel)",
   "language": "python",
   "name": "python3"
  },
  "language_info": {
   "codemirror_mode": {
    "name": "ipython",
    "version": 3
   },
   "file_extension": ".py",
   "mimetype": "text/x-python",
   "name": "python",
   "nbconvert_exporter": "python",
   "pygments_lexer": "ipython3",
   "version": "3.8.5"
  },
  "toc": {
   "base_numbering": 1,
   "nav_menu": {},
   "number_sections": true,
   "sideBar": true,
   "skip_h1_title": false,
   "title_cell": "Table of Contents",
   "title_sidebar": "Contents",
   "toc_cell": true,
   "toc_position": {},
   "toc_section_display": true,
   "toc_window_display": false
  },
  "toc-autonumbering": false,
  "toc-showmarkdowntxt": false
 },
 "nbformat": 4,
 "nbformat_minor": 4
}
