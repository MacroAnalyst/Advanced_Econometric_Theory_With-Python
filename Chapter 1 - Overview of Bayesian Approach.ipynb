{
 "cells": [
  {
   "cell_type": "markdown",
   "metadata": {
    "toc": true
   },
   "source": [
    "<h1>Table of Contents<span class=\"tocSkip\"></span></h1>\n",
    "<div class=\"toc\"><ul class=\"toc-item\"><li><span><a href=\"#-Bayesian-Theory\" data-toc-modified-id=\"-Bayesian-Theory-1\"><span class=\"toc-item-num\">1&nbsp;&nbsp;</span><font face=\"gotham\" color=\"orange\"> Bayesian Theory</font></a></span></li></ul></div>"
   ]
  },
  {
   "cell_type": "markdown",
   "metadata": {},
   "source": [
    "Bayesian is not the opposite of frequentist, but it holds a constrasting view comparing with frequentists.\n",
    "\n",
    "In the first chapter, we review Bayes' Theorem and give an overview of application in statistics and econometrics.\n",
    "\n",
    "If all you want know is what Bayesian methods are, this is the only chapter you need to read."
   ]
  },
  {
   "cell_type": "markdown",
   "metadata": {},
   "source": [
    "# <font face=\"gotham\" color=\"orange\"> Bayesian Theory </font>"
   ]
  },
  {
   "cell_type": "markdown",
   "metadata": {},
   "source": [
    "The bayesian theory is built upon the most famous **Bayes' Theorem**, which is derived from condition probability and joint probability.\n",
    "\n",
    "The **law of joint probability** says that\n",
    "$$\n",
    "P(x, y)=P(x \\mid y) P(y)\n",
    "$$\n",
    "or \n",
    "$$\n",
    "P(x, y)=P(y \\mid x) P(x)\n",
    "$$\n",
    "Combine them, we will obtain the formula of Bayes' Theorem.\n",
    "$$\n",
    "P(x \\mid y)=\\frac{P(y \\mid x) P(x)}{P(y)}\n",
    "$$"
   ]
  },
  {
   "cell_type": "markdown",
   "metadata": {},
   "source": [
    "To make it meaningful in the context of statistics/econometrics, replace the symbols will provide a refreshing view\n",
    "$$\n",
    "p(\\theta \\mid Y)=\\frac{p(Y \\mid \\theta) p(\\theta)}{p(Y)}\n",
    "$$\n",
    "where $Y$ is the data, $\\theta$ is the vector of parameters you would like to make inferrence. The formula summarizes what we know about $\\theta$ about having seen the sample of observations on $Y$.\n",
    "\n",
    "In Bayesian terms\n",
    "\\begin{align}\n",
    "\\text{prior:}&\\ P(\\theta)\\\\\n",
    "\\text{likelihood:}&\\ P(Y|\\theta)\\\\\n",
    "\\text{marginal likelihood:}&\\ P(Y)\\\\\n",
    "\\text{posterior:}&\\ P(\\theta|Y)\\\\\n",
    "\\end{align}"
   ]
  },
  {
   "cell_type": "markdown",
   "metadata": {},
   "source": [
    "To update prior beliefs into posterior beliefs conditional on observaed data, the process is called **Bayesian Inference**."
   ]
  },
  {
   "cell_type": "markdown",
   "metadata": {},
   "source": [
    "More often, we ignore $P(Y)$ due to its irrelevance to $\\theta$, the formula simplies into\n",
    "$$\n",
    "p(\\theta \\mid Y) \\propto p(Y \\mid \\theta) p(\\theta)\n",
    "$$"
   ]
  },
  {
   "cell_type": "markdown",
   "metadata": {},
   "source": [
    "# <font face=\"gotham\" color=\"orange\"> Bernoulli Example </font>"
   ]
  },
  {
   "cell_type": "markdown",
   "metadata": {},
   "source": [
    "An example will help clarify how we use the Bayes' Theorem for inference and prediction. \n",
    "\n",
    "The Bernoulli pmf is commonly written as\n",
    "$$\n",
    "f(k; p) = p^{k}(1-p)^{1-k}\\ \\text{ for }\\ \\ k\\in \\{0, 1\\}\n",
    "$$\n",
    "Watch out the notation that $k$ equals either $0$ or $1$, not $k \\in (0, 1)$."
   ]
  },
  {
   "cell_type": "markdown",
   "metadata": {},
   "source": [
    "The meaning of $0$ and $1$ usually represents \"happened\" and \"not happened\". Not suppose we have collects a sample of $K= (k_1, k_2, k_3,...,k_T)$. \n",
    "\n",
    "The joint Bernoulli pmf is \n",
    "$$\n",
    "f(K|p)=p^{k_1}(1-p)^{1-k_1}p^{k_2}(1-p)^{1-k_2}p^{k_3}(1-p)^{1-k_3}...p^{k_T}(1-p)^{1-k_T}=p^{\\sum_{i=0}^T k_i}(1-p)^{T-\\sum_{i=0}^T k_i}\n",
    "$$"
   ]
  },
  {
   "cell_type": "markdown",
   "metadata": {},
   "source": [
    "This is the **likelihood function** given all possible $p$."
   ]
  },
  {
   "cell_type": "markdown",
   "metadata": {},
   "source": [
    "Naturally, we need prior too.\n",
    "\n",
    "The onf of most frequently used prior in Bayesian inference is **Beta distribution**, because it models the probability of a probability. \n",
    "\n",
    "Recall that we have mentioned pdf of Beta distribution\n",
    "\\begin{equation}\n",
    "f(p, \\alpha, \\beta)=\\frac{\\Gamma(\\alpha+b) p^{\\alpha-1}(1-p)^{\\beta-1}}{\\Gamma(\\alpha) \\Gamma(\\beta)}\n",
    "\\end{equation}\n",
    "However in Bayesian inference, we usually combine those gamma functions into a beta function term.\n",
    "\\begin{equation}\n",
    "f(p, \\alpha, \\beta)=\\frac{1}{B(\\alpha, \\beta)} p^{\\alpha-1}(1-p)^{\\beta-1}\n",
    "\\end{equation}\n",
    "where subscript $0$ represent **prior**."
   ]
  },
  {
   "cell_type": "markdown",
   "metadata": {},
   "source": [
    "Posterior is straightforward by evoking Bayes' Theorem.\n",
    "$$\n",
    "f(p|K) \\propto \\left(p^{\\sum_{i=0}^T k_i}(1-p)^{T-\\sum_{i=0}^T k_i}\\right)\\frac{1}{B(\\alpha_0, \\beta_0)} p^{\\alpha_0-1}(1-p)^{\\beta_0-1}\n",
    "$$\n",
    "Since we have already using $\\propto$, we only need to keep the kernal of beta distribution, that is\n",
    "$$\n",
    "f(p|K) \\propto \\left(p^{\\sum_{i=0}^T k_i}(1-p)^{T-\\sum_{i=0}^T k_i}\\right) p^{\\alpha_0-1}(1-p)^{\\beta_0-1}\n",
    "$$"
   ]
  },
  {
   "cell_type": "code",
   "execution_count": null,
   "metadata": {},
   "outputs": [],
   "source": []
  }
 ],
 "metadata": {
  "kernelspec": {
   "display_name": "Python 3 (ipykernel)",
   "language": "python",
   "name": "python3"
  },
  "language_info": {
   "codemirror_mode": {
    "name": "ipython",
    "version": 3
   },
   "file_extension": ".py",
   "mimetype": "text/x-python",
   "name": "python",
   "nbconvert_exporter": "python",
   "pygments_lexer": "ipython3",
   "version": "3.8.5"
  },
  "toc": {
   "base_numbering": 1,
   "nav_menu": {},
   "number_sections": true,
   "sideBar": true,
   "skip_h1_title": false,
   "title_cell": "Table of Contents",
   "title_sidebar": "Contents",
   "toc_cell": true,
   "toc_position": {},
   "toc_section_display": true,
   "toc_window_display": false
  },
  "toc-autonumbering": false,
  "toc-showmarkdowntxt": false
 },
 "nbformat": 4,
 "nbformat_minor": 4
}
