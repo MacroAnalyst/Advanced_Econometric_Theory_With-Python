{
 "cells": [
  {
   "cell_type": "code",
   "execution_count": 1,
   "metadata": {},
   "outputs": [
    {
     "name": "stderr",
     "output_type": "stream",
     "text": [
      "E:\\Anaconda\\lib\\site-packages\\statsmodels\\compat\\pandas.py:65: FutureWarning: pandas.Int64Index is deprecated and will be removed from pandas in a future version. Use pandas.Index with the appropriate dtype instead.\n",
      "  from pandas import Int64Index as NumericIndex\n"
     ]
    }
   ],
   "source": [
    "import numpy as np\n",
    "import matplotlib.pyplot as plt\n",
    "import matplotlib as mpl\n",
    "import pandas as pd\n",
    "import sympy as sy\n",
    "import statsmodels.api as sm\n",
    "\n",
    "from sympy import init_printing\n",
    "init_printing() \n",
    "\n",
    "plt.style.use('ggplot')"
   ]
  },
  {
   "cell_type": "markdown",
   "metadata": {},
   "source": [
    "This chapter focuses on the features of sampling distribution of OLS estimator. We would like to know that if OLS can provide us with unbiased, consistent and efficient estimates. "
   ]
  },
  {
   "cell_type": "markdown",
   "metadata": {},
   "source": [
    "# <font face=\"gotham\" color=\"purple\"> Unbaisedness of OLS </font>"
   ]
  },
  {
   "cell_type": "markdown",
   "metadata": {},
   "source": [
    "In this chapter, we assume regression model has the form\n",
    "\n",
    "$$\n",
    "\\boldsymbol{y} = \\boldsymbol{X\\beta} +\\boldsymbol{u}, \\quad \\boldsymbol{u}\\sim \\text{IID}(\\boldsymbol{0},\\sigma^2\\mathbf{I})   \n",
    "$$"
   ]
  },
  {
   "cell_type": "markdown",
   "metadata": {},
   "source": [
    "The notation $\\text{IID}$ means **identically independent distributed**, $\\sigma^2\\mathbf{I}$ is the **covariance matrix**, being a diagonal matrix means regressors are independently distributed. We also assume all diagonal elements are the same, i.e. $\\sigma^2$, which means **homoscedasticity**.  "
   ]
  },
  {
   "cell_type": "markdown",
   "metadata": {},
   "source": [
    "If an estimator $\\theta$ is unbiased, it should always satisfy the condition\n",
    "\n",
    "$$\n",
    "E(\\hat{\\theta}) -\\theta_0 = 0\n",
    "$$"
   ]
  },
  {
   "cell_type": "markdown",
   "metadata": {},
   "source": [
    "To show that the OLS estimator is unbiased, we denote $\\boldsymbol{\\beta}_0$ as the true parameter in the _data generating process_ (DGP), that is to say, we would like to see $E(\\boldsymbol{\\hat{\\beta}})=\\boldsymbol{\\beta}_0$.\n",
    "\n",
    "To show the conditions that makes OLS unbiased, we substitute DGP back in OLS formula\n",
    "\n",
    "\\begin{align} \n",
    "\\hat{\\boldsymbol{\\beta}}&= (\\boldsymbol{X}^T\\boldsymbol{X})^{-1}\\boldsymbol{X}^T\\boldsymbol{y}\\\\\n",
    "&=(\\boldsymbol{X}^T\\boldsymbol{X})^{-1}\\boldsymbol{X}^T(\\boldsymbol{X}\\boldsymbol{\\beta}_0+u)\\\\\n",
    "& = \\boldsymbol{\\beta}_0 + (\\boldsymbol{X}^T\\boldsymbol{X})^{-1}\\boldsymbol{X}^T\\boldsymbol{u}\n",
    "\\end{align}"
   ]
  },
  {
   "cell_type": "markdown",
   "metadata": {},
   "source": [
    "First, we assume $\\boldsymbol{X}$ to be _nonstochastic_, also with assumption $E(\\boldsymbol{u}) = 0$, we obtain"
   ]
  },
  {
   "cell_type": "markdown",
   "metadata": {},
   "source": [
    "\\begin{align}\n",
    "E(\\boldsymbol{\\hat{\\beta}}) &= \\boldsymbol{\\beta}_0 + (\\boldsymbol{X}^T\\boldsymbol{X})^{-1}\\boldsymbol{X}^T\\boldsymbol{u}\\\\\n",
    " &= \\boldsymbol{\\beta}_0 + (\\boldsymbol{X}^T\\boldsymbol{X})^{-1}\\boldsymbol{X}^TE(\\boldsymbol{u})\\\\\n",
    " &=\\boldsymbol{\\beta}_0\n",
    "\\end{align}\n",
    "However nonstochastic assumption is limited mostly in cross section data."
   ]
  },
  {
   "cell_type": "markdown",
   "metadata": {},
   "source": [
    "Second, we can assume $\\boldsymbol{X}$  **exogenous**, such that $E(\\boldsymbol{u}|\\boldsymbol{X}) = 0$, also proves $E(\\boldsymbol{\\hat{\\beta}})=\\boldsymbol{\\beta}_0$. Exogeneity simply means that the randomness of $\\boldsymbol{X}$ has nothing to do with $\\boldsymbol{u}$."
   ]
  },
  {
   "cell_type": "markdown",
   "metadata": {},
   "source": [
    "We have even weaker version of exogeneity, $E(u_t|\\boldsymbol{X}_t) = 0$, which excludes the possibility that $u_t$ might depend on $X_{t-1}$ or $X_{t-2}$, etc. It is called **predeterminedness condition**, which is suitable for time series data."
   ]
  },
  {
   "cell_type": "markdown",
   "metadata": {},
   "source": [
    "However, for time series data, OLS shall be used with cautions, it is widely known that OLS is not suitable for $\\text{ARMA}$ model, because $\\boldsymbol{y}$ has lagged dependent variables.\n",
    "\n",
    "For $\\text{VAR}$, OLS is a common practice, because it doesn't differentiate endogenous and exogenous variables."
   ]
  },
  {
   "cell_type": "markdown",
   "metadata": {},
   "source": [
    "<div style=\"background-color:Bisque; color:DarkBlue; padding:30px;\">\n",
    "  <h4>Predetermined Variable vs Exogenous Variable</h4>\n",
    "In strictly speaking, <i>predetermined variables</i> has two categories: <i>exogenous variables</i> and <i>predetermined endogenous variables</i>.<br><br>\n",
    "    \n",
    "The former one can either be current or lagged, as long as it doesn't evolve with model's dynamics. The latter one is common in autoregressive models.\n",
    "</div> "
   ]
  },
  {
   "cell_type": "markdown",
   "metadata": {},
   "source": [
    "# <font face=\"gotham\" color=\"purple\"> Consistency of OLS </font>"
   ]
  },
  {
   "cell_type": "markdown",
   "metadata": {},
   "source": [
    "Consistency means the estimates tends to the quantity of true parameters as sample tends to infinity. Now let's show why OLS estimator is consistent. Start from \n",
    "\n",
    "$$\n",
    "\\boldsymbol{\\hat{\\beta}} = \\boldsymbol{\\beta}_0 + (\\boldsymbol{X}^T\\boldsymbol{X})^{-1}\\boldsymbol{X}^T\\boldsymbol{u} \\label{1}\\tag{1}\n",
    "$$"
   ]
  },
  {
   "cell_type": "markdown",
   "metadata": {},
   "source": [
    "We would to like to know if $\\text{plim}\\boldsymbol{\\hat{\\beta}} = \\boldsymbol{\\beta}_0$, which boils down to verify if\n",
    "\n",
    "$$\n",
    "\\text{plim}(\\boldsymbol{X}^T\\boldsymbol{X})^{-1}\\boldsymbol{X}^T\\boldsymbol{u} =0 \\label{2}\\tag{2}\n",
    "$$"
   ]
  },
  {
   "cell_type": "markdown",
   "metadata": {},
   "source": [
    "However $\\boldsymbol{X}^T\\boldsymbol{X}$ and $\\boldsymbol{X}^Tu$ do not have probability limit even if $n \\rightarrow \\infty$."
   ]
  },
  {
   "cell_type": "markdown",
   "metadata": {},
   "source": [
    "Modify the probability limit we obtain\n",
    "\n",
    "$$\n",
    "\\bigg(\\text{plim}\\frac{1}{n}\\boldsymbol{X}^T\\boldsymbol{X}\\bigg)^{-1}\\text{plim}\\frac{1}{n}\\boldsymbol{X}^T\\boldsymbol{u} =0 \n",
    "$$"
   ]
  },
  {
   "cell_type": "markdown",
   "metadata": {},
   "source": [
    "We assume a weaker version of exogeneity $E(u_t|X_t) = 0$, so is $E(X_t^Tu_t|X_t)=0$, law of iterated expectation tells that $E(X_t^Tu_t)=0$. To summarize\n",
    "\n",
    "$$\n",
    "\\text{plim}\\frac{1}{n}\\boldsymbol{X}^T\\boldsymbol{u}=\\text{plim}\\frac{1}{n}\\sum_{t=1}^nX_t^T u_t = 0 \n",
    "$$"
   ]
  },
  {
   "cell_type": "markdown",
   "metadata": {},
   "source": [
    "which proves the consistency of OLS."
   ]
  },
  {
   "cell_type": "markdown",
   "metadata": {},
   "source": [
    "## <font face=\"gotham\" color=\"purple\"> Simulation of Consistency of OLS </font>"
   ]
  },
  {
   "cell_type": "markdown",
   "metadata": {},
   "source": [
    "Here we can demonstrate a simple Monte Carlo simulation with true parameters $\\boldsymbol{\\beta}_0 = [2, 3, 4, 5]^T$, we increase sample size from $5$ to $100$ with a unit increment in each loop, and also with each sample size we redraw the disturbance term $10$ times, you can experiment with codes below, they might not be concise but considerably intuitive. Pay attention to the plots how they approach the true parameters as sample sizes increase."
   ]
  },
  {
   "cell_type": "code",
   "execution_count": 2,
   "metadata": {},
   "outputs": [],
   "source": [
    "sampl_size = np.arange(5, 100)\n",
    "re_draw = 10\n",
    "\n",
    "beta_array = np.array([2, 3, 4, 5])\n",
    "beta_array = beta_array[np.newaxis, :].T\n",
    "\n",
    "beta_hat_mean = []\n",
    "for i in sampl_size:\n",
    "    const = np.ones(i)\n",
    "    const = const[np.newaxis, :]\n",
    "\n",
    "    X_inde = np.random.randn(3, i)\n",
    "    X = np.concatenate((const.T, X_inde.T), axis=1)\n",
    "    \n",
    "    beta_hat = []\n",
    "    for j in range(re_draw):\n",
    "        u = np.random.randn(i)\n",
    "        u = u[np.newaxis, :].T\n",
    "        y = X@beta_array + u\n",
    "        beta_hat.append(np.linalg.inv(X.T@X)@X.T@y)\n",
    "    beta_hat = np.array(beta_hat).T\n",
    "    beta_hat_mean.append(np.mean(beta_hat[0], axis = 1))\n",
    "\n",
    "beta0, beta1, beta2, beta3 = [], [], [], []\n",
    "for i in beta_hat_mean:\n",
    "    beta0.append(i[0])\n",
    "    beta1.append(i[1])\n",
    "    beta2.append(i[2])\n",
    "    beta3.append(i[3])"
   ]
  },
  {
   "cell_type": "code",
   "execution_count": 3,
   "metadata": {},
   "outputs": [
    {
     "data": {
      "image/png": "[encoded data removed]",
      "text/plain": [
       "<Figure size 1296x576 with 4 Axes>"
      ]
     },
     "metadata": {},
     "output_type": "display_data"
    }
   ],
   "source": [
    "fig, ax = plt.subplots(figsize =(18, 8), nrows = 2, ncols=2)\n",
    "fig.suptitle('Simulation of OLS Consistency', size = 18)\n",
    "ax[0,0].plot(beta0)\n",
    "ax[0,0].axhline(2, color ='r')\n",
    "ax[0,0].set_xlabel(r'$\\beta_1$ Sample Size')\n",
    "\n",
    "ax[0,1].plot(beta1)\n",
    "ax[0,1].axhline(3, color ='r')\n",
    "ax[0,1].set_xlabel(r'$\\beta_2$ Sample Size')\n",
    "\n",
    "ax[1,0].plot(beta2)\n",
    "ax[1,0].axhline(4, color ='r')\n",
    "ax[1,0].set_xlabel(r'$\\beta_3$ Sample Size')\n",
    "\n",
    "ax[1,1].plot(beta3)\n",
    "ax[1,1].axhline(5, color ='r')\n",
    "ax[1,1].set_xlabel(r'$\\beta_4$ Sample Size')\n",
    "plt.show()"
   ]
  },
  {
   "cell_type": "markdown",
   "metadata": {},
   "source": [
    "# <font face=\"gotham\" color=\"purple\"> Efficiency of the OLS </font>"
   ]
  },
  {
   "cell_type": "markdown",
   "metadata": {},
   "source": [
    "The **efficiency** of estimator represents the capacity of utilizing the information efficiently. For instance, OLS is more efficient than many other estimators, because with the same sample size, OLS yields the estimates with highest precision."
   ]
  },
  {
   "cell_type": "markdown",
   "metadata": {},
   "source": [
    "## <font face=\"gotham\" color=\"purple\"> Positive Definite Matrices </font>"
   ]
  },
  {
   "cell_type": "markdown",
   "metadata": {},
   "source": [
    "Before moving any further, we will refresh the definition of positive definite matrices. \n",
    "\n",
    "A **quadratic form** is a function with form $Q(\\mathbf{x})=\\mathbf{x}^TA\\mathbf{x}$, where $A$ is an $n\\times n$ symmetric matrix, which is called the **the matrix of the quadratic form**. For more details, check <a href='https://nbviewer.org/github/WeijieChen-MacroAnalyst/Linear_Algebra_With_Python/blob/master/Chapter%2017%20-%20Symmetric%20Matrices%20%2C%20Quadratic%20Form%20and%20Cholesky%20Decomposition.ipynb'>linear algebra material</a>."
   ]
  },
  {
   "cell_type": "markdown",
   "metadata": {},
   "source": [
    "<div style=\"background-color:Bisque; color:DarkBlue; padding:30px;\">\n",
    "Now some terms to need to be defined, a quadratic form $Q$ is:<br>\n",
    "<ol>\n",
    "    <li>positive definite if $Q(\\mathbf{x})>0$ for all $\\mathbf{x} \\neq \\mathbf{0}$</li>\n",
    "    <li>negative definite if $Q(\\mathbf{x})<0$ for all $\\mathbf{x} \\neq \\mathbf{0}$</li>\n",
    "    <li>positive semidefinite if $Q(\\mathbf{x})\\geq0$ for all $\\mathbf{x} \\neq \\mathbf{0}$</li>\n",
    "    <li>negative semidefinite if $Q(\\mathbf{x})\\leq0$ for all $\\mathbf{x} \\neq \\mathbf{0}$</li>\n",
    "    <li>indefinite if $Q(\\mathbf{x})$ assumes both positive and negative values.</li>\n",
    "</ol>\n",
    "</div> "
   ]
  },
  {
   "cell_type": "markdown",
   "metadata": {},
   "source": [
    "If $B$ is an $m\\times n$ matrix, both $B^TB$ and $BB^T$ yield symmetric matrices. Here is an example of $B_{3\\times 2}$"
   ]
  },
  {
   "cell_type": "code",
   "execution_count": 4,
   "metadata": {},
   "outputs": [
    {
     "data": {
      "text/latex": [
       "$\\displaystyle \\left[\\begin{matrix}1 & -1\\\\3 & 4\\\\0 & 2\\end{matrix}\\right]$"
      ],
      "text/plain": [
       "⎡1  -1⎤\n",
       "⎢     ⎥\n",
       "⎢3  4 ⎥\n",
       "⎢     ⎥\n",
       "⎣0  2 ⎦"
      ]
     },
     "execution_count": 4,
     "metadata": {},
     "output_type": "execute_result"
    }
   ],
   "source": [
    "B = sy.Matrix([[1, -1], [3, 4], [0, 2]]); B"
   ]
  },
  {
   "cell_type": "markdown",
   "metadata": {},
   "source": [
    "$B^TB$ yields a $2\\times2$ matrix"
   ]
  },
  {
   "cell_type": "code",
   "execution_count": 5,
   "metadata": {},
   "outputs": [
    {
     "data": {
      "text/latex": [
       "$\\displaystyle \\left[\\begin{matrix}10 & 11\\\\11 & 21\\end{matrix}\\right]$"
      ],
      "text/plain": [
       "⎡10  11⎤\n",
       "⎢      ⎥\n",
       "⎣11  21⎦"
      ]
     },
     "execution_count": 5,
     "metadata": {},
     "output_type": "execute_result"
    }
   ],
   "source": [
    "B.T*B"
   ]
  },
  {
   "cell_type": "markdown",
   "metadata": {},
   "source": [
    "$BB^T$ yields a $3\\times3$ matrix"
   ]
  },
  {
   "cell_type": "code",
   "execution_count": 6,
   "metadata": {
    "tags": []
   },
   "outputs": [
    {
     "data": {
      "text/latex": [
       "$\\displaystyle \\left[\\begin{matrix}2 & -1 & -2\\\\-1 & 25 & 8\\\\-2 & 8 & 4\\end{matrix}\\right]$"
      ],
      "text/plain": [
       "⎡2   -1  -2⎤\n",
       "⎢          ⎥\n",
       "⎢-1  25  8 ⎥\n",
       "⎢          ⎥\n",
       "⎣-2  8   4 ⎦"
      ]
     },
     "execution_count": 6,
     "metadata": {},
     "output_type": "execute_result"
    }
   ],
   "source": [
    "B*B.T"
   ]
  },
  {
   "cell_type": "markdown",
   "metadata": {},
   "source": [
    "Since $B^TB$ and $BB^T$ are both symmetric, $A$ can be replaced by either of them, technically the **Cholesky decomposition** can achieve $A = BB^T$ or $A = B^TB$.\n",
    "\n",
    "Actually any matrix of form $B^TB$ or $BB^T$ is positive semidefinite, to see this, observe that\n",
    "$$\n",
    "x^TB^TBx = (Bx)^T(Bx) = \\|Bx\\|^2 \\geq 0\\\\\n",
    "xBB^Tx^T = xB (xB)^T = \\|xB\\|^2\\geq 0\n",
    "$$\n",
    "where $x\\neq0$."
   ]
  },
  {
   "cell_type": "markdown",
   "metadata": {},
   "source": [
    "In practice, the second form is quite rare, so we focus the on the first form $x^TB^TBx$, since $x\\neq 0$, the only condition of $\\|Bx\\|^2 = 0$ is $B$ does not have **full rank**, in other words, if $B$ has full rank, then $B^TB$ is positive definite rather than positive semidefinite."
   ]
  },
  {
   "cell_type": "markdown",
   "metadata": {},
   "source": [
    "## <font face=\"gotham\" color=\"purple\"> Covariance Matrix of the OLS Parameter Estimates </font>"
   ]
  },
  {
   "cell_type": "markdown",
   "metadata": {},
   "source": [
    "The covariance matrix of error term is \n",
    "\n",
    "$$\n",
    "\\text{Var}(\\boldsymbol{u}) = E(\\boldsymbol{u}\\boldsymbol{u}^T) = \\sigma^2_0\\mathbf{I}\n",
    "$$\n",
    "where $\\sigma^2_0\\mathbf{I}$ is a positive definite matrix\n",
    "$$\n",
    "\\boldsymbol{x}^{T} \\sigma_0^2\\mathbf{I} \\boldsymbol{x}=\\sigma_0^2\\sum_{i=1}^{k} x_{i}^{2}\n",
    "$$\n",
    "Now we can construct covariance matrix of $\\boldsymbol{\\hat{\\beta}}$, from discussions above we know $\\boldsymbol{\\hat{\\beta}}- \\boldsymbol{\\beta}_0 = (\\boldsymbol{X}^T\\boldsymbol{X})^{-1}\\boldsymbol{X}^T\\boldsymbol{u}$, therefore"
   ]
  },
  {
   "cell_type": "markdown",
   "metadata": {},
   "source": [
    "\\begin{align} \n",
    "\\text{Var}(\\boldsymbol{\\hat{\\beta}}) = E\\big[(\\boldsymbol{\\hat{{\\beta}}}-\\boldsymbol{\\beta_{0}})(\\boldsymbol{\\hat{{\\beta}}}-\\boldsymbol{{\\beta}}_{0})^{T}\\big]&=\n",
    "(\\boldsymbol{X}^{\\top} \\boldsymbol{X})^{-1} \\boldsymbol{X}^{T}E( \\boldsymbol{u} \\boldsymbol{u}^{T}) \\boldsymbol{X}(\\boldsymbol{X}^{T} \\boldsymbol{X})^{-1}\\\\\n",
    "&=(\\boldsymbol{X}^{\\top} \\boldsymbol{X})^{-1} \\boldsymbol{X}^{T}\\sigma_0^2\\mathbf{I} \\boldsymbol{X}(\\boldsymbol{X}^{T} \\boldsymbol{X})^{-1}\\\\\n",
    "& = \\sigma_0^2 (\\boldsymbol{X}^{\\top} \\boldsymbol{X})^{-1}\n",
    "\\end{align}\n",
    "which is the standard result for the covariance matrix of $\\boldsymbol{\\hat{\\beta}}$."
   ]
  },
  {
   "cell_type": "markdown",
   "metadata": {},
   "source": [
    "It is illuminating if we rewrite the last equation, \n",
    "\n",
    "$$\n",
    "\\text{Var}(\\boldsymbol{\\hat{\\beta}})  =\\frac{1}{n}\\sigma_0^2 \\left(\\frac{1}{n}\\boldsymbol{X}^{\\top} \\boldsymbol{X}\\right)^{-1}\n",
    "$$"
   ]
  },
  {
   "cell_type": "markdown",
   "metadata": {},
   "source": [
    "We need to make one extra assumption to interprete the equation properly, that is\n",
    "\n",
    "$$\n",
    "\\text{plim}\\left(\\frac{1}{n}\\boldsymbol{X}^{T} \\boldsymbol{X}\\right)^{-1} = \\boldsymbol{S}_{\\boldsymbol{X}^{T} \\boldsymbol{X}}\n",
    "$$\n",
    "\n",
    "where $\\boldsymbol{S}_{\\boldsymbol{X}^{T} \\boldsymbol{X}}$ is a nonstochastic matrix with full rank $k$."
   ]
  },
  {
   "cell_type": "markdown",
   "metadata": {},
   "source": [
    "Thus we get a different form of variance of OLS estimator\n",
    "\n",
    "$$\n",
    "\\text{Var}(\\boldsymbol{\\hat{\\beta}})  =\\frac{\\sigma_0^2}{n} \\boldsymbol{S}_{\\boldsymbol{X}^{T} \\boldsymbol{X}}\n",
    "$$\n",
    "\n",
    "if we double the $\\sigma_0^2$ or double the sample size $n$, the variance of $\\boldsymbol{\\hat{\\beta}}$ will be doubled and halfed respectively."
   ]
  },
  {
   "cell_type": "markdown",
   "metadata": {},
   "source": [
    "And standard errors is\n",
    "\n",
    "$$\n",
    "\\sigma_\\hat{\\beta}=\\frac{\\sigma_0}{\\sqrt{n}}\\sqrt{\\boldsymbol{S}_{\\boldsymbol{X}^{T} \\boldsymbol{X}}}\n",
    "$$"
   ]
  },
  {
   "cell_type": "markdown",
   "metadata": {},
   "source": [
    "For your reference, in basic statistics, we use formula for variance of sample means\n",
    "\n",
    "$$\n",
    "\\sigma_{\\bar{x}}=\\frac{\\sigma_0}{\\sqrt{n}}\n",
    "$$"
   ]
  },
  {
   "cell_type": "markdown",
   "metadata": {},
   "source": [
    "Apart from $n$ and $\\sigma_0^2$, the third factor which influences $\\text{Var}(\\boldsymbol{\\hat{\\beta}})$ is  $\\boldsymbol{X}$. To see this, we partition $\\boldsymbol{\\beta}$ into $[{\\beta}_1\\quad\\boldsymbol{\\beta}_2]$, where $\\boldsymbol{\\beta}_2$ denotes the $(k-1)$-vector. The linear regression model rewritten as\n",
    "\n",
    "$$\n",
    "\\boldsymbol{y} = \\boldsymbol{x}_1\\beta_1+\\boldsymbol{X}_2\\boldsymbol{\\beta}_2+\\boldsymbol{u}\n",
    "$$"
   ]
  },
  {
   "cell_type": "markdown",
   "metadata": {},
   "source": [
    "Use $\\text{FWL}$ regression\n",
    "\n",
    "$$\n",
    "\\boldsymbol{M}_2\\boldsymbol{y}= \\boldsymbol{M}_2\\boldsymbol{x}_1\\beta_1 + \\boldsymbol{v}\n",
    "$$\n",
    "\n",
    "where $\\boldsymbol{M}_2$ means projection off $\\boldsymbol{X}_2$."
   ]
  },
  {
   "cell_type": "markdown",
   "metadata": {},
   "source": [
    "According to OLS formula $\\boldsymbol{\\hat{\\beta}}= \\boldsymbol{(\\boldsymbol{X}^T\\boldsymbol{X})^{-1}\\boldsymbol{X}^T\\boldsymbol{y}}$\n",
    "\n",
    "$$\n",
    "\\hat{\\beta}_1 = (\\boldsymbol{x}_1^T\\boldsymbol{M}_2\\boldsymbol{x}_1)^{-1}\\boldsymbol{x}_1^T\\boldsymbol{M}_2\\boldsymbol{y}=\\frac{\\boldsymbol{x}_1^T\\boldsymbol{M}_2\\boldsymbol{y}}{\\boldsymbol{x}_1^T\\boldsymbol{M}_2\\boldsymbol{x}_1}\n",
    "$$"
   ]
  },
  {
   "cell_type": "markdown",
   "metadata": {},
   "source": [
    "And use variance formula $\\text{Var}(\\boldsymbol{\\hat{\\beta}}) = \\sigma_0^2 (\\boldsymbol{X}^{\\top} \\boldsymbol{X})^{-1}$, we get\n",
    "\n",
    "$$\n",
    "\\text{Var}(\\boldsymbol{\\hat{\\beta}}_1) = \\sigma_0^2\\left(\\boldsymbol{x}_1^T\\boldsymbol{M}_2\\boldsymbol{x}_1\\right)^{-1}=\\frac{\\sigma_0^2}{\\boldsymbol{x}_1^T\\boldsymbol{M}_2\\boldsymbol{x}_1}\n",
    "$$"
   ]
  },
  {
   "cell_type": "markdown",
   "metadata": {},
   "source": [
    "Also note that denominator of $\\text{FWL}$ $\\text{Var}(\\boldsymbol{\\hat{\\beta}}_1)$ is actually $\\|\\boldsymbol{M}_2\\boldsymbol{x}_1\\|^2$. The geometric interpretation of precision (the inverse of variance) is provided in next section."
   ]
  },
  {
   "cell_type": "markdown",
   "metadata": {},
   "source": [
    "## <font face=\"gotham\" color=\"purple\"> Multicollinearity and Visualization </font>"
   ]
  },
  {
   "cell_type": "markdown",
   "metadata": {},
   "source": [
    "The formula of $\\text{FWL}$ $\\text{Var}(\\boldsymbol{\\hat{\\beta}})$ raises the problem of multicollinearity, which means that one or some of regressors have strong correlation with rest."
   ]
  },
  {
   "cell_type": "markdown",
   "metadata": {},
   "source": [
    "Here we visualize the subspace $\\text{span}({x}_1,\\ \\boldsymbol{X}_2)$ prepared for $\\text{FWL}$ regression above."
   ]
  },
  {
   "cell_type": "code",
   "execution_count": 7,
   "metadata": {},
   "outputs": [
    {
     "data": {
      "image/png": "[encoded data removed]",
      "text/plain": [
       "<Figure size 720x720 with 1 Axes>"
      ]
     },
     "metadata": {},
     "output_type": "display_data"
    }
   ],
   "source": [
    "fig, ax = plt.subplots(figsize = (10, 10))\n",
    "\n",
    "basis = np.array([[0, 0, 5, 7], [0, 0, 9, 0]])\n",
    "X, Y, U, V = zip(*basis)\n",
    "ax.quiver(X, Y, U, V, angles='xy', scale_units='xy', scale=1) \n",
    "\n",
    "M2x1 = np.array([[0, 0, 0, 7]])\n",
    "X, Y, U, V = zip(*M2x1)\n",
    "ax.quiver(X, Y, U, V, angles='xy', scale_units='xy', scale=1, color = 'red') \n",
    "\n",
    "x1_apos = np.array([[0, 0, 7, 5]])\n",
    "X, Y, U, V = zip(*x1_apos)\n",
    "ax.quiver(X, Y, U, V, angles='xy', scale_units='xy', scale=1, color = 'gray') \n",
    "\n",
    "M2x1_apos = np.array([[0, 0, 0, 5]])\n",
    "X, Y, U, V = zip(*M2x1_apos)\n",
    "ax.quiver(X, Y, U, V, angles='xy', scale_units='xy', scale=1, color = 'pink') \n",
    "\n",
    "X2c = np.array([[0, 0, 5, 0]])\n",
    "X, Y, U, V = zip(*X2c)\n",
    "ax.quiver(X, Y, U, V, angles='xy', scale_units='xy', scale=1, color = 'aqua') \n",
    "\n",
    "point1 = [7, 5]\n",
    "point2 = [0, 5]\n",
    "line = np.array([point1, point2])\n",
    "ax.plot(line[:,0], line[:,1], c = 'k', lw = 3.5,alpha =0.5, ls = '--')\n",
    "\n",
    "point1 = [5, 7]\n",
    "point2 = [0, 7]\n",
    "line = np.array([point1, point2])\n",
    "ax.plot(line[:,0], line[:,1], c = 'k', lw = 3.5,alpha =0.5, ls = '--')\n",
    "\n",
    "point1 = [5, 0]\n",
    "point2 = [5, 7]\n",
    "line = np.array([point1, point2])\n",
    "ax.plot(line[:,0], line[:,1], c = 'aqua', lw = 3.5,alpha =0.5, ls = '--')\n",
    "\n",
    "ax.set_xlim([-1, 10])\n",
    "ax.set_ylim([-1, 10])\n",
    "#plt.draw()\n",
    "ax.grid()\n",
    "\n",
    "\n",
    "ax.text(5, 7, r'$x_1$', size = 18)\n",
    "ax.text(9, 0, r'$X_2$', size = 18)\n",
    "ax.text(0, 7, r'$M_2 x_1$', size = 18)\n",
    "ax.text(7, 5, r'$x_1^\\prime$', size = 18)\n",
    "ax.text(0, 5, r'$M_2 x_1^\\prime$', size = 18)\n",
    "ax.text(7, 7, r'$Var(\\hat{\\beta}_1)=\\frac{\\sigma_0^2}{\\|\\|M_2x_1\\|\\|^2}$', size = 18)\n",
    "ax.text(.3, .1, r'$\\vartheta$', size = 22)\n",
    "ax.text(5, 0.1, r'$X_2c$', size = 18)\n",
    "ax.text(4.85, 3, r'$\\hat{u}$', size = 22)\n",
    "\n",
    "style = 'Simple, tail_width=0.5, head_width=8, head_length=16'\n",
    "kw = dict(arrowstyle=style, color='orange', ls = '-.', alpha = .5, lw = 3)\n",
    "arrow = mpl.patches.FancyArrowPatch((9,2),(2,9), connectionstyle='arc3,rad=.35', **kw)\n",
    "ax.add_patch(arrow)\n",
    "\n",
    "plt.show()"
   ]
  },
  {
   "cell_type": "markdown",
   "metadata": {},
   "source": [
    "As we can see from the graph, if the length $\\|\\boldsymbol{M}_2{x_1}\\|$ is becoming longer means that the angle $\\vartheta$ is increasing on condition that $\\|x_1\\|$ remain the same.\n",
    "\n",
    "From linear algebra course, we know the formula\n",
    "\n",
    "$$\n",
    "\\cos{\\vartheta} = \\frac{\\boldsymbol{u}\\cdot\\boldsymbol{v}}{\\|\\boldsymbol{u}\\|\\|\\boldsymbol{v}\\|}\n",
    "$$\n",
    "\n",
    "which is exactly the correlation coefficient. The larger the angle, the lower the correlation, i.e. smaller $\\cos{\\vartheta}$."
   ]
  },
  {
   "cell_type": "markdown",
   "metadata": {},
   "source": [
    "In this example, if $\\boldsymbol{x}_1$ is highly correlated with $\\boldsymbol{X}_2$, then $\\vartheta$ must be relatively small, therefore $\\text{Var}(\\hat{\\beta})$ is relatively high. This is what we call multicollinearity in practice, though it is not really collinear, rather, approximately pointing to the same direction.\n",
    "\n",
    "But remember this, multicollinearity always presents, but in a matter of degree, not yes or no."
   ]
  },
  {
   "cell_type": "markdown",
   "metadata": {},
   "source": [
    "We can also interpret the graph by using a standard regression model\n",
    "\n",
    "$$\n",
    "\\boldsymbol{x}_1 = \\boldsymbol{X}_2c + \\hat{u}\n",
    "$$\n",
    "\n",
    "where $\\hat{u} = \\boldsymbol{M}_2\\boldsymbol{x}_1$. "
   ]
  },
  {
   "cell_type": "markdown",
   "metadata": {
    "tags": []
   },
   "source": [
    "## <font face=\"gotham\" color=\"purple\"> Comparing Precision of Estimators </font>"
   ]
  },
  {
   "cell_type": "markdown",
   "metadata": {},
   "source": [
    "If estimator $\\boldsymbol{\\hat{\\beta}}$ is more precise than $\\boldsymbol{\\tilde{\\beta}}$, the difference between them\n",
    "$$\n",
    "\\text{Var}(\\boldsymbol{\\tilde{\\beta}})- \\text{Var}(\\boldsymbol{\\hat{\\beta}})\n",
    "$$\n",
    "is a positive semidefinite matrix.\n",
    "\n",
    "Also any linear combination of $w^T\\boldsymbol{\\hat{\\beta}}$ is also more efficient than $w^T\\boldsymbol{\\tilde{\\beta}}$, because $\\text{Var}(w^T\\beta)=w^T\\text{Var}(\\beta)w$\n",
    "$$\n",
    "\\boldsymbol{w}^{\\top} \\operatorname{Var}(\\tilde{\\boldsymbol{\\beta}}) \\boldsymbol{w}-\\boldsymbol{w}^{\\top} \\operatorname{Var}(\\hat{\\boldsymbol{\\beta}}) \\boldsymbol{w}=\\boldsymbol{w}^{\\top}(\\operatorname{Var}(\\tilde{\\boldsymbol{\\beta}})-\\operatorname{Var}(\\hat{\\boldsymbol{\\beta}})) \\boldsymbol{w}\\geq0\n",
    "$$"
   ]
  },
  {
   "cell_type": "markdown",
   "metadata": {
    "tags": []
   },
   "source": [
    "## <font face=\"gotham\" color=\"purple\"> The Gauss-Markov Theorem </font>"
   ]
  },
  {
   "cell_type": "markdown",
   "metadata": {},
   "source": [
    "The principal result on efficiency of OLS estimator is called the **Gauss-Markov Theorem**. The informal way of stating this theorem is to say that $\\hat{\\beta}$ is the **best linear unbiased estimator** (**BLUE**) ."
   ]
  },
  {
   "cell_type": "markdown",
   "metadata": {},
   "source": [
    "Formally, if these two conditions are satisfied\n",
    "1. $E(\\boldsymbol{u}|\\boldsymbol{X})=\\boldsymbol{0}$\n",
    "2. $E(\\boldsymbol{u}\\boldsymbol{u}^T|\\boldsymbol{X})=\\sigma^2\\mathbf{I}$ (homoskedasticity and uncorrelated $u_t$)\n",
    "\n",
    "OLS estimator is the BLUE."
   ]
  },
  {
   "cell_type": "markdown",
   "metadata": {},
   "source": [
    "The first condition holds because\n",
    "$$\n",
    "E\\left[\\begin{array}{c}\n",
    "u_{1} \\mid \\boldsymbol{X} \\\\\n",
    "u_{2} \\mid \\boldsymbol{X} \\\\\n",
    "\\vdots \\\\\n",
    "u_{n} \\mid \\boldsymbol{X}\n",
    "\\end{array}\\right]=\\left[\\begin{array}{c}\n",
    "E\\left(u_{1}\\right) \\\\\n",
    "E\\left(u_{2}\\right) \\\\\n",
    "\\vdots \\\\\n",
    "E\\left(u_{n}\\right)\n",
    "\\end{array}\\right]=\\left[\\begin{array}{c}\n",
    "0 \\\\\n",
    "0 \\\\\n",
    "\\vdots \\\\\n",
    "0\n",
    "\\end{array}\\right]\n",
    "$$"
   ]
  },
  {
   "cell_type": "markdown",
   "metadata": {},
   "source": [
    "The second condition can be shown\n",
    "\\begin{align}\n",
    "E\\left(\\boldsymbol{u u}^T \\mid \\boldsymbol{X}\\right)&=E\\left[\\begin{array}{cccc}\n",
    "u_{1}^{2} \\mid X & u_{1} u_{2} \\mid X & \\ldots & u_{1} u_{n} \\mid X \\\\\n",
    "u_{2} u_{1} \\mid X & u_{2}^{2} \\mid X & \\ldots & u_{2} u_{n} \\mid X \\\\\n",
    "\\vdots & \\vdots & \\vdots & \\vdots \\\\\n",
    "u_{n} u_{1} \\mid X & u_{n} u_{2} \\mid X & \\ldots & u_{n}^{2} \\mid X\n",
    "\\end{array}\\right]\\\\\n",
    "&=\\left[\\begin{array}{cccc}\n",
    "E\\left[u_{1}^{2} \\mid X\\right] & E\\left[u_{1} u_{2} \\mid X\\right] & \\ldots & E\\left[u_{1} u_{n} \\mid X\\right] \\\\\n",
    "E\\left[u_{2} u_{1} \\mid X\\right] & E\\left[u_{2}^{2} \\mid X\\right] & \\ldots & E\\left[u_{2} u_{n} \\mid X\\right] \\\\\n",
    "\\vdots & \\vdots & \\vdots & \\vdots \\\\\n",
    "E\\left[u_{n} u_{1} \\mid X\\right] & E\\left[u_{n} u_{2} \\mid X\\right] & \\ldots & E\\left[u_{n}^{2} \\mid X\\right]\n",
    "\\end{array}\\right]\\\\\n",
    "&= \\left[\\begin{array}{cccc}\n",
    "\\sigma^{2} & 0 & \\ldots & 0 \\\\\n",
    "0 & \\sigma^{2} & \\ldots & 0 \\\\\n",
    "\\vdots & \\vdots & \\vdots & \\vdots \\\\\n",
    "0 & 0 & \\ldots & \\sigma^{2}\n",
    "\\end{array}\\right]\n",
    "\\end{align}"
   ]
  },
  {
   "cell_type": "markdown",
   "metadata": {},
   "source": [
    "in the linear regression model, then OLS estimator $\\boldsymbol{\\hat{\\beta}}$ is more efficient than any other $\\boldsymbol{\\tilde{\\beta}}$, i.e. $\\text{Var}(\\boldsymbol{\\hat{\\beta}}) - \\text{Var}(\\boldsymbol{\\tilde{\\beta}})$ is a positive semidefinite matrix. "
   ]
  },
  {
   "cell_type": "markdown",
   "metadata": {
    "tags": []
   },
   "source": [
    "# <font face=\"gotham\" color=\"purple\"> Residuals and Disturbance Terms </font>"
   ]
  },
  {
   "cell_type": "markdown",
   "metadata": {},
   "source": [
    "We have discussed geometric and numerical properties of $\\hat{\\boldsymbol{u}}$ in last chapter, here we will discuss the properties of $\\hat{\\boldsymbol{u}}$."
   ]
  },
  {
   "cell_type": "markdown",
   "metadata": {},
   "source": [
    "One important insight from geometric view of OLS is \n",
    "$$\n",
    "\\|\\boldsymbol{u}\\| \\geq \\|\\boldsymbol{\\hat{u}}\\| \n",
    "$$\n",
    "which is a direct deduction of $\\boldsymbol{\\hat{u}}=\\boldsymbol{M_Xu}$. "
   ]
  },
  {
   "cell_type": "markdown",
   "metadata": {
    "tags": []
   },
   "source": [
    "## <font face=\"gotham\" color=\"purple\"> Expectation of Residuals </font>"
   ]
  },
  {
   "cell_type": "markdown",
   "metadata": {},
   "source": [
    "Consider two matrices $\\boldsymbol{A}_{n\\times m}$ and $\\boldsymbol{B}_{m \\times k}$, then the $i^{th}$ row of $\\boldsymbol{AB}$ is the product of $i^{th}$ row of $\\boldsymbol{A}$ and entire $\\boldsymbol{B}$, if we want to represent the $t^{th}$ row of $\\boldsymbol{AB}$ we can use \n",
    "\n",
    "$$\n",
    "\\boldsymbol{A}_t\\boldsymbol{B}\n",
    "$$\n",
    "\n",
    "where $\\boldsymbol{A}_t$ is the $t^{th}$ row of $\\boldsymbol{A}$.\n",
    "\n",
    "In general we can represent $t^{th}$ row of a product of matrices by picking out the $t^{th}$ row of the leftmost matrix."
   ]
  },
  {
   "cell_type": "markdown",
   "metadata": {},
   "source": [
    "Using this fact, we can denote the $t^{th}$ residual as\n",
    "\n",
    "$$\n",
    "\\hat{u}_t = \\boldsymbol{M_X}\\boldsymbol{u} = (\\mathbf{I}-\\boldsymbol{P_X})\\boldsymbol{u} = u_t - \\boldsymbol{X}_t(\\boldsymbol{X}^T\\boldsymbol{X})^{-1}\\boldsymbol{X}^T\\boldsymbol{u}\n",
    "$$"
   ]
  },
  {
   "cell_type": "markdown",
   "metadata": {},
   "source": [
    "Although in Gauss-Markov Theorem, we assume the elements in error terms are independent, but this is not the case among residuals. "
   ]
  },
  {
   "cell_type": "markdown",
   "metadata": {},
   "source": [
    "It is clear $\\boldsymbol{\\hat{u}}$ is a linear combination of $\\boldsymbol{u}$ i.e. $\\boldsymbol{M_Xu}$, so the $E(\\boldsymbol{\\hat{u}}) = \\boldsymbol{0}$."
   ]
  },
  {
   "cell_type": "markdown",
   "metadata": {},
   "source": [
    "## <font face=\"gotham\" color=\"purple\"> Variance of Residuals </font>"
   ]
  },
  {
   "cell_type": "markdown",
   "metadata": {},
   "source": [
    "Use the variance formula on $\\boldsymbol{\\hat{u}}$\n",
    "\n",
    "\\begin{align}\n",
    "\\text{Var}(\\boldsymbol{\\hat{u}})&= \\text{Var}(\\boldsymbol{M_X}\\boldsymbol{{u}}) = E[(\\boldsymbol{M_X u}- E(\\boldsymbol{M_X u}))(\\boldsymbol{M_X u}- E(\\boldsymbol{M_X u})^T)]\\\\\n",
    "&= E(\\boldsymbol{M_X}\\boldsymbol{u}\\boldsymbol{u}^T\\boldsymbol{M_X}) = \\boldsymbol{M_X}E(\\boldsymbol{u}\\boldsymbol{u}^T)\\boldsymbol{M_X} = \\boldsymbol{M_X}\\text{Var}(\\boldsymbol{u})\\boldsymbol{M_X}\\\\\n",
    "& = \\boldsymbol{M_X}(\\sigma_0^2\\mathbf{I})\\boldsymbol{M_X}\\\\\n",
    "& = \\sigma_0^2 \\boldsymbol{M_X}\n",
    "\\end{align}"
   ]
  },
  {
   "cell_type": "markdown",
   "metadata": {},
   "source": [
    "Obviously, $\\boldsymbol{M_X}$ is not an identity matrix, which means that variances of $\\hat{u}_t$ might not be homoscedasticity, also $E(u_tu_s)\\neq 0$, i.e. the residuals are correlated."
   ]
  },
  {
   "cell_type": "markdown",
   "metadata": {},
   "source": [
    "We have denoted the $t^{th}$ diagonal element of $\\boldsymbol{P_X}$ as $h_t$, then the $t^{th}$ diagonal element of $\\boldsymbol{M_X}$ is $1-h_t$. In last chapter, we have shown that $0 \\leq h_t < 1$, hence $0 \\leq 1- h_t < 1$\n",
    "\n",
    "$$\n",
    "\\text{Var}(\\hat{u}_t)<\\sigma_0^2\n",
    "$$"
   ]
  },
  {
   "cell_type": "markdown",
   "metadata": {},
   "source": [
    "The variance of any residual from OLS is always smaller than variance of disturbance term, this feature determined by the mechanism of OLS algorithm."
   ]
  },
  {
   "cell_type": "code",
   "execution_count": null,
   "metadata": {},
   "outputs": [],
   "source": []
  },
  {
   "cell_type": "markdown",
   "metadata": {
    "tags": []
   },
   "source": [
    "## <font face=\"gotham\" color=\"purple\"> Estimating the Variance of Error Terms </font>"
   ]
  },
  {
   "cell_type": "markdown",
   "metadata": {},
   "source": [
    "We do not observe the disturbance terms $u_t$, neither does $\\sigma^2_0$. But we are able to estimate it by method of moments."
   ]
  },
  {
   "cell_type": "markdown",
   "metadata": {},
   "source": [
    "The simplest estimator of $\\sigma^2_0$ is \n",
    "\n",
    "$$\n",
    "\\hat{\\sigma}^2 = \\frac{1}{n}\\sum_{t=1}^n\\hat{u}_t^2\n",
    "$$"
   ]
  },
  {
   "cell_type": "markdown",
   "metadata": {},
   "source": [
    "However we have shown $\\text{Var}(\\hat{u}_t)<\\sigma_0^2$, so $\\hat{\\sigma}^2$ must be biased downward."
   ]
  },
  {
   "cell_type": "markdown",
   "metadata": {},
   "source": [
    "Before showing how to neutralize the bias, here is a side note about the trace of matrices."
   ]
  },
  {
   "cell_type": "markdown",
   "metadata": {
    "tags": []
   },
   "source": [
    "### <font face=\"gotham\" color=\"purple\"> The Trace of Matrices </font>"
   ]
  },
  {
   "cell_type": "markdown",
   "metadata": {},
   "source": [
    "The trace is the sum of the elements on the principal diagonal of a $n\\times n$ matrix, denoted $\\text{Tr}(\\boldsymbol{A})$. And it can be a product of any two matrices $\\boldsymbol{A}_{n\\times m} \\boldsymbol{B}_{m \\times n}$. But there is a convenient property called **cyclic permutation**.\n",
    "\n",
    "$$\n",
    "\\text{Tr}(\\boldsymbol{ABC}) = \\text{Tr}(\\boldsymbol{CAB}) = \\text{Tr}(\\boldsymbol{BCA})\n",
    "$$"
   ]
  },
  {
   "cell_type": "markdown",
   "metadata": {},
   "source": [
    "Because $\\boldsymbol{P_X}$ is a square matrix, we can use the formula onto $\\boldsymbol{P_X}$ and we can show that\n",
    "\n",
    "$$\n",
    "\\text{Tr}(\\boldsymbol{P_X})= \\text{Tr}(\\boldsymbol{X}(\\boldsymbol{X}^T\\boldsymbol{X})^{-1}\\boldsymbol{X}^T) =   \\text{Tr}(\\boldsymbol{X}^T\\boldsymbol{X}(\\boldsymbol{X}^T\\boldsymbol{X})^{-1}) =  \\text{Tr}(\\mathbf{I}_k) = k\n",
    "$$"
   ]
  },
  {
   "cell_type": "markdown",
   "metadata": {},
   "source": [
    "### <font face=\"gotham\" color=\"purple\"> Unbiased Estimator of Variance of Error Term </font>"
   ]
  },
  {
   "cell_type": "markdown",
   "metadata": {},
   "source": [
    "Let's process with $\\hat{\\sigma}^2$ by taking expectation\n",
    "\n",
    "$$\n",
    "E(\\hat{\\sigma}^2) = \\frac{1}{n}\\sum_{t=1}^nE(\\hat{u}_t^2)\n",
    "$$"
   ]
  },
  {
   "cell_type": "markdown",
   "metadata": {},
   "source": [
    "Use the fact that $\\text{Var}(\\hat{u}_t) = E[(\\hat{u}_t- E(\\hat{u}_t))^2] = E[(\\hat{u}_t)^2] = (1-h_t)\\sigma_0^2$ and $\\text{Tr}(\\mathbf{I}_k)=k$"
   ]
  },
  {
   "cell_type": "markdown",
   "metadata": {},
   "source": [
    "$$\n",
    "\\frac{1}{n}\\sum_{t=1}^nE(\\hat{u}_t^2) = \\frac{1}{n}\\sum_{t=1}^n(1-h_t)\\sigma_0^2=\\frac{n-k}{n}\\sigma_0^2\n",
    "$$"
   ]
  },
  {
   "cell_type": "markdown",
   "metadata": {},
   "source": [
    "We have the unbiased estimator of $\\sigma^2$\n",
    "\n",
    "$$\n",
    "s^2 = \\frac{1}{n-k}\\sum_{t=1}^nE(\\hat{u}_t^2)= \\frac{1}{n-k}\\sum_{t=1}^n\\hat{u}_t^2=\\frac{\\hat{u}^T\\hat{u}}{n-k}\n",
    "$$"
   ]
  },
  {
   "cell_type": "markdown",
   "metadata": {},
   "source": [
    "And now we can replace the $\\sigma_0^2$ in the $\\text{Var}(\\boldsymbol{\\hat{\\beta}}) = \\sigma_0^2(\\boldsymbol{X^TX})^{-1}$, the square root of principal diagonal holds the **standard error** of $\\boldsymbol{\\hat{\\beta}}$.\n",
    "\n",
    "$$\n",
    "\\widehat{\\text{Var}}(\\boldsymbol{\\hat{\\beta}}) = s^2(\\boldsymbol{X^TX})^{-1}\n",
    "$$"
   ]
  },
  {
   "cell_type": "markdown",
   "metadata": {},
   "source": [
    "### <font face=\"gotham\" color=\"purple\"> Numerical Example of Residuals </font>"
   ]
  },
  {
   "cell_type": "markdown",
   "metadata": {},
   "source": [
    "Use the function that I wrote in ```linregfunc.py```, we can do a quick simulation comparing the modulus of residuals and disturbance term."
   ]
  },
  {
   "cell_type": "code",
   "execution_count": 8,
   "metadata": {},
   "outputs": [],
   "source": [
    "import linregfunc as lr"
   ]
  },
  {
   "cell_type": "code",
   "execution_count": 9,
   "metadata": {},
   "outputs": [],
   "source": [
    "X = lr.gen_X(100, 5)\n",
    "beta = lr.gen_beta([3, 4, 5, 6, 7])\n",
    "u = lr.gen_u(100)\n",
    "\n",
    "y = X@beta + u"
   ]
  },
  {
   "cell_type": "code",
   "execution_count": 10,
   "metadata": {},
   "outputs": [],
   "source": [
    "beta_hat = lr.ols(y, X)"
   ]
  },
  {
   "cell_type": "code",
   "execution_count": 11,
   "metadata": {},
   "outputs": [],
   "source": [
    "y_fitted = X@beta_hat"
   ]
  },
  {
   "cell_type": "code",
   "execution_count": 12,
   "metadata": {},
   "outputs": [],
   "source": [
    "residuals = y - y_fitted"
   ]
  },
  {
   "cell_type": "code",
   "execution_count": 13,
   "metadata": {},
   "outputs": [
    {
     "name": "stdout",
     "output_type": "stream",
     "text": [
      "The moduduls of residual: 9.5759\n",
      "The moduduls of disturbance term: 10.0394\n"
     ]
    }
   ],
   "source": [
    "print('The moduduls of residual: {:.4f}'.format(np.linalg.norm(residuals)))\n",
    "print('The moduduls of disturbance term: {:.4f}'.format(np.linalg.norm(u)))"
   ]
  },
  {
   "cell_type": "markdown",
   "metadata": {},
   "source": [
    "How to simulate this?\n",
    "$$\n",
    "\\text{Var}(\\hat{u}_t)<\\sigma_0^2\n",
    "$$"
   ]
  },
  {
   "cell_type": "markdown",
   "metadata": {},
   "source": [
    "The function, which generates disturbance terms, follows a standard normal distribution, i.e. $\\sigma_0^2=1$. $\\hat{u}_t$ is a specific term of the residual vector, for instance to estimate the variance of $\\hat{u}_1$, we simulate the estimation process $10000$ times, then calculate the variance from those $10000$ $\\hat{u}_1$'s.\n",
    "\n",
    "Set sample size $n=100$, create projection matrix $\\boldsymbol{M}$."
   ]
  },
  {
   "cell_type": "code",
   "execution_count": 14,
   "metadata": {},
   "outputs": [],
   "source": [
    "X = lr.gen_X(100, 5)\n",
    "proj_matM = lr.proj_mat_M(X)"
   ]
  },
  {
   "cell_type": "markdown",
   "metadata": {},
   "source": [
    "Create $\\boldsymbol{\\beta} = [2, 4, 5, 6, 7]^T$ and a placeholder array for residuals."
   ]
  },
  {
   "cell_type": "code",
   "execution_count": 15,
   "metadata": {},
   "outputs": [],
   "source": [
    "beta = lr.gen_beta([3, 4, 5, 6, 7])\n",
    "resid_array = np.zeros([100, 1])"
   ]
  },
  {
   "cell_type": "markdown",
   "metadata": {},
   "source": [
    "Generate $10000$ vectors of residuals and stack them horizontally by specifying ```axis=1```."
   ]
  },
  {
   "cell_type": "code",
   "execution_count": 16,
   "metadata": {},
   "outputs": [],
   "source": [
    "for i in range(10000):\n",
    "    u = lr.gen_u(100)\n",
    "    resid = proj_matM@u\n",
    "    resid_array = np.concatenate((resid_array, resid), axis = 1)\n",
    "resid_array = resid_array[:, 1:]"
   ]
  },
  {
   "cell_type": "markdown",
   "metadata": {},
   "source": [
    "Because this is a sequence of simulations, the variance will be a frequency distribution rather than a single number. Here is the histogram, obviously the mean is less than $1$ as we have expected."
   ]
  },
  {
   "cell_type": "code",
   "execution_count": 17,
   "metadata": {},
   "outputs": [
    {
     "data": {
      "image/png": "[encoded data removed]",
      "text/plain": [
       "<Figure size 720x720 with 1 Axes>"
      ]
     },
     "metadata": {},
     "output_type": "display_data"
    }
   ],
   "source": [
    "fig, ax = plt.subplots(figsize=(10, 10))\n",
    "ax.hist(np.var(resid_array, axis = 0), bins= 80)\n",
    "ax.axvline(x = np.mean(np.var(resid_array, axis = 0)), color = 'blue')\n",
    "ax.set_title('Variance Distribution of Sampled Residuals')\n",
    "plt.show()"
   ]
  },
  {
   "cell_type": "markdown",
   "metadata": {},
   "source": [
    "### <font face=\"gotham\" color=\"purple\"> Standard Errors Simulation </font>"
   ]
  },
  {
   "cell_type": "code",
   "execution_count": 18,
   "metadata": {},
   "outputs": [],
   "source": [
    "X = lr.gen_X(100, 5)\n",
    "beta = lr.gen_beta([3, 4, 5, 6, 7])\n",
    "u = lr.gen_u(100)\n",
    "y = X@beta + u\n",
    "\n",
    "proj_matM = lr.proj_mat_M(X)\n",
    "residuals = proj_matM@u"
   ]
  },
  {
   "cell_type": "code",
   "execution_count": 19,
   "metadata": {},
   "outputs": [
    {
     "ename": "NameError",
     "evalue": "name 'k' is not defined",
     "output_type": "error",
     "traceback": [
      "\u001b[1;31m---------------------------------------------------------------------------\u001b[0m",
      "\u001b[1;31mNameError\u001b[0m                                 Traceback (most recent call last)",
      "\u001b[1;32mC:\\Users\\ADMINI~1\\AppData\\Local\\Temp/ipykernel_28424/1234208056.py\u001b[0m in \u001b[0;36m<module>\u001b[1;34m\u001b[0m\n\u001b[1;32m----> 1\u001b[1;33m \u001b[1;33m[\u001b[0m\u001b[0mcov_betahat\u001b[0m\u001b[1;33m,\u001b[0m \u001b[0mcov_betahat_diag\u001b[0m\u001b[1;33m]\u001b[0m \u001b[1;33m=\u001b[0m \u001b[0mlr\u001b[0m\u001b[1;33m.\u001b[0m\u001b[0mcov_beta_hat\u001b[0m\u001b[1;33m(\u001b[0m\u001b[0mresiduals\u001b[0m\u001b[1;33m,\u001b[0m \u001b[0mk\u001b[0m\u001b[1;33m,\u001b[0m \u001b[0mX\u001b[0m\u001b[1;33m)\u001b[0m\u001b[1;33m\u001b[0m\u001b[1;33m\u001b[0m\u001b[0m\n\u001b[0m\u001b[0;32m      2\u001b[0m \u001b[0mnp\u001b[0m\u001b[1;33m.\u001b[0m\u001b[0msqrt\u001b[0m\u001b[1;33m(\u001b[0m\u001b[0mcov_betahat_diag\u001b[0m\u001b[1;33m)\u001b[0m\u001b[1;33m\u001b[0m\u001b[1;33m\u001b[0m\u001b[0m\n",
      "\u001b[1;31mNameError\u001b[0m: name 'k' is not defined"
     ]
    }
   ],
   "source": [
    "[cov_betahat, cov_betahat_diag] = lr.cov_beta_hat(residuals, k, X)\n",
    "np.sqrt(cov_betahat_diag)"
   ]
  },
  {
   "cell_type": "markdown",
   "metadata": {},
   "source": [
    "Compare with ```statsmodels``` results. "
   ]
  },
  {
   "cell_type": "code",
   "execution_count": null,
   "metadata": {},
   "outputs": [],
   "source": [
    "ols_obj_fit = sm.OLS(y, X).fit()\n",
    "print(ols_obj_fit.bse)"
   ]
  },
  {
   "cell_type": "markdown",
   "metadata": {},
   "source": [
    "Results are exactly the same."
   ]
  },
  {
   "cell_type": "code",
   "execution_count": null,
   "metadata": {},
   "outputs": [],
   "source": []
  }
 ],
 "metadata": {
  "kernelspec": {
   "display_name": "Python 3 (ipykernel)",
   "language": "python",
   "name": "python3"
  },
  "language_info": {
   "codemirror_mode": {
    "name": "ipython",
    "version": 3
   },
   "file_extension": ".py",
   "mimetype": "text/x-python",
   "name": "python",
   "nbconvert_exporter": "python",
   "pygments_lexer": "ipython3",
   "version": "3.8.12"
  },
  "toc": {
   "base_numbering": 1,
   "nav_menu": {},
   "number_sections": true,
   "sideBar": true,
   "skip_h1_title": false,
   "title_cell": "Table of Contents",
   "title_sidebar": "Contents",
   "toc_cell": true,
   "toc_position": {},
   "toc_section_display": true,
   "toc_window_display": false
  },
  "toc-autonumbering": false
 },
 "nbformat": 4,
 "nbformat_minor": 4
}
