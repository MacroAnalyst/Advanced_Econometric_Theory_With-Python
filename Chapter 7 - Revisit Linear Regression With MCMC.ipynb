{
 "cells": [
  {
   "cell_type": "code",
   "execution_count": 1,
   "metadata": {},
   "outputs": [],
   "source": [
    "import numpy as np\n",
    "import scipy as sp\n",
    "import scipy.stats\n",
    "import matplotlib.pyplot as plt\n",
    "import math as mt\n",
    "import scipy.special\n",
    "import seaborn as sns\n",
    "plt.style.use('fivethirtyeight')\n",
    "from statsmodels.graphics.tsaplots import plot_acf\n",
    "import pandas as pd"
   ]
  },
  {
   "cell_type": "markdown",
   "metadata": {},
   "source": [
    "# <font face=\"gotham\" color=\"orange\"> Linear Regression Model </font>"
   ]
  },
  {
   "cell_type": "markdown",
   "metadata": {},
   "source": [
    "## <font face=\"gotham\" color=\"orange\"> Normal-Gamma Conjugacy</font>"
   ]
  },
  {
   "cell_type": "markdown",
   "metadata": {},
   "source": [
    "The common matrix form of linear regression is\n",
    "$$\n",
    "y =    X \\beta+u\n",
    "$$\n",
    "where $u \\sim N(\\boldsymbol{0}, \\sigma^2 I)$."
   ]
  },
  {
   "cell_type": "markdown",
   "metadata": {},
   "source": [
    "The covariance matrix of disturbance term $u$ is \n",
    "$$\n",
    "\\begin{aligned}\n",
    "&\\operatorname{var}(u) \\equiv\\left[\\begin{array}{cccc}\n",
    "\\operatorname{var}\\left(u_{1}\\right) & \\operatorname{cov}\\left(u_{1}, u_{2}\\right) & \\ldots & \\operatorname{cov}\\left(u_{1}, u_{N}\\right) \\\\\n",
    "\\operatorname{cov}\\left(u_{1}, u_{2}\\right) & \\operatorname{var}\\left(u_{2}\\right) & \\ldots & . \\\\\n",
    "\\cdot & \\operatorname{cov}\\left(u_{2}, u_{3}\\right) & \\ldots & . \\\\\n",
    "\\cdot & \\cdot & \\ldots & \\operatorname{cov}\\left(u_{N-1}, u_{N}\\right) \\\\\n",
    "\\operatorname{cov}\\left(u_{1}, u_{N}\\right) & . & \\ldots & \\operatorname{var}\\left(u_{N}\\right)\n",
    "\\end{array}\\right]=\\left[\\begin{array}{cccc}\n",
    "h^{-1} & 0 & \\ldots & 0 \\\\\n",
    "0 & h^{-1} & \\ldots & . \\\\\n",
    ". & . & \\ldots & . \\\\\n",
    ". & . & \\cdots & 0 \\\\\n",
    "0 & . & . & h^{-1}\n",
    "\\end{array}\\right]\n",
    "\\end{aligned}\n",
    "$$"
   ]
  },
  {
   "cell_type": "markdown",
   "metadata": {},
   "source": [
    "For easier mathematical manipulation, we ususally use $h = 1/\\sigma^2$, which is the **precision**. The diagonal form of covariance matrix reprensents two assumptions: **no serial correlation** and **homoscedasticity**."
   ]
  },
  {
   "cell_type": "markdown",
   "metadata": {},
   "source": [
    "Also with the assumption that $X$ is exogenous, we can construct the joint probability density \n",
    "$$\n",
    "P(y, X \\mid \\beta, h)=P(y \\mid X, \\beta, h) P(X)\n",
    "$$"
   ]
  },
  {
   "cell_type": "markdown",
   "metadata": {},
   "source": [
    "However because $X$ does not depend $\\beta$ and $h$, we narrow our interest onto\n",
    "$$\n",
    "P(y \\mid X, \\beta, h)\n",
    "$$"
   ]
  },
  {
   "cell_type": "markdown",
   "metadata": {},
   "source": [
    "Recall that multivariabe normal distribution takes the form"
   ]
  },
  {
   "cell_type": "markdown",
   "metadata": {},
   "source": [
    "$$\n",
    "f(X)=(2 \\pi)^{-N / 2}|\\Sigma|^{-1 / 2} \\exp \\left(-\\frac{1}{2}(X-\\mu)^T \\Sigma^{-1}(X-\\mu)\\right) \\text { for } \\sigma>0\n",
    "$$"
   ]
  },
  {
   "cell_type": "markdown",
   "metadata": {},
   "source": [
    "where $|\\Sigma|$ is the determinant of covariance matrix, $\\Sigma^{-1}$ is the inverse of covariance matrix."
   ]
  },
  {
   "cell_type": "markdown",
   "metadata": {},
   "source": [
    "In the linear regression context, the determinat of covariance matrix is\n",
    "$$\n",
    "|\\text{var}(u)|^{-1/2}=\\left(\\prod_{i=1}^Nh^{-1}\\right)^{-1/2} = (h^{-N})^{-1/2}=h^{N/2}\n",
    "$$"
   ]
  },
  {
   "cell_type": "markdown",
   "metadata": {},
   "source": [
    "The inverse matrix of covariance matrix\n",
    "$$\n",
    "\\text{var}(u)^{-1} = (h^{-1}I)^{-1}=hI\n",
    "$$"
   ]
  },
  {
   "cell_type": "markdown",
   "metadata": {},
   "source": [
    "## <font face=\"gotham\" color=\"orange\"> Likelihood Function </font>"
   ]
  },
  {
   "cell_type": "markdown",
   "metadata": {},
   "source": [
    "With all previous preparation, the the likelihood function $P(y \\mid X, \\beta, h)$ simplified to\n",
    "$$\n",
    "P(y \\mid  X, \\beta, h)=(2 \\pi)^{-\\frac{N}{2}} h^{\\frac{N}{2}} \\exp \\left[-\\frac{h}{2}(y-\\mathrm{X} \\beta)^T(y-\\mathrm{X} \\beta)\\right]\n",
    "$$\n",
    "However more mathematical manipulation needed in order to turn it into the conjugate form. \n",
    "\n",
    "Use the fact that $y-X\\hat{\\beta}=\\hat{u}$, we rewrite\n",
    "\n",
    "$$\n",
    "(y-\\mathrm{X} \\beta)^T(y-\\mathrm{X} \\beta) = \\left(\\hat{u}-\\mathrm{X}\\left(\\beta-\\widehat{\\beta}\\right)\\right)^T\\left(\\hat{u}-\\mathrm{X}\\left(\\beta-\\widehat{\\beta}\\right)\\right)\n",
    "$$\n",
    "Expand it"
   ]
  },
  {
   "cell_type": "markdown",
   "metadata": {},
   "source": [
    "$$\n",
    "(y-\\mathrm{X} \\beta)^T(y-\\mathrm{X} \\beta) =\\hat{u}^T \\hat{u}-\\hat{u}^T \\mathrm{X}\\left(\\beta-\\widehat{\\beta}\\right)-\\left(\\hat{u}^T \\mathrm{X}\\left(\\beta-\\widehat{\\beta}\\right)\\right)^T+\\left(\\beta-\\widehat{\\beta}\\right)^T \\mathrm{X}^T \\mathrm{X}\\left(\\beta-\\widehat{\\beta}\\right)\n",
    "$$"
   ]
  },
  {
   "cell_type": "markdown",
   "metadata": {},
   "source": [
    "Use the fact $\\hat{u}^TX = 0$, expression reduces to\n",
    "$$\n",
    "(y-\\mathrm{X} \\beta)^T(y-\\mathrm{X} \\beta)=\\hat{u}^T \\hat{u}+\\left(\\beta-\\widehat{\\beta}\\right)^T \\mathrm{X}^T \\mathrm{X}\\left(\\beta-\\widehat{\\beta}\\right)\n",
    "$$"
   ]
  },
  {
   "cell_type": "markdown",
   "metadata": {},
   "source": [
    "Plug in back to likelihood function\n",
    "$$\n",
    "P(y \\mid  X, \\beta, h)=(2 \\pi)^{-\\frac{N}{2}} h^{\\frac{N}{2}} \\exp \\left[-\\frac{h}{2}\\left(\\hat{u}^T \\hat{u}+\\left(\\beta-\\widehat{\\beta}\\right)^T \\mathrm{X}^T \\mathrm{X}\\left(\\beta-\\widehat{\\beta}\\right)\\right)\\right]\n",
    "$$"
   ]
  },
  {
   "cell_type": "markdown",
   "metadata": {},
   "source": [
    "Seperate the exponential part\n",
    "$$\n",
    "p(y \\mid \\mathrm{X}, \\beta, h)=(2 \\pi)^{-\\frac{N}{2}} h^{\\frac{N}{2}} \\exp \\left[-\\frac{h}{2}\\left(\\beta-\\widehat{\\beta}\\right)^T\\mathrm{X}^T \\mathrm{X}\\left(\\beta-\\widehat{\\beta}\\right)\\right] \\exp \\left[-\\frac{h}{2}\\hat{u}^T \\hat{u}\\right]\n",
    "$$"
   ]
  },
  {
   "cell_type": "markdown",
   "metadata": {},
   "source": [
    "This form of likelihood function suggest a **natural conjugate prior** which has the same function form as likelihood and also yields a posterior within the same class of distribution."
   ]
  },
  {
   "cell_type": "markdown",
   "metadata": {},
   "source": [
    "## <font face=\"gotham\" color=\"orange\"> Prior </font>"
   ]
  },
  {
   "cell_type": "markdown",
   "metadata": {},
   "source": [
    "Our prior should be a joint distribution $P(\\beta, h)$, however in order to transform into NG distribution, it proves convenient to write \n",
    "$$\n",
    "P(\\beta, h)=P(\\beta \\mid h) P(h)\n",
    "$$"
   ]
  },
  {
   "cell_type": "markdown",
   "metadata": {},
   "source": [
    "And it is the **Normal-Gamma distribution** we are talking about, the right-hand side has the follow distribution\n",
    "$$\n",
    "\\begin{gathered}\n",
    "\\beta \\mid h \\sim N\\left(\\mu, h^{-1} V\\right) \\\\\n",
    "h \\sim \\operatorname{Gamma}(m, v)\n",
    "\\end{gathered}\n",
    "$$\n",
    "The advantage of this distribution is that $\\beta$ is on real number's domain and $h$ is on postive number's domain.\n",
    "\n",
    "Recall the function form of NG distribution.\n",
    "$$\n",
    "f(X, h)=(2 \\pi)^{-\\frac{N}{2}}(h)^{-\\frac{N}{2}}|\\Sigma|^{-1 / 2} \\exp \\left(-\\frac{h}{2}(X-\\mu)^T \\Sigma^{-1}(X-\\mu)\\right) \\frac{1}{\\left(\\frac{2 m}{v}\\right)^{v / 2}} \\frac{1}{\\Gamma\\left(\\frac{v}{2}\\right)} h^{\\frac{v-2}{2}} \\exp \\left[-\\frac{h v}{2 m}\\right]\n",
    "$$"
   ]
  },
  {
   "cell_type": "markdown",
   "metadata": {},
   "source": [
    "Seperate it for $\\beta|h$ and $h$ for their priors\n",
    "$$\n",
    "\\begin{gathered}\n",
    "P(\\beta \\mid h)=(2 \\pi)^{-\\frac{k}{2}} h^{\\frac{k}{2}}|V|^{-\\frac{1}{2}} \\exp \\left[-\\frac{h}{2}(\\beta-\\mu)^{\\prime} V^{-1}(\\beta-\\mu)\\right] \\\\\n",
    "P(h)=\\frac{1}{\\left(\\frac{2 m}{v}\\right)^{v / 2}} \\frac{1}{\\Gamma\\left(\\frac{v}{2}\\right)} h^{\\frac{v-2}{2}} \\exp \\left[-\\frac{h v}{2 m}\\right]\n",
    "\\end{gathered}\n",
    "$$\n",
    "where $k$ is the number of parameters in $\\beta$."
   ]
  },
  {
   "cell_type": "markdown",
   "metadata": {},
   "source": [
    "## <font face=\"gotham\" color=\"orange\"> Posterior </font>"
   ]
  },
  {
   "cell_type": "markdown",
   "metadata": {},
   "source": [
    "The posterior is formulated by Bayes' Theorem"
   ]
  },
  {
   "cell_type": "markdown",
   "metadata": {},
   "source": [
    "$$\n",
    "P(\\beta, h \\mid y, X)\\propto P(y \\mid  X, \\beta, h)P(\\beta\\mid h) P(h)\n",
    "$$"
   ]
  },
  {
   "cell_type": "markdown",
   "metadata": {},
   "source": [
    "$$\n",
    "P(\\beta, h \\mid Y, \\mathrm{X}) \\propto \\ h^{\\frac{k}{2}} \\exp \\left[-\\frac{h}{2}\\left[\\left(\\beta-\\widehat{\\beta}\\right)^T\\mathrm{X}^{\\prime} \\mathrm{X}\\left(\\beta-\\widehat{\\beta}\\right)+(\\beta-\\mu)^T V^{-1}(\\beta-\\mu)\\right]\\right]  h^{\\frac{N+v-2}{2}} \\exp \\left[-\\frac{h}{2}\\left(\\hat{u}^T \\hat{u}+\\frac{v}{m}\\right)\\right]\n",
    "$$"
   ]
  },
  {
   "cell_type": "markdown",
   "metadata": {},
   "source": [
    "$$\n",
    "\\begin{align}\n",
    "P(\\beta, h \\mid Y, \\mathrm{X}) &\\propto(2 \\pi)^{-\\frac{N}{2}} h^{\\frac{N}{2}} \\exp \\left[-\\frac{h}{2}\\left(\\beta-\\widehat{\\beta}\\right)^T\\mathrm{X}^T \\mathrm{X}\\left(\\beta-\\widehat{\\beta}\\right)\\right] \\exp \\left[-\\frac{h}{2}\\hat{u}^T \\hat{u}\\right]\\\\\n",
    "&\\times(2 \\pi)^{-\\frac{k}{2}} h^{\\frac{k}{2}}|V|^{-\\frac{1}{2}}\\exp \\left[-\\frac{h}{2}(\\beta-\\mu)^{\\prime} V^{-1}(\\beta-\\mu)\\right]\\frac{1}{\\left(\\frac{2 m}{v}\\right)^{v / 2}} \\frac{1}{\\Gamma\\left(\\frac{v}{2}\\right)} h^{\\frac{v-2}{2}} \\exp \\left[-\\frac{h v}{2 m}\\right]\n",
    "\\end{align}\n",
    "$$"
   ]
  },
  {
   "cell_type": "markdown",
   "metadata": {},
   "source": [
    "First ignore the constant parts such as $2\\pi$ and gamma function, then combine $h$"
   ]
  },
  {
   "cell_type": "markdown",
   "metadata": {},
   "source": [
    "$$\n",
    "\\begin{align}\n",
    "P(\\beta, h \\mid Y, \\mathrm{X}) &\\propto h^{\\frac{k}{2}} \\exp \\left[-\\frac{h}{2}\\left(\\beta-\\widehat{\\beta}\\right)^T\\mathrm{X}^T \\mathrm{X}\\left(\\beta-\\widehat{\\beta}\\right)\\right] \\exp \\left[-\\frac{h}{2}\\hat{u}^T \\hat{u}\\right]\\\\\n",
    "&\\times \\exp \\left[-\\frac{h}{2}(\\beta-\\mu)^{\\prime} V^{-1}(\\beta-\\mu)\\right] h^{\\frac{N+v-2}{2}} \\exp \\left[-\\frac{h v}{2 m}\\right]\n",
    "\\end{align}\n",
    "$$"
   ]
  },
  {
   "cell_type": "markdown",
   "metadata": {},
   "source": [
    "Join exponential terms\n",
    "$$\n",
    "\\begin{align}\n",
    "P(\\beta, h \\mid Y, \\mathrm{X}) &\\propto h^{\\frac{k}{2}} \\exp \\left[-\\frac{h}{2}\\left(\\beta-\\widehat{\\beta}\\right)^T\\mathrm{X}^T \\mathrm{X}\\left(\\beta-\\widehat{\\beta}\\right)-\\frac{h}{2}(\\beta-\\mu)^{\\prime} V^{-1}(\\beta-\\mu)\\right] h^{\\frac{N+v-2}{2}} \\exp \\left[-\\frac{h}{2}\\hat{u}^T \\hat{u}-\\frac{h v}{2 m}\\right]\\\\\n",
    "&\\propto\\ h^{\\frac{k}{2}} \\exp \\left[-\\frac{h}{2}\\left[\\left(\\beta-\\widehat{\\beta}\\right)^T\\mathrm{X}^{\\prime} \\mathrm{X}\\left(\\beta-\\widehat{\\beta}\\right)+(\\beta-\\mu)^T V^{-1}(\\beta-\\mu)\\right]\\right]  h^{\\frac{N+v-2}{2}} \\exp \\left[-\\frac{h}{2}\\left(\\hat{u}^T \\hat{u}+\\frac{v}{m}\\right)\\right]\n",
    "\\end{align}\n",
    "$$"
   ]
  },
  {
   "cell_type": "code",
   "execution_count": null,
   "metadata": {},
   "outputs": [],
   "source": []
  },
  {
   "cell_type": "markdown",
   "metadata": {},
   "source": [
    "## <font face=\"gotham\" color=\"orange\"> Normal-Inverse Gamma Conjugacy</font>"
   ]
  },
  {
   "cell_type": "markdown",
   "metadata": {},
   "source": [
    "Multivariate normal distribution"
   ]
  },
  {
   "cell_type": "markdown",
   "metadata": {},
   "source": [
    "$$\n",
    "f(X)=(2 \\pi)^{-N / 2}|\\Sigma|^{-1 / 2} \\exp \\left(-\\frac{1}{2}(X-\\mu)^T \\Sigma^{-1}(X-\\mu)\\right) \\text { for } \\sigma>0\n",
    "$$"
   ]
  },
  {
   "cell_type": "markdown",
   "metadata": {},
   "source": [
    "Likelihood ${y} \\sim {N}\\left({\\beta}^{T} {X}, \\sigma^{2} {I}\\right)$"
   ]
  },
  {
   "cell_type": "markdown",
   "metadata": {},
   "source": [
    "$$\n",
    "p\\left({y} \\mid {X}, {\\beta}, \\sigma^{2}\\right)=(2 \\pi)^{-N/2}\\left|\\sigma^{2} {I}\\right|^{-1/2} \\exp \\left(-\\frac{1}{2}\\left({y}-{\\beta}^{T} {X}\\right)^{T}\\left(\\sigma^{2} {I}\\right)^{-1}\\left({y}-{\\beta}^{T} {X}\\right)\\right)\n",
    "$$"
   ]
  },
  {
   "cell_type": "markdown",
   "metadata": {},
   "source": [
    "Use determinants rules\n",
    "$$\n",
    "\\left|\\sigma^{2} {I}\\right|=\\sigma^{2N}\\\\\n",
    "\\left(\\sigma^{2} {I}\\right)^{-1}=\\sigma^{-2}I\n",
    "$$"
   ]
  },
  {
   "cell_type": "markdown",
   "metadata": {},
   "source": [
    "Likelihood simplifed \n",
    "$$\n",
    "p\\left({y} \\mid {X}, {\\beta}, \\sigma^{2}\\right)=\\left(2 \\pi \\sigma^{2}\\right)^{-N / 2} \\exp \\left(-\\frac{1}{2 \\sigma^{2}}\\left({y}-{\\beta}^{T} {X}\\right)^{T}\\left(\\mathbf{y}-{\\beta}^{T} {X}\\right)\\right)\n",
    "$$"
   ]
  },
  {
   "cell_type": "markdown",
   "metadata": {},
   "source": [
    "$$\n",
    "P(y \\mid  X, \\beta, h)=\\left(2 \\pi \\sigma^{2}\\right)^{-N / 2} \\exp \\left(-\\frac{1}{2 \\sigma^{2}}({y}-{X} {\\beta})^{\\top}({y}-{X} {\\beta})\\right)\n",
    "$$"
   ]
  },
  {
   "cell_type": "markdown",
   "metadata": {},
   "source": [
    "Prior\n",
    "$$\n",
    "\\begin{aligned}\n",
    "\\boldsymbol{\\beta} \\mid \\sigma^{2} & \\sim {N}\\left({0}, \\sigma^{2} {\\Lambda}_{0}^{-1}\\right) \\\\\n",
    "\\sigma^{2} & \\sim \\operatorname{InvGamma}\\left(\\alpha_{0}, \\beta_{0}\\right)\n",
    "\\end{aligned}\n",
    "$$\n",
    "$$\n",
    "\\begin{aligned}\n",
    "p\\left({\\beta} \\mid \\sigma^{2}\\right) &=\\left(2 \\pi \\sigma^{2}\\right)^{-\\frac{k}{2}}\\left|{\\Lambda}_{0}\\right|^{\\frac{1}{2}} \\exp \\left[-\\frac{1}{2 \\sigma^{2}}\\left({\\beta}-{\\mu}_{0}\\right)^T {\\Lambda}_{0}\\left({\\beta}-{\\mu}_{0}\\right)\\right] \\\\\n",
    "p\\left(\\sigma^{2}\\right) &=\\frac{\\beta_{0}^{\\alpha_0}}{\\Gamma\\left(\\alpha_{0}\\right)}\\left(\\sigma^{2}\\right)^{-\\left(\\alpha_{0}+1\\right)} \\exp \\left(-\\beta_{0} / \\sigma^{2}\\right)\n",
    "\\end{aligned}\n",
    "$$"
   ]
  },
  {
   "cell_type": "markdown",
   "metadata": {},
   "source": [
    "$$\n",
    "\\begin{gathered}\n",
    "P(\\beta \\mid h)=(2 \\pi)^{-\\frac{k}{2}} h^{\\frac{k}{2}}|V|^{-\\frac{1}{2}} \\exp \\left[-\\frac{h}{2}(\\beta-\\mu)^{\\prime} V^{-1}(\\beta-\\mu)\\right] \\\\\n",
    "P(h)=\\frac{1}{\\left(\\frac{2 m}{v}\\right)^{v / 2}} \\frac{1}{\\Gamma\\left(\\frac{v}{2}\\right)} h^{\\frac{v-2}{2}} \\exp \\left[-\\frac{h v}{2 m}\\right]\n",
    "\\end{gathered}\n",
    "$$"
   ]
  },
  {
   "cell_type": "code",
   "execution_count": null,
   "metadata": {},
   "outputs": [],
   "source": []
  }
 ],
 "metadata": {
  "kernelspec": {
   "display_name": "Python 3 (ipykernel)",
   "language": "python",
   "name": "python3"
  },
  "language_info": {
   "codemirror_mode": {
    "name": "ipython",
    "version": 3
   },
   "file_extension": ".py",
   "mimetype": "text/x-python",
   "name": "python",
   "nbconvert_exporter": "python",
   "pygments_lexer": "ipython3",
   "version": "3.8.5"
  }
 },
 "nbformat": 4,
 "nbformat_minor": 4
}
