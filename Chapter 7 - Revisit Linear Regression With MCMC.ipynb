{
 "cells": [
  {
   "cell_type": "code",
   "execution_count": 1,
   "metadata": {},
   "outputs": [],
   "source": [
    "import numpy as np\n",
    "import scipy as sp\n",
    "import scipy.stats\n",
    "import matplotlib.pyplot as plt\n",
    "import math as mt\n",
    "import scipy.special\n",
    "import seaborn as sns\n",
    "plt.style.use('fivethirtyeight')\n",
    "from statsmodels.graphics.tsaplots import plot_acf\n",
    "import pandas as pd"
   ]
  },
  {
   "cell_type": "markdown",
   "metadata": {},
   "source": [
    "# <font face=\"gotham\" color=\"orange\"> Simple Regression Model </font>"
   ]
  },
  {
   "cell_type": "markdown",
   "metadata": {},
   "source": [
    "This is the model we are going to estimate with MCMC technique\n",
    "$$\n",
    "Y_i = \\beta_1 + \\beta_2 X_i +u\n",
    "$$\n",
    "where $X \\sim N(\\mu, \\tau)$ and  $Y_i \\sim N(\\hat{\\beta}_1 + \\hat{\\beta}_2 X_i,\\tau)$"
   ]
  },
  {
   "cell_type": "markdown",
   "metadata": {},
   "source": [
    "The standard Bayes' Theorem provides a direct solution\n",
    "$$\n",
    "P\\left(\\beta_{1}, \\beta_{2}, \\tau \\mid \\text { data }\\right)=\\frac{P\\left(\\text { data } \\mid \\beta_{1}, \\beta_{2}, \\tau\\right)  P\\left(\\beta_{1}, \\beta_{2}, \\tau\\right)}{\\iiint P\\left(\\text { data } \\mid \\beta_{1}, \\beta_{2}, \\tau\\right)  P\\left(\\beta_{1}, \\beta_{2}, \\tau\\right) d \\beta_{1} d \\beta_{2} d \\tau} \n",
    "$$"
   ]
  },
  {
   "cell_type": "code",
   "execution_count": null,
   "metadata": {},
   "outputs": [],
   "source": []
  }
 ],
 "metadata": {
  "kernelspec": {
   "display_name": "Python 3",
   "language": "python",
   "name": "python3"
  },
  "language_info": {
   "codemirror_mode": {
    "name": "ipython",
    "version": 3
   },
   "file_extension": ".py",
   "mimetype": "text/x-python",
   "name": "python",
   "nbconvert_exporter": "python",
   "pygments_lexer": "ipython3",
   "version": "3.8.5"
  }
 },
 "nbformat": 4,
 "nbformat_minor": 4
}
