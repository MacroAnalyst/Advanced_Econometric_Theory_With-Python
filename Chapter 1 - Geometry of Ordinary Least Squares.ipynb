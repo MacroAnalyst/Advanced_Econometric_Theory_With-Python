{
 "cells": [
  {
   "cell_type": "code",
   "execution_count": 1,
   "metadata": {},
   "outputs": [],
   "source": [
    "import numpy as np\n",
    "import matplotlib.pyplot as plt\n",
    "import scipy as sp\n",
    "import scipy.stats\n",
    "import statsmodels.api as sm\n",
    "import pandas as pd\n",
    "\n",
    "plt.style.use('ggplot')"
   ]
  },
  {
   "cell_type": "markdown",
   "metadata": {},
   "source": [
    "In order to follow this notes with least pain, it is strongly advised to study in <a href='https://github.com/MacroAnalyst/Linear_Algebra_With_Python'>linear algebra</a>, <a href='https://github.com/MacroAnalyst/Basic_Statistics_With_Python'>statistics</a>, <a href='https://github.com/MacroAnalyst/Probability_Theory'>probability theory</a> and <a href='https://github.com/MacroAnalyst/Basic_Econometrics_With_Python'>basic econometrics</a>.\n",
    "\n",
    "Click the hyperlink, you will find all course notes in my GitHub pages."
   ]
  },
  {
   "cell_type": "markdown",
   "metadata": {},
   "source": [
    "Advanced econometrics aims to provide thorough mathematical foundation to econometric theory, which will be extremely useful in handling complicated data science projects. "
   ]
  },
  {
   "cell_type": "markdown",
   "metadata": {},
   "source": [
    "# <font face=\"gotham\" color=\"purple\"> The Geometry of Vector Space </font>"
   ]
  },
  {
   "cell_type": "markdown",
   "metadata": {},
   "source": [
    "Our starting point of **Ordinary Least Square** is to understand that linear regression model usually takes the matrix form\n",
    "\n",
    "$$\n",
    "\\boldsymbol{y} = \\boldsymbol{X\\beta}+\\boldsymbol{u}\\tag{1}\\label{1}\n",
    "$$\n",
    "\n",
    "where $\\boldsymbol{y}$ and $\\boldsymbol{u}$ are $n\\times 1$ matrices, $\\boldsymbol{X}$ is a $n \\times k$ matrix and $\\boldsymbol{\\beta}$ is a $k \\times 1$ matrix.\n",
    "$$\n",
    "\\boldsymbol{y}=\\left[\\begin{array}{c}\n",
    "y_{1} \\\\\n",
    "y_{2} \\\\\n",
    "\\vdots \\\\\n",
    "y_{n}\n",
    "\\end{array}\\right], \\quad \\boldsymbol{u}=\\left[\\begin{array}{c}\n",
    "u_{1} \\\\\n",
    "u_{2} \\\\\n",
    "\\vdots \\\\\n",
    "u_{n}\n",
    "\\end{array}\\right], \\quad \\boldsymbol{X}_{n\\times k}=\\left[\\begin{array}{cccc}\n",
    "1 & X_{11} & X_{12} & \\ldots & X_{1k}  \\\\\n",
    "1 & X_{21} & X_{22} & \\ldots & X_{1k}\\\\\n",
    "\\vdots & \\vdots & \\vdots& \\ddots& \\vdots\\\\\n",
    "1 & X_{n1} & X_{n2} & \\ldots& X_{nk}\n",
    "\\end{array}\\right], \\quad \\text { and } \\quad \\boldsymbol{\\beta}=\\left[\\begin{array}{c}\n",
    "\\beta_{1} \\\\\n",
    "\\beta_{2} \\\\\n",
    "\\vdots\\\\\n",
    "\\beta_k\n",
    "\\end{array}\\right]\n",
    "$$"
   ]
  },
  {
   "cell_type": "markdown",
   "metadata": {},
   "source": [
    "## <font face=\"gotham\" color=\"purple\"> Two Inequalities </font>"
   ]
  },
  {
   "cell_type": "markdown",
   "metadata": {},
   "source": [
    "There are two inequalities useful for further illustration in vector space. Define $\\boldsymbol{x}$ and $\\boldsymbol{y}$ as vectors in $\\mathbb{R}^n$."
   ]
  },
  {
   "cell_type": "markdown",
   "metadata": {},
   "source": [
    "### <font face=\"gotham\" color=\"purple\">The Cauchy-Schwarz Inequality</font>"
   ]
  },
  {
   "cell_type": "markdown",
   "metadata": {},
   "source": [
    "$$\n",
    "|\\boldsymbol{x}^T\\boldsymbol{y}| \\leq \\|\\boldsymbol{x}\\|\\|\\boldsymbol{y}\\| \\tag{2}\\label{2}\n",
    "$$\n",
    "$\\|\\|$ notation means the **modulus** or length of vector."
   ]
  },
  {
   "cell_type": "markdown",
   "metadata": {},
   "source": [
    "The Cauchy-Schwarz inequality holds because of another famous formula dervied from law of cosine, recall that $-1 \\leq \\cos{\\vartheta} \\leq 1$\n",
    "\n",
    "\\begin{equation}\n",
    "\\boldsymbol{x}^T\\boldsymbol{y} = \\|\\boldsymbol{x}\\|\\|\\boldsymbol{y}\\| \\cos{\\vartheta} \\label{3}\\tag{3}\n",
    "\\end{equation}"
   ]
  },
  {
   "cell_type": "markdown",
   "metadata": {},
   "source": [
    "The most important implication is that when $\\vartheta = 90^{\\circ}$, i.e. $\\boldsymbol{x}\\perp\\boldsymbol{y}$, then $\\boldsymbol{x}^T\\boldsymbol{y} = 0$."
   ]
  },
  {
   "cell_type": "markdown",
   "metadata": {},
   "source": [
    "### <font face=\"gotham\" color=\"purple\">The Triangle Inequality </font>"
   ]
  },
  {
   "cell_type": "markdown",
   "metadata": {},
   "source": [
    "This is the vector version of a primary school concept: the length of the third edge is at least as long as the sum of other two edges."
   ]
  },
  {
   "cell_type": "markdown",
   "metadata": {},
   "source": [
    "$$\n",
    "\\|\\boldsymbol{x}+\\boldsymbol{y}\\| \\leq \\|\\boldsymbol{x}\\| +  \\|\\boldsymbol{y}\\|\n",
    "$$"
   ]
  },
  {
   "cell_type": "markdown",
   "metadata": {},
   "source": [
    "## <font face=\"gotham\" color=\"purple\">Basis of Subspace  </font>"
   ]
  },
  {
   "cell_type": "markdown",
   "metadata": {},
   "source": [
    "A set of vectors $\\boldsymbol{X}_{n\\times k} = (\\boldsymbol{x}_1, ..., \\boldsymbol{x}_k)$ which spans a subspace $W$ is denoted as \n",
    "\n",
    "$$\n",
    "W = \\text{Span}\\left(\\boldsymbol{x}_{1}, \\ldots, \\boldsymbol{x}_{k}\\right) \\equiv\\left\\{\\boldsymbol{z} \\in \\mathbb{R}^{n} \\bigg| \\boldsymbol{z}=\\sum_{i=1}^{k} b_{i} \\boldsymbol{x}_{i}, \\quad b_{i} \\in \\mathbb{R}\\right\\}\n",
    "$$"
   ]
  },
  {
   "cell_type": "markdown",
   "metadata": {},
   "source": [
    "The orthogonal complement of $W$, is denoted as\n",
    "\n",
    "$$\n",
    "W^{\\perp} = \\text{Span}^\\perp(\\boldsymbol{x}_{1}, \\ldots, \\boldsymbol{x}_{k}) = \\left\\{\\boldsymbol{w} \\in \\mathbb{R}^{n} | \\boldsymbol{w}^{\\top} \\boldsymbol{z}=0 \\text { for all } \\boldsymbol{z} \\in \\text{Span}(\\boldsymbol{X})\\right\\}\n",
    "$$"
   ]
  },
  {
   "cell_type": "markdown",
   "metadata": {},
   "source": [
    "The $\\text{dim}W = k$ and $\\text{dim}W^\\perp = n-k$. "
   ]
  },
  {
   "cell_type": "markdown",
   "metadata": {},
   "source": [
    "# <font face=\"gotham\" color=\"purple\"> The Geometry of OLS Estimation</font>"
   ]
  },
  {
   "cell_type": "markdown",
   "metadata": {},
   "source": [
    "Take a look at the graph below, which is the geometric concept of OLS. The vectors are arbitrarily chosen only serving purpose of visualization in the codes, though demonstration is 3D, you shall imagine them exist in higher dimension, i.e. in $\\mathbb{R}^n$ rather than $\\mathbb{R}^3$."
   ]
  },
  {
   "cell_type": "code",
   "execution_count": 29,
   "metadata": {},
   "outputs": [
    {
     "data": {
      "image/png": "[encoded data removed]",
      "text/plain": [
       "<Figure size 720x720 with 2 Axes>"
      ]
     },
     "metadata": {},
     "output_type": "display_data"
    }
   ],
   "source": [
    "s = np.linspace(0, 10, 10)\n",
    "t = np.linspace(0, 10, 10)\n",
    "S, T = np.meshgrid(s, t)\n",
    "X = S\n",
    "Y = T\n",
    "Z = np.zeros((10, 10))\n",
    "\n",
    "fig, ax = plt.subplots(figsize = (10, 10))\n",
    "ax = fig.add_subplot(projection='3d')\n",
    "ax.plot_surface(X, Y, Z, alpha = .4)\n",
    "\n",
    "y = np.array([6, 6, 5])\n",
    "y_vec = np.array([[0, 0, 0, y[0], y[1], y[2]]])\n",
    "X, Y, Z, U, V, W = zip(*y_vec)\n",
    "ax.quiver(X, Y, Z, U, V, W, length=1, normalize=False, color = 'black', alpha = 1,arrow_length_ratio = .08, pivot = 'tail',\n",
    "          linestyles = 'solid',linewidths = 3)\n",
    "\n",
    "\n",
    "yhat = np.array([y[0], y[1], 0])\n",
    "yhat_vec = np.array([[0, 0, 0, yhat[0], yhat[1], yhat[2]]])\n",
    "X, Y, Z, U, V, W = zip(*yhat_vec)\n",
    "ax.quiver(X, Y, Z, U, V, W, length=1, normalize=False, color = 'red', alpha = .6,arrow_length_ratio = .08, pivot = 'tail',\n",
    "          linestyles = 'solid',linewidths = 3)\n",
    "\n",
    "yhat_vec = np.array([[0, 0, 0, 0, 0, y[2]]])\n",
    "X, Y, Z, U, V, W = zip(*yhat_vec)\n",
    "ax.quiver(X, Y, Z, U, V, W, length=1, normalize=False, color = 'red', alpha = .6,arrow_length_ratio = .08, pivot = 'tail',\n",
    "          linestyles = 'solid',linewidths = 3)\n",
    "\n",
    "Xbeta = np.array([6, 3, 0])\n",
    "y_vec = np.array([[0, 0, 0, Xbeta[0], Xbeta[1], Xbeta[2]]])\n",
    "X, Y, Z, U, V, W = zip(*y_vec)\n",
    "ax.quiver(X, Y, Z, U, V, W, length=1, normalize=False, color = 'purple', alpha = 1,arrow_length_ratio = .08, pivot = 'tail',\n",
    "          linestyles = 'solid',linewidths = 3)\n",
    "\n",
    "u = y - Xbeta\n",
    "u_vec = np.array([[Xbeta[0], Xbeta[1], Xbeta[2], u[0], u[1], u[2]]])\n",
    "X, Y, Z, U, V, W = zip(*u_vec)\n",
    "ax.quiver(X, Y, Z, U, V, W, length=1, normalize=False, color = 'Aqua', alpha = 1,arrow_length_ratio = .08, pivot = 'tail',\n",
    "          linestyles = 'solid',linewidths = 3)\n",
    "\n",
    "point1 = [y[0], y[1], y[2]]\n",
    "point2 = [yhat[0], yhat[1], yhat[2]]\n",
    "line1 = np.array([point1, point2])\n",
    "ax.plot(line1[:,0], line1[:,1], line1[:, 2], c = 'b', lw = 1.5,alpha =0.5, ls = '--')\n",
    "\n",
    "\n",
    "ax.text(x = y[0], y = y[1], z = y[2], s = '$y$', size = 16)\n",
    "ax.text(9, 9, 0, '$Col\\ X$', size = 16)\n",
    "ax.text(x = y[0], y = y[1], z = 0, s = r'$\\hat{y}=X\\hat{\\beta}$', size = 16)\n",
    "ax.text(x = 0, y = 0, z = y[2], s = r'$\\hat{u} = y-X\\hat{\\beta}$', size = 16)\n",
    "ax.text(x = Xbeta[0], y = Xbeta[1], z = Xbeta[2], s = r'$X\\beta$', size = 16)\n",
    "ax.text(x = 5.6, y = 4.1, z = 2.4, s = r'$u$', size = 16)\n",
    "\n",
    "for i in ['x', 'y', 'z']:\n",
    "    exec('ax.set_'+i+'lim3d(0, 10)')\n",
    "    \n",
    "ax.set_title('Geometric Mechanism of OLS', fontsize = 17)\n",
    "ax.set_xlabel('X-axis'),ax.set_ylabel('Y-axis'),ax.set_zlabel('Z-axis')\n",
    "plt.show()"
   ]
  },
  {
   "cell_type": "markdown",
   "metadata": {},
   "source": [
    "In words, OLS algorithm is to find a special linear combination with basis of $\\text{Col}\\boldsymbol{X}$ or $\\text{Span}\\boldsymbol{X}$.\n",
    "\n",
    "And this linear combination is the orthogonal projection $\\boldsymbol{\\hat{y}}$ of $\\boldsymbol{y}$ onto $\\text{Span}\\boldsymbol{X}$, which means the distance $\\|\\boldsymbol{y}-\\boldsymbol{\\hat{y}}\\|$ is the shortest among all other possible $\\|\\boldsymbol{y}-\\text{proj}_{\\text{Col}X}\\boldsymbol{y}\\|$, where $\\text{proj}_{\\text{Col}X}\\boldsymbol{y}$ means a projection of $\\boldsymbol{y}$ onto column space of $\\boldsymbol{X}$ i.e. $\\text{Col}\\boldsymbol{X}$, which is depicted as a transparent plane. \n",
    "\n",
    "And also note that orthogonal complement $\\boldsymbol{\\hat{u}}$ most possibly will smaller than $\\boldsymbol{u}$ itself, which is decided by the nature of OLS algorithm. In the graph, we give $\\boldsymbol{\\hat{u}}$ red color and aqua color to $\\boldsymbol{u}$."
   ]
  },
  {
   "cell_type": "markdown",
   "metadata": {},
   "source": [
    "To formulate mathematically the verbal description above, \n",
    "\n",
    "$$\n",
    "\\boldsymbol{X}^T(\\boldsymbol{y-X\\hat{\\beta}})=\\boldsymbol{X}^T\\boldsymbol{\\hat{u}}= \\boldsymbol{0}\\label{4}\\tag{4}\n",
    "$$\n",
    "\n",
    "which is called **orthogonality condition of OLS**."
   ]
  },
  {
   "cell_type": "markdown",
   "metadata": {},
   "source": [
    "With orthogonality condition, we achieve the most famous OLS algorithm of $\\hat{\\boldsymbol{\\beta}}$\n",
    "\n",
    "$$\n",
    "\\boldsymbol{\\hat{\\beta}} = (\\boldsymbol{X}^T\\boldsymbol{X})^{-1}\\boldsymbol{X}^T\\boldsymbol{y}\\label{5}\\tag{5}\n",
    "$$"
   ]
  },
  {
   "cell_type": "markdown",
   "metadata": {},
   "source": [
    "## <font face=\"gotham\" color=\"purple\"> Test Trials of OLS Algorithm </font>"
   ]
  },
  {
   "cell_type": "markdown",
   "metadata": {},
   "source": [
    "Construct $\\boldsymbol{X}$ matrix"
   ]
  },
  {
   "cell_type": "code",
   "execution_count": 30,
   "metadata": {
    "tags": []
   },
   "outputs": [],
   "source": [
    "const = np.ones(100)\n",
    "const = const[np.newaxis, :]\n",
    "\n",
    "X_inde = np.random.randn(3, 100)\n",
    "\n",
    "X = np.concatenate((const.T, X_inde.T), axis=1)"
   ]
  },
  {
   "cell_type": "markdown",
   "metadata": {},
   "source": [
    "Set true $\\boldsymbol{\\beta} = [2, 3, 4, 5]^T$"
   ]
  },
  {
   "cell_type": "code",
   "execution_count": 31,
   "metadata": {},
   "outputs": [],
   "source": [
    "beta_array = np.array([2, 3, 4, 5])\n",
    "beta_array = beta_array[np.newaxis, :].T"
   ]
  },
  {
   "cell_type": "markdown",
   "metadata": {},
   "source": [
    "Generate disturbance term $\\boldsymbol{u}$ with a standard normal distribution"
   ]
  },
  {
   "cell_type": "code",
   "execution_count": 32,
   "metadata": {},
   "outputs": [],
   "source": [
    "u = np.random.randn(100)\n",
    "u = u[np.newaxis, :].T"
   ]
  },
  {
   "cell_type": "markdown",
   "metadata": {},
   "source": [
    "Generate $\\boldsymbol{y}$"
   ]
  },
  {
   "cell_type": "code",
   "execution_count": 33,
   "metadata": {},
   "outputs": [],
   "source": [
    "y = X@beta_array + u"
   ]
  },
  {
   "cell_type": "markdown",
   "metadata": {},
   "source": [
    "Estimate parameters with OLS algorithm"
   ]
  },
  {
   "cell_type": "code",
   "execution_count": 34,
   "metadata": {},
   "outputs": [
    {
     "name": "stdout",
     "output_type": "stream",
     "text": [
      "beta0:[2.03342725]\n",
      "beta1:[2.98315916]\n",
      "beta2:[4.07795823]\n",
      "beta3:[5.03053271]\n"
     ]
    }
   ],
   "source": [
    "beta_hat = np.linalg.inv(X.T@X)@X.T@y\n",
    "for i in range(len(beta_array)):\n",
    "    print('beta' + str(i) + ':' + str(beta_hat[i]))"
   ]
  },
  {
   "cell_type": "markdown",
   "metadata": {},
   "source": [
    "Verify the results with ```statsmodels```"
   ]
  },
  {
   "cell_type": "code",
   "execution_count": 35,
   "metadata": {},
   "outputs": [],
   "source": [
    "ols_obj = sm.OLS(y, X)"
   ]
  },
  {
   "cell_type": "code",
   "execution_count": 36,
   "metadata": {},
   "outputs": [
    {
     "name": "stdout",
     "output_type": "stream",
     "text": [
      "beta0:2.0334272497206833\n",
      "beta1:2.9831591649885\n",
      "beta2:4.077958227399275\n",
      "beta3:5.030532707036045\n"
     ]
    }
   ],
   "source": [
    "ols_obj_fit = ols_obj.fit()\n",
    "beta_array_sm = ols_obj.fit().params\n",
    "for i in range(len(beta_array_sm)):\n",
    "    print('beta' + str(i) + ':' + str(beta_array_sm[i]))"
   ]
  },
  {
   "cell_type": "markdown",
   "metadata": {},
   "source": [
    "## <font face=\"gotham\" color=\"purple\"> Monte Carlo Simulation of OLS Algorithm </font>"
   ]
  },
  {
   "cell_type": "code",
   "execution_count": 37,
   "metadata": {},
   "outputs": [],
   "source": [
    "beta_hat = []\n",
    "for i in range(3000):\n",
    "    u = np.random.randn(100)\n",
    "    u = u[np.newaxis, :].T\n",
    "    y = X@beta_array + u\n",
    "    beta_hat.append(np.linalg.inv(X.T@X)@X.T@y)\n",
    "beta_hat = np.array(beta_hat).T"
   ]
  },
  {
   "cell_type": "markdown",
   "metadata": {},
   "source": [
    "Compare with true parameters\n",
    "$$\n",
    "\\boldsymbol{\\beta} = [2, 3, 4, 5]^T\n",
    "$$"
   ]
  },
  {
   "cell_type": "code",
   "execution_count": 38,
   "metadata": {},
   "outputs": [
    {
     "data": {
      "image/png": "[encoded data removed]",
      "text/plain": [
       "<Figure size 1440x360 with 4 Axes>"
      ]
     },
     "metadata": {},
     "output_type": "display_data"
    }
   ],
   "source": [
    "fig, ax = plt.subplots(figsize=(20, 5), nrows=1, ncols=4)\n",
    "for i in range(len(beta_hat[0])):\n",
    "    ax[i].hist(beta_hat[0][i], bins=100)\n",
    "    ax[i].axvline(x=np.mean(beta_hat[0][i]), color='red', label ='mean {}'.format(np.round(np.mean(beta_hat[0][i]),3)))\n",
    "    ax[i].set_title(r'$\\beta_{}$'.format(i+1))\n",
    "    ax[i].legend()\n",
    "plt.show()"
   ]
  },
  {
   "cell_type": "markdown",
   "metadata": {},
   "source": [
    "## <font face=\"gotham\" color=\"purple\"> Goodness of Fit in Pythagorean Theorem</font>"
   ]
  },
  {
   "cell_type": "markdown",
   "metadata": {},
   "source": [
    "One important implication from orthogonality condition is that $\\sum_{t=1}^n\\hat{u}_t=0$. \n",
    "\n",
    "To see why this holds, we denote the first column of $\\boldsymbol{X}$ as $\\iota$ (iota), which contains all $1$'s, this vector is surly in the $\\text{Col}\\boldsymbol X$, thus\n",
    "\n",
    "$$\n",
    "\\iota^T \\boldsymbol{\\hat{u}} = \\sum_{t=1}^n\\hat{u}_t=0\n",
    "$$"
   ]
  },
  {
   "cell_type": "markdown",
   "metadata": {},
   "source": [
    "Using the residual of last round generated data, numerical value essentially equals $0$"
   ]
  },
  {
   "cell_type": "code",
   "execution_count": 39,
   "metadata": {},
   "outputs": [
    {
     "data": {
      "text/plain": [
       "-2.6201263381153694e-14"
      ]
     },
     "execution_count": 39,
     "metadata": {},
     "output_type": "execute_result"
    }
   ],
   "source": [
    "np.sum(ols_obj_fit.resid)"
   ]
  },
  {
   "cell_type": "markdown",
   "metadata": {},
   "source": [
    "The fitted value $\\boldsymbol{y}=\\boldsymbol{X\\hat{\\beta}}$ is the linear combination that we are seeking for, and it is orthogonal to OLS residuals $ \\boldsymbol{\\hat{u}}$ \n",
    "\n",
    "$$(\\boldsymbol{X} \\boldsymbol{\\hat{\\beta}})^{T} \\boldsymbol{\\hat{u}}= \\boldsymbol{\\hat{\\beta}}^{T} \\boldsymbol{X}^{T} \\boldsymbol{\\hat{u}}=\\mathbf{0}$$"
   ]
  },
  {
   "cell_type": "markdown",
   "metadata": {},
   "source": [
    "$ \\boldsymbol{\\hat{u}}$ can be seen as a function of $ \\boldsymbol{\\beta}$, denoted $\\boldsymbol{\\hat{u}(\\beta)}$, and $\\boldsymbol{\\hat{\\beta}}$ minimizes $\\|\\boldsymbol{\\hat{u}(\\beta)}\\|$. "
   ]
  },
  {
   "cell_type": "markdown",
   "metadata": {},
   "source": [
    "Since we have known that $\\boldsymbol{\\hat{u}}\\perp \\text{Col}X$, then the length of three vectors can be represented by Pythagoras' Theorem.\n",
    "\n",
    "$$\n",
    "\\|\\boldsymbol{y}\\|^2= \\|\\boldsymbol{X\\hat{\\beta}}\\|^2+\\|\\boldsymbol{\\hat{u}}\\|^2\\tag{5}\n",
    "$$\n",
    "\n",
    "This is geometric version of the classical property of OLS\n",
    "\n",
    "$$\n",
    "TSS = ESS + RSS\n",
    "$$\n",
    "\n",
    "Numerical version is\n",
    "\\begin{equation}\n",
    "\\underbrace{\\sum_{i=1}^n(y_i-\\bar{y})^2}_{TSS}=\\underbrace{\\sum_{i=1}^n(\\hat{y}_i-\\bar{y})^2}_{ESS}+\\underbrace{\\sum_{i=1}^n\\hat{u}^2_i}_{RSS}\n",
    "\\end{equation}"
   ]
  },
  {
   "cell_type": "code",
   "execution_count": 40,
   "metadata": {},
   "outputs": [],
   "source": [
    "const = np.ones(100)\n",
    "const = const[np.newaxis, :]\n",
    "X_inde = np.random.randn(3, 100)\n",
    "X = np.concatenate((const.T, X_inde.T), axis=1)\n",
    "\n",
    "beta_array = np.array([2, 3, 4, 5])\n",
    "beta_array = beta_array[np.newaxis, :].T\n",
    "\n",
    "beta_hat = np.linalg.inv(X.T@X)@X.T@y"
   ]
  },
  {
   "cell_type": "code",
   "execution_count": 42,
   "metadata": {},
   "outputs": [
    {
     "name": "stdout",
     "output_type": "stream",
     "text": [
      "TSS : 5388.7266\n",
      "ESS : 1062.9310\n",
      "RSS : 4325.7956\n",
      "ESS + RSS : 5388.7266\n"
     ]
    }
   ],
   "source": [
    "TSS = np.linalg.norm(y)\n",
    "ESS = np.linalg.norm(X@beta_hat)\n",
    "RSS = np.linalg.norm(y-X@beta_hat)\n",
    "print('TSS : {:.4f}'.format(TSS**2))\n",
    "print('ESS : {:.4f}'.format(ESS**2))\n",
    "print('RSS : {:.4f}'.format(RSS**2))\n",
    "print('ESS + RSS : {:.4f}'.format(ESS**2+RSS**2))"
   ]
  },
  {
   "cell_type": "markdown",
   "metadata": {},
   "source": [
    "Compare with ```statsmodel``` results, we can notice the $\\text{ESS}$ is different, because it is computed by subtracting $\\text{RSS}$ from centered $\\text{TSS}$. The difference between centered or uncentered values actually have little practical significance, i.e. in practice we report one of them and stick to it with further explanation. But we will explain later in this chapter."
   ]
  },
  {
   "cell_type": "code",
   "execution_count": 43,
   "metadata": {},
   "outputs": [
    {
     "name": "stdout",
     "output_type": "stream",
     "text": [
      "Uncentered TSS from Statsmodels : 5388.7266\n",
      "ESS from Statsmodels : 187.3283\n",
      "RSS from Statsmodels : 4325.7956\n",
      "ESS + RSS, from Statsmodels : 4513.1239\n"
     ]
    }
   ],
   "source": [
    "ols_obj_fit = sm.OLS(y, X).fit()\n",
    "\n",
    "print('Uncentered TSS from Statsmodels : {:.4f}'.format(ols_obj_fit.uncentered_tss))\n",
    "print('ESS from Statsmodels : {:.4f}'.format(ols_obj_fit.ess))\n",
    "print('RSS from Statsmodels : {:.4f}'.format(ols_obj_fit.ssr))\n",
    "print('ESS + RSS, from Statsmodels : {:.4f}'.format(ols_obj_fit.ess+ols_obj_fit.ssr))"
   ]
  },
  {
   "cell_type": "markdown",
   "metadata": {},
   "source": [
    "## <font face=\"gotham\" color=\"purple\"> Projection Matrix </font>"
   ]
  },
  {
   "cell_type": "markdown",
   "metadata": {},
   "source": [
    "We have known that $\\boldsymbol{X\\hat{\\beta}}$ is the orthogonal projection of $\\boldsymbol{y}$ , here we substitute OLS solution back into it\n",
    "\n",
    "$$\n",
    "\\boldsymbol{X\\hat{\\beta}}=\\boldsymbol{X}(\\boldsymbol{X}^T\\boldsymbol{X})^{-1}\\boldsymbol{X}^T\\boldsymbol{y}= \\boldsymbol{P}_{\\boldsymbol{X}}\\boldsymbol{y}\n",
    "$$"
   ]
  },
  {
   "cell_type": "markdown",
   "metadata": {},
   "source": [
    "where $ \\boldsymbol{P}_{\\boldsymbol{X}}=\\boldsymbol{X}(\\boldsymbol{X}^T\\boldsymbol{X})^{-1}\\boldsymbol{X}^T$ is a projection matrix which projects $\\boldsymbol{y}$ onto $\\text{Col}\\boldsymbol{X}$."
   ]
  },
  {
   "cell_type": "markdown",
   "metadata": {},
   "source": [
    "If you are familiar with linear algebra, you would have seen formula of orthogonal projection, below is a vector presentation of $\\boldsymbol{X}(\\boldsymbol{X}^T\\boldsymbol{X})^{-1}\\boldsymbol{X}^T\\boldsymbol{y}$\n",
    "\n",
    "\n",
    "$$\\hat{\\mathbf{y}}=\\frac{\\mathbf{y} \\cdot \\mathbf{x}_{1}}{\\mathbf{x}_{1} \\cdot \\mathbf{x}_{1}} \\mathbf{x}_{1}+\\cdots+\\frac{\\mathbf{y} \\cdot \\mathbf{x}_{k}}{\\mathbf{x}_{k} \\cdot \\mathbf{x}_{x}} \\mathbf{x}_k\n",
    "=\\frac{\\mathbf{x}_1^T \\mathbf{y}}{\\mathbf{x}_{1}^T  \\mathbf{x}_{1}} \\mathbf{x}_{1}+\\cdots+\\frac{\\mathbf{x}_k^T \\mathbf{y}}{\\mathbf{x}_{k}^T  \\mathbf{x}_{k}} \\mathbf{x}_{k}\n",
    "$$"
   ]
  },
  {
   "cell_type": "markdown",
   "metadata": {},
   "source": [
    "Another projection matrix $\\boldsymbol{M}_{\\boldsymbol{X}}=\\left(\\mathbf{I}-\\boldsymbol{X}\\left(\\boldsymbol{X}^{T} \\boldsymbol{X}\\right)^{-1} \\boldsymbol{X}^{T}\\right)= \\mathbf{I} - \\boldsymbol{P}_{\\boldsymbol{X}}$ is constructed from\n",
    "\n",
    "$$\n",
    "\\boldsymbol{\\hat{u}}=\\boldsymbol{y}-\\boldsymbol{X} \\boldsymbol{\\hat{\\beta}} =\\boldsymbol{y}-\\boldsymbol{P}_{\\boldsymbol{X}} \\boldsymbol{y}=\\left(\\mathbf{I}-\\boldsymbol{X}\\left(\\boldsymbol{X}^{T} \\boldsymbol{X}\\right)^{-1} \\boldsymbol{X}^{T}\\right) \\boldsymbol{y}=\\boldsymbol{M}_{\\boldsymbol{X}} \\boldsymbol{y}\n",
    "$$\n",
    "\n",
    "$\\boldsymbol{M}_X$ can project any vector into the subspace of $\\perp \\boldsymbol{X}$."
   ]
  },
  {
   "cell_type": "code",
   "execution_count": 44,
   "metadata": {},
   "outputs": [],
   "source": [
    "def proj_mat_P(X):\n",
    "##computing projection matrix P. Input X represents regressors.##\n",
    "    proj_matP = X@np.linalg.inv(X.T@X)@X.T\n",
    "    return proj_matP\n",
    "\n",
    "def proj_mat_M(X):\n",
    "##computing projection matrix M. Input X represents regressors.##\n",
    "    proj_matM =  np.eye(X.shape[0]) - X@np.linalg.inv(X.T@X)@X.T\n",
    "    return proj_matM"
   ]
  },
  {
   "cell_type": "markdown",
   "metadata": {},
   "source": [
    "Let's verify if our projection matrix $\\boldsymbol{P}_{\\boldsymbol{X}}\\boldsymbol{y}$ yields the same result as $\\boldsymbol{\\hat{y}}$ from ```statsmodels```, calculate the difference then print the first $10$ entries."
   ]
  },
  {
   "cell_type": "code",
   "execution_count": 45,
   "metadata": {},
   "outputs": [
    {
     "data": {
      "text/plain": [
       "array([[ 1.64313008e-14],\n",
       "       [-3.55271368e-15],\n",
       "       [ 7.10542736e-15],\n",
       "       [ 6.21724894e-15],\n",
       "       [ 1.28785871e-14],\n",
       "       [ 7.10542736e-15],\n",
       "       [-1.33226763e-15],\n",
       "       [ 5.32907052e-15],\n",
       "       [ 1.19904087e-14],\n",
       "       [ 8.43769499e-15]])"
      ]
     },
     "execution_count": 45,
     "metadata": {},
     "output_type": "execute_result"
    }
   ],
   "source": [
    "fitted_discrp = proj_mat_P(X)@y - ols_obj_fit.fittedvalues[np.newaxis,:].T\n",
    "fitted_discrp[:10]"
   ]
  },
  {
   "cell_type": "markdown",
   "metadata": {},
   "source": [
    "Similarly, verify if $\\boldsymbol{M}_{\\boldsymbol{X}}\\boldsymbol{y} = \\boldsymbol{\\hat{u}}$, also print the first $10$ entries"
   ]
  },
  {
   "cell_type": "code",
   "execution_count": 46,
   "metadata": {},
   "outputs": [
    {
     "data": {
      "text/plain": [
       "array([[-1.64313008e-14],\n",
       "       [ 4.44089210e-15],\n",
       "       [-6.88338275e-15],\n",
       "       [-6.21724894e-15],\n",
       "       [-1.24344979e-14],\n",
       "       [-7.10542736e-15],\n",
       "       [ 0.00000000e+00],\n",
       "       [-2.66453526e-15],\n",
       "       [-1.24344979e-14],\n",
       "       [-8.88178420e-15]])"
      ]
     },
     "execution_count": 46,
     "metadata": {},
     "output_type": "execute_result"
    }
   ],
   "source": [
    "resid_discrp = proj_mat_M(X)@y - ols_obj_fit.resid[np.newaxis,:].T\n",
    "resid_discrp[:10]"
   ]
  },
  {
   "cell_type": "markdown",
   "metadata": {},
   "source": [
    "### <font face=\"gotham\" color=\"purple\"> Properties of Projection Matrix </font>"
   ]
  },
  {
   "cell_type": "markdown",
   "metadata": {},
   "source": [
    "Geometrically, it is easy to visualize properties of projection matrices in your mind\n",
    "$$\n",
    "\\boldsymbol{P}_{\\boldsymbol{X}}\\boldsymbol{P}_{\\boldsymbol{X}}=\\boldsymbol{P}_{\\boldsymbol{X}}\\quad \\text{and}\\quad \\boldsymbol{M}_{\\boldsymbol{X}}\\boldsymbol{M}_{\\boldsymbol{X}}=\\boldsymbol{M}_{\\boldsymbol{X}}\n",
    "$$\n",
    "which are called **idempotent**."
   ]
  },
  {
   "cell_type": "markdown",
   "metadata": {},
   "source": [
    "We can verify numerically, if multiplication equal zero matrix\n",
    "$$\n",
    "\\boldsymbol{P}_{\\boldsymbol{X}}\\boldsymbol{P}_{\\boldsymbol{X}}-\\boldsymbol{P}_{\\boldsymbol{X}} = \\boldsymbol{O}\\\\\n",
    "\\boldsymbol{M}_{\\boldsymbol{X}}\\boldsymbol{M}_{\\boldsymbol{X}}-\\boldsymbol{M}_{\\boldsymbol{X}} = \\boldsymbol{O}\n",
    "$$"
   ]
  },
  {
   "cell_type": "code",
   "execution_count": 47,
   "metadata": {},
   "outputs": [
    {
     "data": {
      "text/plain": [
       "array([[ 0.00000000e+00,  0.00000000e+00,  0.00000000e+00, ...,\n",
       "         3.46944695e-18,  0.00000000e+00, -3.46944695e-18],\n",
       "       [-3.46944695e-18,  0.00000000e+00, -3.46944695e-18, ...,\n",
       "         2.16840434e-19,  4.33680869e-19, -8.67361738e-19],\n",
       "       [ 1.73472348e-18, -3.46944695e-18, -3.46944695e-18, ...,\n",
       "         1.30104261e-18,  1.73472348e-18, -6.93889390e-18],\n",
       "       ...,\n",
       "       [ 1.73472348e-18, -8.67361738e-19,  8.67361738e-19, ...,\n",
       "         3.46944695e-18, -3.46944695e-18,  1.82959117e-18],\n",
       "       [ 0.00000000e+00,  0.00000000e+00,  0.00000000e+00, ...,\n",
       "        -6.93889390e-18,  0.00000000e+00,  4.22838847e-18],\n",
       "       [-3.46944695e-18, -2.60208521e-18, -5.20417043e-18, ...,\n",
       "         3.67273486e-18,  3.90312782e-18, -3.46944695e-18]])"
      ]
     },
     "execution_count": 47,
     "metadata": {},
     "output_type": "execute_result"
    }
   ],
   "source": [
    "Proj_P_X = proj_mat_P(X)\n",
    "Proj_P_X@Proj_P_X - Proj_P_X"
   ]
  },
  {
   "cell_type": "code",
   "execution_count": 48,
   "metadata": {},
   "outputs": [
    {
     "data": {
      "text/plain": [
       "array([[ 0.00000000e+00,  3.46944695e-18, -1.56125113e-17, ...,\n",
       "         5.20417043e-18,  0.00000000e+00,  3.46944695e-18],\n",
       "       [-3.46944695e-18,  0.00000000e+00, -1.04083409e-17, ...,\n",
       "         6.50521303e-19,  1.30104261e-18,  0.00000000e+00],\n",
       "       [-1.56125113e-17, -1.73472348e-17, -1.11022302e-16, ...,\n",
       "         1.73472348e-18,  3.03576608e-18, -3.46944695e-18],\n",
       "       ...,\n",
       "       [ 3.46944695e-18, -1.30104261e-18,  1.73472348e-18, ...,\n",
       "         0.00000000e+00, -3.46944695e-18,  1.82959117e-18],\n",
       "       [ 0.00000000e+00,  8.67361738e-19,  8.67361738e-19, ...,\n",
       "        -6.93889390e-18,  0.00000000e+00,  4.33680869e-18],\n",
       "       [ 6.93889390e-18,  0.00000000e+00, -5.20417043e-18, ...,\n",
       "         3.67273486e-18,  4.01154804e-18,  0.00000000e+00]])"
      ]
     },
     "execution_count": 48,
     "metadata": {},
     "output_type": "execute_result"
    }
   ],
   "source": [
    "Proj_M_X = proj_mat_M(X)\n",
    "Proj_M_X@Proj_M_X - Proj_M_X"
   ]
  },
  {
   "cell_type": "markdown",
   "metadata": {},
   "source": [
    "$\\boldsymbol{P}_{\\boldsymbol{X}}$ and $\\boldsymbol{M}_{\\boldsymbol{X}}$ are _symmetric matrices_, can be easily shown with rules of transpose.\n",
    "\n",
    "$$\n",
    "\\boldsymbol{P}_{\\boldsymbol{X}}^T = \\boldsymbol{X}\\left[(\\boldsymbol{X}^T\\boldsymbol{X})^{-1}\\right]^{T}\\boldsymbol{X}^T = \\boldsymbol{X}\\left[(\\boldsymbol{X}^T\\boldsymbol{X})^{T}\\right]^{-1}\\boldsymbol{X}^T =\\boldsymbol{X}(\\boldsymbol{X}^T\\boldsymbol{X})^{-1}\\boldsymbol{X}^T=\\boldsymbol{P}_{\\boldsymbol{X}}\n",
    "$$\n",
    "\n",
    "$$\n",
    "\\boldsymbol{M}_{\\boldsymbol{X}}^T = (\\mathbf{I} - \\boldsymbol{P}_{\\boldsymbol{X}})^T = \\mathbf{I} - \\boldsymbol{P}_{\\boldsymbol{X}}^T =  \\mathbf{I} - \\boldsymbol{P}_{\\boldsymbol{X}} = \\boldsymbol{M}_{\\boldsymbol{X}}\n",
    "$$"
   ]
  },
  {
   "cell_type": "markdown",
   "metadata": {},
   "source": [
    "$\\boldsymbol{P}_{\\boldsymbol{X}}$ and $\\boldsymbol{M}_{\\boldsymbol{X}}$ are called **complementary projections**, because\n",
    "\n",
    "$$\n",
    "\\boldsymbol{P}_{\\boldsymbol{X}}+\\boldsymbol{M}_{\\boldsymbol{X}} = \\mathbf{I}\n",
    "$$"
   ]
  },
  {
   "cell_type": "markdown",
   "metadata": {},
   "source": [
    "$\\boldsymbol{P}_{\\boldsymbol{X}}$ and $\\boldsymbol{M}_{\\boldsymbol{X}}$ **annihilate each other**,\n",
    "\n",
    "$$\n",
    "\\boldsymbol{P}_{\\boldsymbol{X}}\\boldsymbol{M}_{\\boldsymbol{X}} = \\mathbf{O}\n",
    "$$"
   ]
  },
  {
   "cell_type": "code",
   "execution_count": 49,
   "metadata": {},
   "outputs": [
    {
     "data": {
      "text/plain": [
       "array([[1., 0., 0., ..., 0., 0., 0.],\n",
       "       [0., 1., 0., ..., 0., 0., 0.],\n",
       "       [0., 0., 1., ..., 0., 0., 0.],\n",
       "       ...,\n",
       "       [0., 0., 0., ..., 1., 0., 0.],\n",
       "       [0., 0., 0., ..., 0., 1., 0.],\n",
       "       [0., 0., 0., ..., 0., 0., 1.]])"
      ]
     },
     "execution_count": 49,
     "metadata": {},
     "output_type": "execute_result"
    }
   ],
   "source": [
    "Proj_P_X + Proj_M_X"
   ]
  },
  {
   "cell_type": "code",
   "execution_count": 50,
   "metadata": {},
   "outputs": [
    {
     "data": {
      "text/plain": [
       "array([[ 2.23345648e-17, -1.40946282e-18,  4.63496429e-18, ...,\n",
       "        -2.70425856e-18,  6.06475590e-19,  3.46944695e-18],\n",
       "       [ 3.11708125e-19, -7.81980817e-18, -1.62630326e-19, ...,\n",
       "        -3.58877272e-19, -5.00596472e-19,  8.67361738e-19],\n",
       "       [ 3.60497222e-18, -4.06575815e-18, -8.32125167e-18, ...,\n",
       "        -1.93621144e-18, -1.71439469e-18,  6.93889390e-18],\n",
       "       ...,\n",
       "       [-1.75558166e-18,  1.41650379e-18, -1.82101496e-18, ...,\n",
       "        -1.88007441e-18,  3.69510844e-18, -1.82959117e-18],\n",
       "       [ 4.18434276e-19, -5.66665042e-19, -9.60535362e-19, ...,\n",
       "         7.70655722e-18, -9.50688604e-19, -4.22838847e-18],\n",
       "       [-7.48099499e-18, -4.06575815e-19,  3.79470760e-18, ...,\n",
       "        -3.67061728e-18, -3.93700914e-18,  6.93889390e-18]])"
      ]
     },
     "execution_count": 50,
     "metadata": {},
     "output_type": "execute_result"
    }
   ],
   "source": [
    "Proj_P_X@Proj_M_X"
   ]
  },
  {
   "cell_type": "markdown",
   "metadata": {},
   "source": [
    "An  _orthogonal decomposition_ of $\\boldsymbol{y}$ by Pythagoras' Theorem\n",
    "\n",
    "$$\n",
    "\\|\\boldsymbol{y}\\|^2 = \\|\\boldsymbol{P}_{\\boldsymbol{X}}\\boldsymbol{y}\\|^2+\\| \\boldsymbol{M}_{\\boldsymbol{X}}\\boldsymbol{y}\\|^2\n",
    "$$"
   ]
  },
  {
   "cell_type": "markdown",
   "metadata": {},
   "source": [
    "However, the projection matrix is not an efficient algorithm. In computation-wise, you shall either use OLS formula or QR decomposition."
   ]
  },
  {
   "cell_type": "markdown",
   "metadata": {},
   "source": [
    "The residuals and fitted values are invariant to linear transformation of regressors (explanatory variables), which is exact reason that OLS algorithm holds even we have performed data handling, such as changing unit, in terms of projection matrix, $\\boldsymbol{XA}$ is the linear combination of $\\boldsymbol{X}$"
   ]
  },
  {
   "cell_type": "markdown",
   "metadata": {},
   "source": [
    "$$\n",
    "\\boldsymbol{P}_{\\boldsymbol{XA}} = \\boldsymbol{XA}(\\boldsymbol{A}^T\\boldsymbol{X}\\boldsymbol{XA})^{-1}\\boldsymbol{A}^T\\boldsymbol{X}^T= \\boldsymbol{X}\\boldsymbol{A}\\boldsymbol{A}^{-1}(\\boldsymbol{X}^T\\boldsymbol{X})^{-1}(\\boldsymbol{A}^T)^{-1}\\boldsymbol{A}^T\\boldsymbol{X}^T = \\boldsymbol{P}_{\\boldsymbol{X}}\n",
    "$$"
   ]
  },
  {
   "cell_type": "markdown",
   "metadata": {},
   "source": [
    "Because $\\boldsymbol{XA}$ is still in $\\text{Col}\\boldsymbol{X}$."
   ]
  },
  {
   "cell_type": "markdown",
   "metadata": {},
   "source": [
    "# <font face=\"gotham\" color=\"purple\"> The Frisch-Waugh-Lovell Theorem </font>"
   ]
  },
  {
   "cell_type": "markdown",
   "metadata": {},
   "source": [
    "Now consider a single linear model\n",
    "\n",
    "$$\n",
    "\\boldsymbol{y}= \\beta_1\\boldsymbol{\\iota}+\\beta_2\\boldsymbol{x}+\\boldsymbol{u}\\label{6}\\tag{6}\n",
    "$$"
   ]
  },
  {
   "cell_type": "markdown",
   "metadata": {},
   "source": [
    "And mostly, that $\\boldsymbol{x}$ and $\\boldsymbol{\\iota}$ are not completely independent. Geometrically speaking, they might not be orthogonal to each other.\n",
    "\n",
    "However, we can use one-step Gram-Schmidt process to orthogonalize them. If we choose to find the orthogonal complement of $\\text{proj}_{\\iota}\\boldsymbol{x}$, we can formulate a vector subtraction (if you don't know what's happening here, check my notebook of linear algebra.)\n",
    "\n",
    "$$\n",
    "\\boldsymbol{z} = \\boldsymbol{x}- \\frac{\\boldsymbol{x}\\cdot\\boldsymbol{\\iota}}{\\boldsymbol{\\iota}\\cdot\\boldsymbol{\\iota}}\\boldsymbol{\\iota} = \\boldsymbol{x}-\\frac{n\\bar{x}}{n}\\boldsymbol{\\iota}=\\boldsymbol{x}- \\bar{x}\\boldsymbol{\\iota}\n",
    "$$"
   ]
  },
  {
   "cell_type": "markdown",
   "metadata": {},
   "source": [
    "Now we get $\\boldsymbol{z}\\perp \\boldsymbol{\\iota}$, in econometric term it is called **centering** the variable by subtracting the mean of itself. Substituting $\\boldsymbol{x}= \\boldsymbol{z}+\\bar{x}\\boldsymbol{\\iota}$ back in "
   ]
  },
  {
   "cell_type": "markdown",
   "metadata": {},
   "source": [
    "$$\n",
    "\\boldsymbol{y}=\\beta_1\\boldsymbol{\\iota}+\\beta_2(\\boldsymbol{z}+\\bar{x}\\boldsymbol{\\iota})+u = (\\beta_1+\\bar{x}\\beta_2)\\boldsymbol{\\iota}+\\beta_2\\boldsymbol{z}+u = \\alpha_1\\boldsymbol{\\iota}+\\alpha_2\\boldsymbol{z}+\\boldsymbol{u}\n",
    "$$"
   ]
  },
  {
   "cell_type": "markdown",
   "metadata": {},
   "source": [
    "Now the we are sure that $\\boldsymbol{\\iota}^T \\boldsymbol{z} =0$, because of orthogonality, however note that coeffcients are no longer $\\beta$'s any more.\n",
    "\n",
    "It might not be clear at this moment why we want this property, read on."
   ]
  },
  {
   "cell_type": "markdown",
   "metadata": {},
   "source": [
    "## <font face=\"gotham\" color=\"purple\"> Multivariate Regression Model Visualization </font>"
   ]
  },
  {
   "cell_type": "markdown",
   "metadata": {},
   "source": [
    "For multivariate regression model, we can partition $\\boldsymbol{X}$ in to $[\\boldsymbol{X}_1, \\boldsymbol{X}_2]$, where $\\boldsymbol{X}_1$ is $n \\times k_1$ and $\\boldsymbol{X}_2$ is $n \\times k_2$, $k_1+k_2 =k$.\n",
    "\n",
    "It is impossible to visualize any multivariate regression model which is in higher dimension, but we can visualize by imagining the subspace spanned by $\\boldsymbol{X}_1$ or $\\boldsymbol{X}_2$ each represented by a line. "
   ]
  },
  {
   "cell_type": "markdown",
   "metadata": {},
   "source": [
    "The regression model becomes\n",
    "\n",
    "$$\n",
    "\\boldsymbol{y}=  \\boldsymbol{X}_1\\beta_1 + \\boldsymbol{X}_2\\beta_2 +\\boldsymbol{u}\\label{7}\\tag{7}\n",
    "$$"
   ]
  },
  {
   "cell_type": "markdown",
   "metadata": {},
   "source": [
    "We denote $\\boldsymbol{M}_1 = \\boldsymbol{M}_{\\boldsymbol{X}_1}=\\mathbf{I}-\\boldsymbol{P}_1$ where $\\boldsymbol{P}_1 = \\boldsymbol{P}_{\\boldsymbol{X}_1} = \\boldsymbol{X}_1(\\boldsymbol{X}_1^T\\boldsymbol{X}_1)^{-1}\\boldsymbol{X}_1^T$."
   ]
  },
  {
   "cell_type": "markdown",
   "metadata": {},
   "source": [
    "$\\boldsymbol{X}_1$ and $\\boldsymbol{X}_2$ are not orthogonal, we can project $\\boldsymbol{X}_2$ off $\\boldsymbol{X}_1$ to obtain $\\boldsymbol{Z} = \\boldsymbol{M}_1\\boldsymbol{X}_1$, where $\\boldsymbol{Z}\\perp \\boldsymbol{X}_1$.\n",
    "\n",
    "Once we orthogonalize $\\boldsymbol{X}_2$, the model becomes\n",
    "\n",
    "$$\n",
    "\\boldsymbol{y} = \\boldsymbol{X}_1\\alpha_1+\\boldsymbol{M}_1\\boldsymbol{X}_1\\alpha_2+\\boldsymbol{u}\\label{8}\\tag{8}\n",
    "$$\n",
    "\n",
    "From the graph below, we can see that actually $\\hat{\\alpha}_2=\\hat{\\beta}_2$, because $\\boldsymbol{Z}$ and $\\boldsymbol{X}_2$ form two similar triangles that \n",
    "\n",
    "$$\n",
    "\\frac{\\|\\boldsymbol{Z}\\hat{\\alpha}_2\\|}{\\|\\boldsymbol{Z}\\|}=\\frac{\\|\\boldsymbol{X}_2\\hat{\\beta}_2\\|}{\\|\\boldsymbol{X}_2\\|}\\Longrightarrow \\frac{\\|\\boldsymbol{Z}\\|\\|\\hat{\\alpha}_2\\|}{\\|\\boldsymbol{Z}\\|}=\\frac{\\|\\boldsymbol{X}_2\\|\\|\\hat{\\beta}_2\\|}{\\|\\boldsymbol{X}_2\\|}\\Longrightarrow \\hat{\\alpha}_2 =\\hat{\\beta}_2 \n",
    "$$"
   ]
  },
  {
   "cell_type": "markdown",
   "metadata": {},
   "source": [
    "And also because $\\boldsymbol{Z}=\\boldsymbol{M}_1\\boldsymbol{X}_2$ and $\\boldsymbol{X}_1$ are mutally orthogonal, consequently two models\n",
    "\n",
    "\\begin{align}\n",
    "\\boldsymbol{y} &= \\boldsymbol{X}_1\\alpha_1+\\boldsymbol{M}_1\\boldsymbol{X}_2\\beta_2 + \\boldsymbol{u}\\\\\n",
    "\\boldsymbol{y} &= \\boldsymbol{M}_1\\boldsymbol{X}_2\\beta_2 +\\boldsymbol{v} \n",
    "\\end{align}"
   ]
  },
  {
   "cell_type": "markdown",
   "metadata": {},
   "source": [
    "must yield the same estimates of $\\hat{\\beta}_2$. However the error terms are different, that's why we use $\\boldsymbol{v}$ in the second regression model. This is shown in the graph below with two different residual vectors $\\boldsymbol{\\hat{u}}$ and $\\boldsymbol{\\hat{v}}$."
   ]
  },
  {
   "cell_type": "markdown",
   "metadata": {},
   "source": [
    "However, if we want to have the same residual, we can project $\\boldsymbol{y}$ off $\\boldsymbol{X}_1$, i.e. to orthogonalize $\\boldsymbol{y}$ to $\\boldsymbol{X}_1$.\n",
    "\n",
    "$$\n",
    "\\boldsymbol{M}_1\\boldsymbol{y}=\\boldsymbol{M}_1\\boldsymbol{X}_2\\beta_2+\\boldsymbol{u}\\label{9}\\tag{9}\n",
    "$$"
   ]
  },
  {
   "cell_type": "markdown",
   "metadata": {},
   "source": [
    "This model is called $\\text{FWL}$ regression."
   ]
  },
  {
   "cell_type": "markdown",
   "metadata": {},
   "source": [
    "And here is the visualization of $\\text{FWL}$ theorem, please walk through the plot with description above together."
   ]
  },
  {
   "cell_type": "code",
   "execution_count": 51,
   "metadata": {},
   "outputs": [
    {
     "data": {
      "image/png": "[encoded data removed]",
      "text/plain": [
       "<Figure size 720x720 with 2 Axes>"
      ]
     },
     "metadata": {},
     "output_type": "display_data"
    }
   ],
   "source": [
    "s = np.linspace(0, 10, 10)\n",
    "t = np.linspace(0, 10, 10)\n",
    "S, T = np.meshgrid(s, t)\n",
    "X = S\n",
    "Y = T\n",
    "Z = np.zeros((10, 10))\n",
    "\n",
    "fig, ax = plt.subplots(figsize = (10, 10))\n",
    "ax = fig.add_subplot(projection='3d')\n",
    "ax.plot_surface(X, Y, Z, alpha = .3)\n",
    "\n",
    "y = np.array([6, 6, 5])\n",
    "y_vec = np.array([[0, 0, 0, y[0], y[1], y[2]]])\n",
    "X, Y, Z, U, V, W = zip(*y_vec)\n",
    "ax.quiver(X, Y, Z, U, V, W, length=1, normalize=False, color = 'black', alpha = 1,arrow_length_ratio = .04, pivot = 'tail',\n",
    "          linestyles = 'solid',linewidths = 5)\n",
    "\n",
    "\n",
    "yhat = np.array([y[0], y[1], 0])\n",
    "yhat_vec = np.array([[0, 0, 0, yhat[0], yhat[1], yhat[2]]])\n",
    "X, Y, Z, U, V, W = zip(*yhat_vec)\n",
    "ax.quiver(X, Y, Z, U, V, W, length=1, normalize=False, color = 'red', alpha = .6,arrow_length_ratio = .04, pivot = 'tail',\n",
    "          linestyles = 'solid',linewidths = 3)\n",
    "\n",
    "# yhat_vec = np.array([[0, 0, 0, 0, 0, y[2]]])\n",
    "# X, Y, Z, U, V, W = zip(*yhat_vec)\n",
    "# ax.quiver(X, Y, Z, U, V, W, length=1, normalize=False, color = 'red', alpha = .6,arrow_length_ratio = .04, pivot = 'tail',\n",
    "#           linestyles = 'solid',linewidths = 3)\n",
    "\n",
    "\n",
    "\n",
    "################################ regressors ########################################\n",
    "\n",
    "X1 = np.array([10, 0, 0])\n",
    "X2 = np.array([3, 10, 0])\n",
    "X1_vec = np.array([[0, 0, 0, X1[0], X1[1], X1[2]]])\n",
    "X, Y, Z, U, V, W = zip(*X1_vec)\n",
    "ax.quiver(X, Y, Z, U, V, W, length=1, normalize=False, color = 'purple', alpha = .5,arrow_length_ratio = .04, pivot = 'tail',\n",
    "          linestyles = 'solid',linewidths = 3)\n",
    "\n",
    "X2 = np.array([3, 10, 0])\n",
    "X2_vec = np.array([[0, 0, 0, X2[0], X2[1], X2[2]]])\n",
    "X, Y, Z, U, V, W = zip(*X2_vec)\n",
    "ax.quiver(X, Y, Z, U, V, W, length=1, normalize=False, color = 'purple', alpha = .5,arrow_length_ratio = .04, pivot = 'tail',\n",
    "          linestyles = 'solid',linewidths = 3)\n",
    "\n",
    "################################ OLS estimation ########################################\n",
    "X1 = np.array([10, 0, 0])\n",
    "X2 = np.array([3, 10, 0])\n",
    "X = np.vstack((X1, X2)).T\n",
    "beta_hat = np.linalg.inv(X.T@X)@X.T@y\n",
    "\n",
    "################################ OLS linear combination ########################################\n",
    "\n",
    "X1Beta1hat = beta_hat[0]*X1\n",
    "X1Beta1hat_vec = np.array([[0, 0, 0, X1Beta1hat[0], X1Beta1hat[1], X1Beta1hat[2]]])\n",
    "X, Y, Z, U, V, W = zip(*X1Beta1hat_vec)\n",
    "ax.quiver(X, Y, Z, U, V, W, length=1, normalize=False, color = 'aqua', alpha = 1,arrow_length_ratio = .04, pivot = 'tail',\n",
    "          linestyles = 'solid',linewidths = 3)\n",
    "\n",
    "\n",
    "X2Beta1hat = beta_hat[1]*X2\n",
    "X2Beta1hat_vec = np.array([[0, 0, 0, X2Beta1hat[0], X2Beta1hat[1], X2Beta1hat[2]]])\n",
    "X, Y, Z, U, V, W = zip(*X2Beta1hat_vec)\n",
    "ax.quiver(X, Y, Z, U, V, W, length=1, normalize=False, color = 'aqua', alpha = .8,arrow_length_ratio = .04, pivot = 'tail',\n",
    "          linestyles = 'solid',linewidths = 3)\n",
    "\n",
    "##################################Orthogonalizing X2 ##################################\n",
    "Z_orth = np.array([0, 10, 0])\n",
    "Z_orth_vec = np.array([[0, 0, 0, Z_orth[0], Z_orth[1], Z_orth[2]]])\n",
    "X, Y, Z, U, V, W = zip(*Z_orth_vec)\n",
    "ax.quiver(X, Y, Z, U, V, W, length=1, normalize=False, color = 'Darkorange', alpha = 1,arrow_length_ratio = .04, pivot = 'tail',\n",
    "          linestyles = 'solid',linewidths = 3)\n",
    "\n",
    "######################################Projecting y onto Z##########################################\n",
    "\n",
    "projZorth_y = (np.dot(y, Z_orth)/(np.dot(Z_orth, Z_orth)))*Z_orth\n",
    "projZorth_y_vec = np.array([[0, 0, 0, projZorth_y[0], projZorth_y[1], projZorth_y[2]]])\n",
    "X, Y, Z, U, V, W = zip(*projZorth_y_vec)\n",
    "ax.quiver(X, Y, Z, U, V, W, length=1, normalize=False, color = 'aqua', alpha = 1,arrow_length_ratio = .04, pivot = 'tail',\n",
    "          linestyles = 'solid',linewidths = 3)\n",
    "\n",
    "######################################Projecting y onto X1 ##########################################\n",
    "\n",
    "projX1_y = (np.dot(y, X1)/(np.dot(X1, X1)))*X1\n",
    "projX1_y_vec = np.array([[0, 0, 0, projX1_y[0], projX1_y[1], projX1_y[2]]])\n",
    "X, Y, Z, U, V, W = zip(*projX1_y_vec)\n",
    "ax.quiver(X, Y, Z, U, V, W, length=1, normalize=False, color = 'LightSalmon', alpha = .7,arrow_length_ratio = .04, pivot = 'tail',\n",
    "          linestyles = 'solid',linewidths = 4)\n",
    "\n",
    "\n",
    "###################################### M1y ##########################################\n",
    "M1y=y-projX1_y\n",
    "M1y_vec = np.array([[0, 0, 0, M1y[0], M1y[1], M1y[2]]])\n",
    "X, Y, Z, U, V, W = zip(*M1y_vec)\n",
    "ax.quiver(X, Y, Z, U, V, W, length=1, normalize=False, color = 'black', alpha = .5,arrow_length_ratio = .04, pivot = 'tail',\n",
    "          linestyles = 'solid',linewidths = 4)\n",
    "##################################### Dashed Lines #############################################\n",
    "\n",
    "point1 = [y[0], y[1], y[2]]\n",
    "point2 = [yhat[0], yhat[1], yhat[2]]\n",
    "line1 = np.array([point1, point2])\n",
    "ax.plot(line1[:,0], line1[:,1], line1[:, 2], c = 'b', lw = 1.5,alpha =0.5, ls = '--')\n",
    "\n",
    "## Z_orth to X ##\n",
    "point1 = [Z_orth[0], Z_orth[1], Z_orth[2]]\n",
    "point2 = [X2[0], X2[1], X2[2]]\n",
    "line1 = np.array([point1, point2])\n",
    "ax.plot(line1[:,0], line1[:,1], line1[:, 2], c = 'k', lw = 1.5,alpha =0.8, ls = '--')\n",
    "\n",
    "## Z_alpha2 to yhat ##\n",
    "point1 = [yhat[0], yhat[1], yhat[2]]\n",
    "point2 = [projZorth_y[0], projZorth_y[1], projZorth_y[2]]\n",
    "line1 = np.array([point1, point2])\n",
    "ax.plot(line1[:,0], line1[:,1], line1[:, 2], c = 'k', lw = 1.5,alpha =0.8, ls = '--')\n",
    "\n",
    "## X1beta1 to yhat ##\n",
    "point1 = [yhat[0], yhat[1], yhat[2]]\n",
    "point2 = [X1Beta1hat[0], X1Beta1hat[1], X1Beta1hat[2]]\n",
    "line1 = np.array([point1, point2])\n",
    "ax.plot(line1[:,0], line1[:,1], line1[:, 2], c = 'k', lw = 1.5,alpha =0.8, ls = '--')\n",
    "\n",
    "## X1alpha1 to yhat ##\n",
    "point1 = [yhat[0], yhat[1], yhat[2]]\n",
    "point2 = [projX1_y[0], projX1_y[1], projX1_y[2]]\n",
    "line1 = np.array([point1, point2])\n",
    "ax.plot(line1[:,0], line1[:,1], line1[:, 2], c = 'k', lw = 1.5,alpha =0.8, ls = '--')\n",
    "\n",
    "## M1y to y ##\n",
    "point1 = [y[0], y[1], y[2]]\n",
    "point2 = [M1y[0], M1y[1], M1y[2]]\n",
    "line1 = np.array([point1, point2])\n",
    "ax.plot(line1[:,0], line1[:,1], line1[:, 2], c = 'k', lw = 1.5,alpha =0.8, ls = '--')\n",
    "\n",
    "## M1y to Zalpha2 ##\n",
    "point1 = [projZorth_y[0], projZorth_y[1], projZorth_y[2]]\n",
    "point2 = [M1y[0], M1y[1], M1y[2]]\n",
    "line1 = np.array([point1, point2])\n",
    "ax.plot(line1[:,0], line1[:,1], line1[:, 2], c = 'k', lw = 1.5,alpha =0.8, ls = '--')\n",
    "\n",
    "## y to Zalpha2 ##\n",
    "point1 = [projZorth_y[0], projZorth_y[1], projZorth_y[2]]\n",
    "point2 = [y[0], y[1], y[2]]\n",
    "line1 = np.array([point1, point2])\n",
    "ax.plot(line1[:,0], line1[:,1], line1[:, 2], c = 'b', lw = 1.5,alpha =0.8, ls = '--')\n",
    "\n",
    "###########################################################################\n",
    "\n",
    "ax.text(x = y[0], y = y[1], z = y[2], s = '$y$', size = 16)\n",
    "ax.text(9, 9, 0, '$Col\\ X$', size = 16)\n",
    "ax.text(x = y[0], y = y[1], z = 0, s = r'$\\hat{y}=X\\hat{\\beta}$', size = 16)\n",
    "ax.text(x = X1[0], y = X1[1], z = X1[2], s = r'$X_1$', size = 16)\n",
    "ax.text(x = X2[0], y = X2[1], z = X2[2], s = r'$X_2$', size = 16)\n",
    "ax.text(x = X1Beta1hat[0], y = X1Beta1hat[1], z = X1Beta1hat[2], s = r'$X_1\\hat{\\beta}_1$', size = 16)\n",
    "ax.text(x = X2Beta1hat[0], y = X2Beta1hat[1], z = X2Beta1hat[2], s = r'$X_2\\hat{\\beta}_2$', size = 16)\n",
    "ax.text(x = Z_orth[0], y = Z_orth[1], z = Z_orth[2], s = r'$Z=M_1X_2$', size = 16)\n",
    "ax.text(x = projZorth_y[0], y = projZorth_y[1], z = projZorth_y[2], s = r'$Z\\hat{\\alpha}_2$', size = 16)\n",
    "ax.text(x = projX1_y[0], y = projX1_y[1], z = projX1_y[2], s = r'$X_1\\hat{\\alpha}_1$', size = 16)\n",
    "ax.text(x = M1y[0], y = M1y[1], z = M1y[2], s = r'$M_1y$', size = 16)\n",
    "ax.text(x = (y[0]+yhat[0])/2, y = (y[1]+yhat[1])/2, z = (y[2]+yhat[2])/2, s = r'$\\hat{u}$', size = 16, color = 'r')\n",
    "ax.text(x = (y[0]+projZorth_y[0])/2, y = (y[1]+projZorth_y[1])/2, z = (y[2]+projZorth_y[2])/2, s = r'$\\hat{v}$', size = 16, color = 'r')\n",
    "\n",
    "\n",
    "for i in ['x', 'y', 'z']:\n",
    "    exec('ax.set_'+i+'lim3d(0, 10)')\n",
    "    \n",
    "ax.set_title('Geometry of the Frisch-Waugh-Lovell Theorem', fontsize = 17)\n",
    "ax.set_xlabel('X-axis'),ax.set_ylabel('Y-axis'),ax.set_zlabel('Z-axis')\n",
    "plt.show()"
   ]
  },
  {
   "cell_type": "markdown",
   "metadata": {},
   "source": [
    "Verbally, $\\text{FWL}$ theorems are \n",
    "\n",
    "1. The OLS estimates of $\\beta_2$ from \n",
    "\\begin{align}\n",
    "\\boldsymbol{y} &= \\boldsymbol{X}_1\\alpha_1+\\boldsymbol{M}_1\\boldsymbol{X}_2\\beta_2 + \\boldsymbol{u}\\\\\n",
    "\\boldsymbol{y} &= \\boldsymbol{M}_1\\boldsymbol{X}_2\\beta_2 +\\boldsymbol{v} \n",
    "\\end{align}\n",
    "are numerically identical.\n",
    "2. The residuals from models\n",
    "\\begin{align}\n",
    "\\boldsymbol{M}_1\\boldsymbol{y}&=\\boldsymbol{M}_1\\boldsymbol{X}_2\\beta_2+\\boldsymbol{u}\\\\\n",
    "\\boldsymbol{y}&=  \\boldsymbol{X}_1\\beta_1 + \\boldsymbol{X}_2\\beta_2 +\\boldsymbol{u}\n",
    "\\end{align}\n",
    "are numerically identical."
   ]
  },
  {
   "cell_type": "markdown",
   "metadata": {},
   "source": [
    "# <font face=\"gotham\" color=\"purple\"> Goodness of Fit, $\\mathbf{R}^2$ </font>"
   ]
  },
  {
   "cell_type": "markdown",
   "metadata": {},
   "source": [
    "The coefficient of determination $R^2$ is defined as\n",
    "\n",
    "$$\n",
    "R^2 = \\frac{ESS}{TSS} = \\frac{\\|\\boldsymbol{P_X}\\boldsymbol{y}\\|^2}{\\|\\boldsymbol{y}\\|^2}=\\cos^2{\\vartheta}\n",
    "$$"
   ]
  },
  {
   "cell_type": "markdown",
   "metadata": {},
   "source": [
    "where angle $\\vartheta$ is between the vector $\\|\\boldsymbol{y}\\|$ and $\\|\\boldsymbol{P_Xy}\\|$. Reproduce a OLS simulation"
   ]
  },
  {
   "cell_type": "code",
   "execution_count": 62,
   "metadata": {},
   "outputs": [],
   "source": [
    "const = np.ones(100)\n",
    "const = const[np.newaxis, :]\n",
    "X_inde = np.random.randn(3, 100)\n",
    "X = np.concatenate((const.T, X_inde.T), axis=1)\n",
    "\n",
    "beta_array = np.array([2, 3, 4, 5])\n",
    "beta_array = beta_array[np.newaxis, :].T"
   ]
  },
  {
   "cell_type": "code",
   "execution_count": 63,
   "metadata": {},
   "outputs": [],
   "source": [
    "u = np.random.randn(100)\n",
    "u = u[np.newaxis, :].T\n",
    "y = X@beta_array + u"
   ]
  },
  {
   "cell_type": "code",
   "execution_count": 64,
   "metadata": {
    "tags": []
   },
   "outputs": [
    {
     "name": "stdout",
     "output_type": "stream",
     "text": [
      "TSS : 6902.6086\n",
      "ESS : 6799.0646\n",
      "RSS : 103.5440\n",
      "ESS + RSS : 6902.6086\n"
     ]
    }
   ],
   "source": [
    "beta_hat = np.linalg.inv(X.T@X)@X.T@y\n",
    "\n",
    "TSS = np.linalg.norm(y)\n",
    "ESS = np.linalg.norm(X@beta_hat)\n",
    "RSS = np.linalg.norm(y-X@beta_hat)\n",
    "print('TSS : {:.4f}'.format(TSS**2))\n",
    "print('ESS : {:.4f}'.format(ESS**2))\n",
    "print('RSS : {:.4f}'.format(RSS**2))\n",
    "print('ESS + RSS : {:.4f}'.format(ESS**2+RSS**2))"
   ]
  },
  {
   "cell_type": "code",
   "execution_count": 68,
   "metadata": {},
   "outputs": [
    {
     "name": "stdout",
     "output_type": "stream",
     "text": [
      "R-sqr : 0.9925\n"
     ]
    }
   ],
   "source": [
    "print('R-sqr : {:.4f}'.format(ESS/TSS))"
   ]
  },
  {
   "cell_type": "markdown",
   "metadata": {},
   "source": [
    "Compare with ```statsmodels``` result, the discrepancy is due to ```statsmodels``` using centered $\\text{TSS}$."
   ]
  },
  {
   "cell_type": "code",
   "execution_count": 71,
   "metadata": {},
   "outputs": [
    {
     "data": {
      "text/plain": [
       "0.9821458610380575"
      ]
     },
     "execution_count": 71,
     "metadata": {},
     "output_type": "execute_result"
    }
   ],
   "source": [
    "ols_obj = sm.OLS(y, X)\n",
    "ols_obj_fit = ols_obj.fit()\n",
    "ols_obj_fit.rsquared"
   ]
  },
  {
   "cell_type": "markdown",
   "metadata": {},
   "source": [
    "Here's a $\\text{2D}$ graphic demonstration. The larger of angle, the less of $\\text{ESS}$, i.e. ${R}^2$ is smaller. "
   ]
  },
  {
   "cell_type": "code",
   "execution_count": 72,
   "metadata": {},
   "outputs": [
    {
     "data": {
      "image/png": "[encoded data removed]",
      "text/plain": [
       "<Figure size 504x504 with 1 Axes>"
      ]
     },
     "metadata": {},
     "output_type": "display_data"
    }
   ],
   "source": [
    "fig, ax = plt.subplots(figsize = (7, 7))\n",
    "ax.arrow(0, 0, 20, 0, color = 'red', width = .08, \n",
    "         length_includes_head = True,\n",
    "         head_width = .3, # default: 3*width\n",
    "         head_length = .6,\n",
    "         overhang = .4)\n",
    "ax.arrow(0, 0, 20, 20, color = 'red', width = .08, \n",
    "         length_includes_head = True,\n",
    "         head_width = .3, # default: 3*width\n",
    "         head_length = .6,\n",
    "         overhang = .4)\n",
    "\n",
    "point1 = [20, 0]\n",
    "point2 = [20, 20]\n",
    "line1 = np.array([point1, point2])\n",
    "ax.plot(line1[:,0], line1[:,1], c = 'k', lw = 1.5,alpha =0.8, ls = '--')\n",
    "\n",
    "ax.text(1.3, .2, r'$\\theta$', size = 18)\n",
    "ax.text(6, 7, '$TSS=\\|\\|y\\|\\|^2$', size = 18, rotation = 45)\n",
    "ax.text(6, .2, r'$ESS=\\|\\|P_Xy\\|\\|^2$', size = 18)\n",
    "ax.text(20, 4, r'$RSS=\\|\\|M_Xy\\|\\|^2$', size = 18, rotation = 90)\n",
    "\n",
    "ax.text(3,15,r'$\\cos^2{\\vartheta}= \\frac{ESS}{TSS}=\\mathbf{R}^2$', size = 21)\n",
    "ax.axis([0, 21, -.2, 21])\n",
    "plt.show()"
   ]
  },
  {
   "cell_type": "markdown",
   "metadata": {},
   "source": [
    "The equality holds as long as $\\text{ESS}$ and $\\text{RSS}$ forms a right angle, hence any other estimation methods i.e. a non-OLS $\\tilde{\\beta}$'s $R^2$ no longer has this pure geometric interpretation."
   ]
  },
  {
   "cell_type": "markdown",
   "metadata": {},
   "source": [
    "The $R^2 = \\frac{ESS}{TSS}$ is **uncentered $R^2$** since we are using uncertered $\\text{TSS}$, sometimes it is denoted as $R^2_u$, because $R^2_u$ is not _invariant_ to change of $\\vartheta$."
   ]
  },
  {
   "cell_type": "markdown",
   "metadata": {},
   "source": [
    "To see this, suppose the data matrix $\\boldsymbol{X} = [\\boldsymbol{\\iota}\\quad \\boldsymbol{x}]$, where $\\boldsymbol{\\iota}$ is the constant term, if we add $\\alpha \\boldsymbol{\\iota}$ onto $\\boldsymbol{y}$ then decompose $\\boldsymbol{y}+\\alpha \\boldsymbol{\\iota}$ \n",
    "\n",
    "$$\n",
    "\\boldsymbol{y}+\\alpha \\boldsymbol{\\iota} = \\boldsymbol{P_X}(\\boldsymbol{y}+\\alpha \\boldsymbol{\\iota})+\\boldsymbol{M_X}(\\boldsymbol{y}+\\alpha \\boldsymbol{\\iota})= \\boldsymbol{P_X}\\boldsymbol{y}+\\alpha \\boldsymbol{\\iota}+\\boldsymbol{M_X}\\boldsymbol{y}\n",
    "$$"
   ]
  },
  {
   "cell_type": "markdown",
   "metadata": {},
   "source": [
    "The $R^2_u$ is \n",
    "\n",
    "$$\n",
    "R^2_u = \\frac{\\|\\boldsymbol{P_X}\\boldsymbol{y}+\\alpha \\boldsymbol{\\iota}\\|^2}{\\|\\boldsymbol{y}+\\alpha \\boldsymbol{\\iota}\\|^2}\n",
    "$$"
   ]
  },
  {
   "cell_type": "markdown",
   "metadata": {},
   "source": [
    "Note that if $\\alpha\\rightarrow \\infty$ , $R^2_u$ converges to $1$."
   ]
  },
  {
   "cell_type": "markdown",
   "metadata": {},
   "source": [
    "However, if we project $\\boldsymbol{y}$ off $\\iota$, this won't be the case anymore, because $\\alpha$ doesn't exist in this case.\n",
    "\n",
    "$$\n",
    "R^2_c = \\frac{\\|\\boldsymbol{P_X}\\boldsymbol{M_\\iota}\\boldsymbol{y}\\|^2}{\\|\\boldsymbol{M_\\iota}\\boldsymbol{y}\\|^2}\n",
    "$$\n",
    "where $R^2_c$ means **centered** $R^2$."
   ]
  },
  {
   "cell_type": "markdown",
   "metadata": {},
   "source": [
    "## <font face=\"gotham\" color=\"purple\"> Visualizing $\\mathbf{R}^2_u$ and $\\mathbf{R}^2_c$ </font>"
   ]
  },
  {
   "cell_type": "markdown",
   "metadata": {},
   "source": [
    "Suppose $\\iota = (1,1,1)^T$, $\\boldsymbol{x} = (1,2,5)^T$ and $\\boldsymbol{y} = (2,1,10)^T$. We want to show that by adding $\\alpha\\boldsymbol{\\iota}$ onto $\\boldsymbol{y}$, the angle for calculating $R_u^2$ will change, in this case it becomes smaller, i.e. $R^2_u$ increases."
   ]
  },
  {
   "cell_type": "code",
   "execution_count": null,
   "metadata": {},
   "outputs": [],
   "source": [
    "x = np.array([1, 2, 5])\n",
    "y = np.array([2, 1, 10])\n",
    "iota = np.array([1, 1, 1])\n",
    "\n",
    "s = np.linspace(-5, 10, 10)\n",
    "t = np.linspace(-5, 10, 10)\n",
    "S, T = np.meshgrid(s, t)\n",
    "X = S + x[0]*T\n",
    "Y = S + x[1]*T\n",
    "Z = S + x[2]*T\n",
    "\n",
    "fig, ax = plt.subplots(figsize = (8, 8))\n",
    "ax = fig.add_subplot(projection='3d')\n",
    "ax.plot_surface(X, Y, Z, alpha = .3)\n",
    "\n",
    "\n",
    "y_vec = np.array([[0, 0, 0, y[0], y[1], y[2]]])\n",
    "X, Y, Z, U, V, W = zip(*y_vec)\n",
    "ax.quiver(X, Y, Z, U, V, W, length=1, normalize=False, color = 'red', alpha = 1,arrow_length_ratio = .08, pivot = 'tail',\n",
    "          linestyles = 'solid',linewidths = 3)\n",
    "\n",
    "x_vec = np.array([[0, 0, 0, x[0], x[1], x[2]]])\n",
    "X, Y, Z, U, V, W = zip(*x_vec)\n",
    "ax.quiver(X, Y, Z, U, V, W, length=1, normalize=False, color = 'blue', alpha = 1,arrow_length_ratio = .08, pivot = 'tail',\n",
    "          linestyles = 'solid',linewidths = 3)\n",
    "\n",
    "\n",
    "iota_vec = np.array([[0, 0, 0, iota[0], iota[1], iota[2]]])\n",
    "X, Y, Z, U, V, W = zip(*iota_vec)\n",
    "ax.quiver(X, Y, Z, U, V, W, length=1, normalize=False, color = 'blue', alpha = 1,arrow_length_ratio = .08, pivot = 'tail',\n",
    "          linestyles = 'solid',linewidths = 3)\n",
    "\n",
    "X = np.vstack((iota, x)).T\n",
    "Px_y = X@np.linalg.inv(X.T@X)@X.T@y\n",
    "Px_y_vec = np.array([[0, 0, 0, Px_y[0], Px_y[1], Px_y[2]]])\n",
    "X, Y, Z, U, V, W = zip(*Px_y_vec)\n",
    "ax.quiver(X, Y, Z, U, V, W, length=1, normalize=False, color = 'aqua', alpha = 1,arrow_length_ratio = .08, pivot = 'tail',\n",
    "          linestyles = 'solid',linewidths = 3)\n",
    "##################################################################\n",
    "\n",
    "alpha = 5\n",
    "alpha_iota = np.array([alpha, alpha, alpha])\n",
    "alpha_iota_vec = np.array([[0, 0, 0, alpha_iota[0], alpha_iota[1], alpha_iota[2]]])\n",
    "X, Y, Z, U, V, W = zip(*alpha_iota_vec)\n",
    "ax.quiver(X, Y, Z, U, V, W, length=1, normalize=False, color = 'blue', alpha = .5,arrow_length_ratio = .08, pivot = 'tail',\n",
    "          linestyles = 'solid',linewidths = 3)\n",
    "\n",
    "yhat_plus_ai = Px_y + alpha_iota\n",
    "yhat_plus_ai_vec = np.array([[0, 0, 0, yhat_plus_ai[0], yhat_plus_ai[1], yhat_plus_ai[2]]])\n",
    "X, Y, Z, U, V, W = zip(*yhat_plus_ai_vec)\n",
    "ax.quiver(X, Y, Z, U, V, W, length=1, normalize=False, color = 'Darkorange', alpha = 1,arrow_length_ratio = .04, pivot = 'tail',\n",
    "          linestyles = 'solid',linewidths = 3)\n",
    "\n",
    "y_plus_ai = y + alpha_iota\n",
    "y_plus_ai_vec = np.array([[0, 0, 0, y_plus_ai[0], y_plus_ai[1], y_plus_ai[2]]])\n",
    "X, Y, Z, U, V, W = zip(*y_plus_ai_vec)\n",
    "ax.quiver(X, Y, Z, U, V, W, length=1, normalize=False, color = 'Green', alpha = 1,arrow_length_ratio = .04, pivot = 'tail',\n",
    "          linestyles = 'solid',linewidths = 3)\n",
    "\n",
    "##################################################################\n",
    "## y to yhat ##\n",
    "point1 = [Px_y[0], Px_y[1], Px_y[2]]\n",
    "point2 = [y[0], y[1], y[2]]\n",
    "line1 = np.array([point1, point2])\n",
    "ax.plot(line1[:,0], line1[:,1], line1[:, 2], c = 'b', lw = 1.5,alpha =0.8, ls = '--')\n",
    "\n",
    "## yhat+(alpha*iota) to yhat ##\n",
    "point1 = [yhat_plus_ai[0], yhat_plus_ai[1], yhat_plus_ai[2]]\n",
    "point2 = [Px_y[0], Px_y[1], Px_y[2]]\n",
    "line1 = np.array([point1, point2])\n",
    "ax.plot(line1[:,0], line1[:,1], line1[:, 2], c = 'b', lw = 1.5,alpha =0.8, ls = '--')\n",
    "\n",
    "## yhat+(alpha*iota) to alpha*iota ##\n",
    "point1 = [yhat_plus_ai[0], yhat_plus_ai[1], yhat_plus_ai[2]]\n",
    "point2 = [alpha_iota[0], alpha_iota[1], alpha_iota[2]]\n",
    "line1 = np.array([point1, point2])\n",
    "ax.plot(line1[:,0], line1[:,1], line1[:, 2], c = 'b', lw = 1.5,alpha =0.8, ls = '--')\n",
    "\n",
    "## y to y+(alpha*iota) ##\n",
    "point1 = [y[0], y[1], y[2]]\n",
    "point2 = [y_plus_ai[0], y_plus_ai[1], y_plus_ai[2]]\n",
    "line1 = np.array([point1, point2])\n",
    "ax.plot(line1[:,0], line1[:,1], line1[:, 2], c = 'b', lw = 1.5,alpha =0.8, ls = '--')\n",
    "\n",
    "## alpha*iota to y+(alpha*iota) ##\n",
    "point1 = [alpha_iota[0], alpha_iota[1], alpha_iota[2]]\n",
    "point2 = [y_plus_ai[0], y_plus_ai[1], y_plus_ai[2]]\n",
    "line1 = np.array([point1, point2])\n",
    "ax.plot(line1[:,0], line1[:,1], line1[:, 2], c = 'b', lw = 1.5,alpha =0.8, ls = '--')\n",
    "\n",
    "#####################################################################\n",
    "ax.text(alpha_iota[0], alpha_iota[1],alpha_iota[2], r'$\\alpha \\iota$', size = 18)\n",
    "ax.text(iota[0], iota[1],iota[2], r'$\\iota$', size = 18)\n",
    "ax.text(x[0], x[1],x[2], r'$x$', size = 18)\n",
    "ax.text(y[0], y[1],y[2], r'$y$', size = 18)\n",
    "ax.text(Px_y[0], Px_y[1], Px_y[2], r'$\\hat{y}$', size = 18)\n",
    "ax.text(yhat_plus_ai[0], yhat_plus_ai[1], yhat_plus_ai[2], r'$\\hat{y}+\\alpha \\iota$', size = 18)\n",
    "ax.text(y_plus_ai[0], y_plus_ai[1], y_plus_ai[2], r'$y+\\alpha \\iota$', size = 18)\n",
    "\n",
    "for i in ['x', 'y', 'z']:\n",
    "    exec('ax.set_'+i+'lim3d(0, 15)')\n",
    "    \n",
    "ax.set_title(r'Geometric Mechanism of $\\mathbf{R}^2_u$ and $\\mathbf{R}^2_c$', fontsize = 17)\n",
    "ax.set_xlabel('X-axis'),ax.set_ylabel('Y-axis'),ax.set_zlabel('Z-axis')\n",
    "\n",
    "ax.view_init(0, -35)"
   ]
  },
  {
   "cell_type": "markdown",
   "metadata": {},
   "source": [
    "We can see from the graph above, the initial angle for $R^2_u$ is formed by vector $\\boldsymbol{y}$ and $\\boldsymbol{\\hat{y}}$, after adding $\\alpha\\boldsymbol{\\iota}$, the angle is formed by $\\boldsymbol{y}+\\alpha\\boldsymbol{\\iota}$ and $\\boldsymbol{\\hat{y}}+\\alpha\\boldsymbol{\\iota}$. Let's evaluate the $\\cos^2 {\\vartheta}$ with numerical values in the graph.\n",
    "\n",
    "Recall that we have a formula\n",
    "\n",
    "$$\n",
    "\\mathbf{u}\\cdot \\mathbf{v} =\\|\\mathbf{u}\\|\\|\\mathbf{v}\\|\\cos{\\vartheta}\n",
    "$$"
   ]
  },
  {
   "cell_type": "code",
   "execution_count": null,
   "metadata": {},
   "outputs": [],
   "source": [
    "cos_theta = np.inner(y, Px_y)/(np.linalg.norm(y)*np.linalg.norm(Px_y))\n",
    "print('The coefficient of determinant before addition is {0:.3f}.'.format(cos_theta**2))"
   ]
  },
  {
   "cell_type": "code",
   "execution_count": null,
   "metadata": {},
   "outputs": [],
   "source": [
    "cos_theta = np.inner(y_plus_ai, yhat_plus_ai)/(np.linalg.norm(y_plus_ai)*np.linalg.norm(yhat_plus_ai))\n",
    "print('The coefficient of determinant after addition is {0:.3f}.'.format(cos_theta**2))"
   ]
  },
  {
   "cell_type": "markdown",
   "metadata": {},
   "source": [
    "The $R^2_u$ before and after the addition shows that adding constants onto $\\boldsymbol{y}$ can change the value of $\\cos^2{\\vartheta}$.\n",
    "\n",
    "Therefore, take precautions since you know that $R^2_u$ is not reliable in certain circumstances."
   ]
  },
  {
   "cell_type": "markdown",
   "metadata": {},
   "source": [
    "But now we need to show how to solve this problem by using $R_c^2$."
   ]
  },
  {
   "cell_type": "code",
   "execution_count": null,
   "metadata": {},
   "outputs": [],
   "source": [
    "x = np.array([1, 2, 5])\n",
    "y = np.array([2, 1, 10])\n",
    "iota = np.array([1, 1, 1])\n",
    "\n",
    "s = np.linspace(-8, 10, 10)\n",
    "t = np.linspace(-8, 10, 10)\n",
    "S, T = np.meshgrid(s, t)\n",
    "X = S + x[0]*T\n",
    "Y = S + x[1]*T\n",
    "Z = S + x[2]*T\n",
    "\n",
    "fig, ax = plt.subplots(figsize = (8, 8))\n",
    "ax = fig.add_subplot(projection='3d')\n",
    "ax.plot_surface(X, Y, Z, alpha = .3)\n",
    "\n",
    "\n",
    "y_vec = np.array([[0, 0, 0, y[0], y[1], y[2]]])\n",
    "X, Y, Z, U, V, W = zip(*y_vec)\n",
    "ax.quiver(X, Y, Z, U, V, W, length=1, normalize=False, color = 'red', alpha = 1,arrow_length_ratio = .08, pivot = 'tail',\n",
    "          linestyles = 'solid',linewidths = 3)\n",
    "\n",
    "X = np.vstack((iota, x)).T\n",
    "Px_y = X@np.linalg.inv(X.T@X)@X.T@y\n",
    "Px_y_vec = np.array([[0, 0, 0, Px_y[0], Px_y[1], Px_y[2]]])\n",
    "X, Y, Z, U, V, W = zip(*Px_y_vec)\n",
    "ax.quiver(X, Y, Z, U, V, W, length=1, normalize=False, color = 'aqua', alpha = 1,arrow_length_ratio = .08, pivot = 'tail',\n",
    "          linestyles = 'solid',linewidths = 3)\n",
    "##################################################################\n",
    "\n",
    "alpha = 5\n",
    "alpha_iota = np.array([alpha, alpha, alpha])\n",
    "alpha_iota_vec = np.array([[0, 0, 0, alpha_iota[0], alpha_iota[1], alpha_iota[2]]])\n",
    "X, Y, Z, U, V, W = zip(*alpha_iota_vec)\n",
    "ax.quiver(X, Y, Z, U, V, W, length=1, normalize=False, color = 'blue', alpha = .5,arrow_length_ratio = .08, pivot = 'tail',\n",
    "          linestyles = 'solid',linewidths = 3)\n",
    "\n",
    "yhat_plus_ai = Px_y + alpha_iota\n",
    "yhat_plus_ai_vec = np.array([[0, 0, 0, yhat_plus_ai[0], yhat_plus_ai[1], yhat_plus_ai[2]]])\n",
    "X, Y, Z, U, V, W = zip(*yhat_plus_ai_vec)\n",
    "ax.quiver(X, Y, Z, U, V, W, length=1, normalize=False, color = 'Darkorange', alpha = 1,arrow_length_ratio = .04, pivot = 'tail',\n",
    "          linestyles = 'solid',linewidths = 3)\n",
    "\n",
    "y_plus_ai = y + alpha_iota\n",
    "y_plus_ai_vec = np.array([[0, 0, 0, y_plus_ai[0], y_plus_ai[1], y_plus_ai[2]]])\n",
    "X, Y, Z, U, V, W = zip(*y_plus_ai_vec)\n",
    "ax.quiver(X, Y, Z, U, V, W, length=1, normalize=False, color = 'Green', alpha = 1,arrow_length_ratio = .04, pivot = 'tail',\n",
    "          linestyles = 'solid',linewidths = 3)\n",
    "\n",
    "iota = iota[:,np.newaxis]\n",
    "M_iota_y = (np.eye(3,3) - iota@np.linalg.inv(iota.T@iota)@iota.T)@y\n",
    "M_iota_y_vec = np.array([[0, 0, 0, M_iota_y[0], M_iota_y[1], M_iota_y[2]]])\n",
    "X, Y, Z, U, V, W = zip(*M_iota_y_vec)\n",
    "ax.quiver(X, Y, Z, U, V, W, length=1, normalize=False, color = 'SteelBlue', alpha = 1,arrow_length_ratio = .08, pivot = 'tail',\n",
    "          linestyles = 'solid',linewidths = 3)\n",
    "\n",
    "x = np.array([1, 2, 5])\n",
    "iota = np.array([1, 1, 1])\n",
    "X = np.vstack((iota, x)).T\n",
    "Px_M_iota_y = X@np.linalg.inv(X.T@X)@X.T@M_iota_y\n",
    "Px_M_iota_y_vec = np.array([[0, 0, 0, Px_M_iota_y[0], Px_M_iota_y[1], Px_M_iota_y[2]]])\n",
    "X, Y, Z, U, V, W = zip(*Px_M_iota_y_vec)\n",
    "ax.quiver(X, Y, Z, U, V, W, length=1, normalize=False, color = 'Teal', alpha = 1,arrow_length_ratio = .08, pivot = 'tail',\n",
    "          linestyles = 'solid',linewidths = 3)\n",
    "##################################################################\n",
    "## y to yhat ##\n",
    "point1 = [Px_y[0], Px_y[1], Px_y[2]]\n",
    "point2 = [y[0], y[1], y[2]]\n",
    "line1 = np.array([point1, point2])\n",
    "ax.plot(line1[:,0], line1[:,1], line1[:, 2], c = 'b', lw = 1.5,alpha =0.8, ls = '--')\n",
    "\n",
    "## yhat+(alpha*iota) to yhat ##\n",
    "point1 = [yhat_plus_ai[0], yhat_plus_ai[1], yhat_plus_ai[2]]\n",
    "point2 = [Px_y[0], Px_y[1], Px_y[2]]\n",
    "line1 = np.array([point1, point2])\n",
    "ax.plot(line1[:,0], line1[:,1], line1[:, 2], c = 'b', lw = 1.5,alpha =0.8, ls = '--')\n",
    "\n",
    "## yhat+(alpha*iota) to alpha*iota ##\n",
    "point1 = [yhat_plus_ai[0], yhat_plus_ai[1], yhat_plus_ai[2]]\n",
    "point2 = [alpha_iota[0], alpha_iota[1], alpha_iota[2]]\n",
    "line1 = np.array([point1, point2])\n",
    "ax.plot(line1[:,0], line1[:,1], line1[:, 2], c = 'b', lw = 1.5,alpha =0.8, ls = '--')\n",
    "\n",
    "## y to y+(alpha*iota) ##\n",
    "point1 = [y[0], y[1], y[2]]\n",
    "point2 = [y_plus_ai[0], y_plus_ai[1], y_plus_ai[2]]\n",
    "line1 = np.array([point1, point2])\n",
    "ax.plot(line1[:,0], line1[:,1], line1[:, 2], c = 'b', lw = 1.5,alpha =0.8, ls = '--')\n",
    "\n",
    "## alpha*iota to y+(alpha*iota) ##\n",
    "point1 = [alpha_iota[0], alpha_iota[1], alpha_iota[2]]\n",
    "point2 = [y_plus_ai[0], y_plus_ai[1], y_plus_ai[2]]\n",
    "line1 = np.array([point1, point2])\n",
    "ax.plot(line1[:,0], line1[:,1], line1[:, 2], c = 'b', lw = 1.5,alpha =0.8, ls = '--')\n",
    "\n",
    "#####################################################################\n",
    "ax.text(alpha_iota[0], alpha_iota[1],alpha_iota[2], r'$\\alpha \\iota$', size = 18)\n",
    "ax.text(y[0], y[1],y[2], r'$y$', size = 18)\n",
    "ax.text(Px_y[0], Px_y[1], Px_y[2], r'$\\hat{y}$', size = 18)\n",
    "ax.text(yhat_plus_ai[0], yhat_plus_ai[1], yhat_plus_ai[2], r'$\\hat{y}+\\alpha \\iota$', size = 18)\n",
    "ax.text(y_plus_ai[0], y_plus_ai[1], y_plus_ai[2], r'$y+\\alpha \\iota$', size = 18)\n",
    "ax.text(M_iota_y[0], M_iota_y[1], M_iota_y[2], r'$M_\\iota y$', size = 18)\n",
    "ax.text(Px_M_iota_y[0], Px_M_iota_y[1], Px_M_iota_y[2], r'$P_X M_\\iota y$', size = 18)\n",
    "\n",
    "for i in ['x', 'y', 'z']:\n",
    "    exec('ax.set_'+i+'lim3d(0, 15)')\n",
    "    \n",
    "ax.set_title(r'Geometric Mechanism of $\\mathbf{R}^2_u$ and $\\mathbf{R}^2_c$', fontsize = 17)\n",
    "ax.set_xlabel('X-axis'),ax.set_ylabel('Y-axis'),ax.set_zlabel('Z-axis')\n",
    "\n",
    "ax.view_init(-64, -48)"
   ]
  },
  {
   "cell_type": "markdown",
   "metadata": {},
   "source": [
    "Once we have project $\\boldsymbol{y}$ off $\\boldsymbol{\\iota}$, the angle $\\vartheta$ will be preserved, no matter what contants being added onto $\\boldsymbol{y}$, we can also show this algebreically\n",
    "\n",
    "$$\n",
    "R^2_c = \\frac{\\|\\boldsymbol{P_X}\\boldsymbol{M_\\iota}(\\boldsymbol{y}+\\alpha\\iota)\\|^2}{\\|\\boldsymbol{M_\\iota}(\\boldsymbol{y}+\\alpha\\iota)\\|^2}= \\frac{\\|\\boldsymbol{P_X}\\boldsymbol{M_\\iota}\\boldsymbol{y}\\|^2}{\\|\\boldsymbol{M_\\iota}\\boldsymbol{y}\\|^2}\n",
    "$$"
   ]
  },
  {
   "cell_type": "markdown",
   "metadata": {},
   "source": [
    "Nevertheless, the $R^2_c$ does not make sense when there is no constant term. \n",
    "\n",
    "Again, when the estimates are other than OLS, say $\\tilde{\\beta}$, Pythagoras' Theorem will not hold, sometimes $R^2$ might be even higher than $1$ or lower than $0$."
   ]
  },
  {
   "cell_type": "code",
   "execution_count": null,
   "metadata": {},
   "outputs": [],
   "source": [
    "x = np.array([1, 2, 5])\n",
    "y = np.array([2, 1, 10])\n",
    "iota = np.array([1, 1, 1])\n",
    "e2 = np.array([0, 1, 0])\n",
    "X = np.vstack((iota, x, e2)).T"
   ]
  },
  {
   "cell_type": "code",
   "execution_count": null,
   "metadata": {},
   "outputs": [],
   "source": [
    "np.linalg.inv(X.T@X)@X.T@y"
   ]
  },
  {
   "cell_type": "markdown",
   "metadata": {},
   "source": [
    "## <font face=\"gotham\" color=\"purple\"> Adjusted $\\mathbf{R}^2$ </font>"
   ]
  },
  {
   "cell_type": "markdown",
   "metadata": {},
   "source": [
    "In general, $R^2$ is a misleading indicator, it is easy to lose the insight of it. And one problem the beginners facing constantly is that adding explanatory variables can reward you by gaining higher $R_u^2$ or $R_c^2$.\n",
    "\n",
    "It is easy to imagine the geometry why this is the case. Adding one variable means the $\\text{Span}(X)$ is also adding one dimension, the new $\\text{Span}(X^+)$ will be orthogonally closer to $\\boldsymbol{y}$, i.e. larger $ESS$ and smaller $RSS$. To neutralize this phenomenon, we invented $\\bar{R}^2$, the adjusted $R^2$.\n",
    "\n",
    "In OLS, $\\bar{R}^2$ can be negative, which signals a very poor fit.\n",
    "\n",
    "The formula of $\\bar{R}^{2}$ is"
   ]
  },
  {
   "cell_type": "markdown",
   "metadata": {},
   "source": [
    "$$\\bar{R}^{2} \\equiv 1-\\frac{\\frac{1}{n-k} \\sum_{t=1}^{n} \\hat{u}_{t}^{2}}{\\frac{1}{n-1} \\sum_{t=1}^{n}\\left(y_{t}-\\bar{y}\\right)^{2}}=1-\\frac{(n-1) \\boldsymbol{y}^{\\top} \\boldsymbol{M}_{\\boldsymbol{X}} \\boldsymbol{y}}{(n-k) \\boldsymbol{y}^{\\top} \\boldsymbol{M}_{\\iota} \\boldsymbol{y}}$$"
   ]
  },
  {
   "cell_type": "markdown",
   "metadata": {},
   "source": [
    "The numerator and denominator of $R_c^2$ were replaced by its unbiased estimator, there is no need to derive it, accept it as a fact."
   ]
  },
  {
   "cell_type": "markdown",
   "metadata": {},
   "source": [
    "# <font face=\"gotham\" color=\"purple\"> The Diagonal of $\\boldsymbol{P_X}$ </font>"
   ]
  },
  {
   "cell_type": "markdown",
   "metadata": {},
   "source": [
    "We denote the $t^{th}$ diagonal element of $\\boldsymbol{P_X}$ as $h_t$. \n",
    "\n",
    "$$\n",
    "h_t = \\boldsymbol{e}_t^T\\boldsymbol{P_X}\\boldsymbol{e}_t =(\\boldsymbol{P_X}\\boldsymbol{e}_1)^T(\\boldsymbol{P_X}\\boldsymbol{e}_1)= \\|\\boldsymbol{P_X}\\boldsymbol{e}_t\\|^2\n",
    "$$"
   ]
  },
  {
   "cell_type": "markdown",
   "metadata": {},
   "source": [
    "where $\\boldsymbol{e}_t$ means the $t^{th}$ element is $1$ and rest are $0$'s."
   ]
  },
  {
   "cell_type": "markdown",
   "metadata": {},
   "source": [
    "From last equation, we can tell that $0 \\leq h_t$, also because $\\|\\boldsymbol{P_X}\\boldsymbol{e}_t\\|<\\|\\boldsymbol{e}_t\\|$ and  $\\|\\boldsymbol{e}_t\\|=1$.So we pin down the range of $h_t$:\n",
    "\n",
    "$$0 \\leq h_t < 1$$"
   ]
  }
 ],
 "metadata": {
  "kernelspec": {
   "display_name": "Python 3 (ipykernel)",
   "language": "python",
   "name": "python3"
  },
  "language_info": {
   "codemirror_mode": {
    "name": "ipython",
    "version": 3
   },
   "file_extension": ".py",
   "mimetype": "text/x-python",
   "name": "python",
   "nbconvert_exporter": "python",
   "pygments_lexer": "ipython3",
   "version": "3.9.7"
  },
  "toc": {
   "base_numbering": 1,
   "nav_menu": {},
   "number_sections": true,
   "sideBar": true,
   "skip_h1_title": false,
   "title_cell": "Table of Contents",
   "title_sidebar": "Contents",
   "toc_cell": false,
   "toc_position": {
    "height": "calc(100% - 180px)",
    "left": "10px",
    "top": "150px",
    "width": "165px"
   },
   "toc_section_display": true,
   "toc_window_display": false
  }
 },
 "nbformat": 4,
 "nbformat_minor": 4
}
